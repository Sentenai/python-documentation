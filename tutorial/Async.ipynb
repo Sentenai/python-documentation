{
 "cells": [
  {
   "cell_type": "code",
   "execution_count": 1,
   "metadata": {},
   "outputs": [],
   "source": [
    "# Get credentials\n",
    "from IPython.utils import io\n",
    "with io.capture_output() as captured:\n",
    "    %run ../Introduction.ipynb"
   ]
  },
  {
   "cell_type": "markdown",
   "metadata": {},
   "source": [
    "# Bulk data loading\n",
    "\n",
    "Sentenai's REST API provides transactional event logging optimized for many parallel event loggers sending data with minimal latency. Unfortunately, normal logging performance doesn't get the benefits of this optimization because there's no inherent parallelism. To solve this, Sentenai's client provides a thread pool system for background logging, as well as synchronization mechanisms to ensure waiting for a finished job."
   ]
  },
  {
   "cell_type": "code",
   "execution_count": 2,
   "metadata": {},
   "outputs": [],
   "source": [
    "# Instantiate client\n",
    "from sentenai import Client\n",
    "sentenai = Client(host, auth)"
   ]
  },
  {
   "cell_type": "markdown",
   "metadata": {},
   "source": [
    "---\n",
    "## Creating a logger\n",
    "\n",
    "Using a with statement, we can create a new logger:"
   ]
  },
  {
   "cell_type": "code",
   "execution_count": 3,
   "metadata": {},
   "outputs": [],
   "source": [
    "with sentenai.logger as logger:\n",
    "    pass"
   ]
  },
  {
   "cell_type": "markdown",
   "metadata": {},
   "source": [
    "#### Creating a logger with a non-default number of workers"
   ]
  },
  {
   "cell_type": "code",
   "execution_count": 4,
   "metadata": {},
   "outputs": [],
   "source": [
    "with sentenai.logger(workers=2) as logger:\n",
    "    pass"
   ]
  },
  {
   "cell_type": "markdown",
   "metadata": {},
   "source": [
    "#### Actually logging data"
   ]
  },
  {
   "cell_type": "code",
   "execution_count": 5,
   "metadata": {},
   "outputs": [
    {
     "name": "stdout",
     "output_type": "stream",
     "text": [
      "0:00:12.510579\n"
     ]
    }
   ],
   "source": [
    "from sentenai.stream.events import Event\n",
    "from datetime import datetime\n",
    "\n",
    "ls = sentenai.streams['test-logger']\n",
    "\n",
    "t0 = datetime.utcnow()\n",
    "with sentenai.logger as logger:\n",
    "    for x in range(250):\n",
    "        logger(ls, Event(data={'i': x}))\n",
    "print(datetime.utcnow() - t0)\n",
    "        "
   ]
  },
  {
   "cell_type": "markdown",
   "metadata": {},
   "source": [
    "The with block won't exit until all data has been dealt with by workers."
   ]
  },
  {
   "cell_type": "code",
   "execution_count": null,
   "metadata": {},
   "outputs": [],
   "source": []
  }
 ],
 "metadata": {
  "kernelspec": {
   "display_name": "Python 3",
   "language": "python",
   "name": "python3"
  },
  "language_info": {
   "codemirror_mode": {
    "name": "ipython",
    "version": 3
   },
   "file_extension": ".py",
   "mimetype": "text/x-python",
   "name": "python",
   "nbconvert_exporter": "python",
   "pygments_lexer": "ipython3",
   "version": "3.7.1"
  }
 },
 "nbformat": 4,
 "nbformat_minor": 2
}
