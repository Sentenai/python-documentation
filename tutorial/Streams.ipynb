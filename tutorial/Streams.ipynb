{
 "cells": [
  {
   "cell_type": "code",
   "execution_count": 3,
   "metadata": {
    "jupyter": {
     "source_hidden": true
    },
    "tags": []
   },
   "outputs": [],
   "source": [
    "# Get credentials\n",
    "from IPython.utils import io\n",
    "with io.capture_output() as captured:\n",
    "    %run ../Introduction.ipynb\n",
    "    \n",
    "from datetime import datetime, timedelta\n",
    "from sentenai import Sentenai\n",
    "sentenai = Sentenai(host=host, port=port)"
   ]
  },
  {
   "cell_type": "markdown",
   "metadata": {},
   "source": [
    "# Streams\n",
    "\n",
    "Streams in Sentenai are equivalent to a single-column in a database table, indexed by time range instead of a primary key.\n",
    "\n",
    "A stream is characterized by having:\n",
    "* A unique path\n",
    "* A type\n",
    "* Metadata\n",
    "* Stats\n",
    "* Data"
   ]
  },
  {
   "cell_type": "markdown",
   "metadata": {
    "tags": []
   },
   "source": [
    "## Unique Path\n",
    "\n",
    "A stream's unique path is accessed via its stream representation:"
   ]
  },
  {
   "cell_type": "code",
   "execution_count": 2,
   "metadata": {},
   "outputs": [
    {
     "name": "stdout",
     "output_type": "stream",
     "text": [
      "test-2/Boston\n"
     ]
    }
   ],
   "source": [
    "print(sentenai['test-2']['Boston'])"
   ]
  },
  {
   "cell_type": "markdown",
   "metadata": {},
   "source": [
    "This path is formatted such that it can be included in template strings when writing programs using TSPL, Sentenai's stream processing language."
   ]
  },
  {
   "cell_type": "markdown",
   "metadata": {},
   "source": [
    "## Types\n",
    "A stream's \"type\", as determined by Sentenai, can be found by accessing the stream's type property:"
   ]
  },
  {
   "cell_type": "code",
   "execution_count": 5,
   "metadata": {},
   "outputs": [
    {
     "data": {
      "text/plain": [
       "'event'"
      ]
     },
     "execution_count": 5,
     "metadata": {},
     "output_type": "execute_result"
    }
   ],
   "source": [
    "sentenai['test-2']['Boston'].type"
   ]
  },
  {
   "cell_type": "markdown",
   "metadata": {},
   "source": [
    "The type `'event'` indicates this stream is an event stream. Event streams are inner nodes on the tree, where as leaves will tend to (but not always!) have non-event types that mark the stream as a value stream."
   ]
  },
  {
   "cell_type": "code",
   "execution_count": 9,
   "metadata": {},
   "outputs": [
    {
     "data": {
      "text/plain": [
       "'float'"
      ]
     },
     "execution_count": 9,
     "metadata": {},
     "output_type": "execute_result"
    }
   ],
   "source": [
    "sentenai['test-2']['Boston']['53']['Humidity'].type"
   ]
  },
  {
   "cell_type": "markdown",
   "metadata": {},
   "source": [
    "## Metadata\n",
    "\n",
    "Sentenai supports per-stream metadata. To access a stream's metadata, you can use the `.meta` sub-object, which is another dictionary-like type:"
   ]
  },
  {
   "cell_type": "code",
   "execution_count": 10,
   "metadata": {},
   "outputs": [
    {
     "data": {
      "text/html": [
       "<div>\n",
       "<style scoped>\n",
       "    .dataframe tbody tr th:only-of-type {\n",
       "        vertical-align: middle;\n",
       "    }\n",
       "\n",
       "    .dataframe tbody tr th {\n",
       "        vertical-align: top;\n",
       "    }\n",
       "\n",
       "    .dataframe thead th {\n",
       "        text-align: right;\n",
       "    }\n",
       "</style>\n",
       "<table border=\"1\" class=\"dataframe\">\n",
       "  <thead>\n",
       "    <tr style=\"text-align: right;\">\n",
       "      <th></th>\n",
       "    </tr>\n",
       "  </thead>\n",
       "  <tbody>\n",
       "  </tbody>\n",
       "</table>\n",
       "</div>"
      ],
      "text/plain": [
       "Stream(Streams(Sentenai(host=\"http://localhost:4444\"), \"test-2\"), 'Boston').metadata"
      ]
     },
     "execution_count": 10,
     "metadata": {},
     "output_type": "execute_result"
    }
   ],
   "source": [
    "sentenai['test-2']['Boston'].meta"
   ]
  },
  {
   "cell_type": "markdown",
   "metadata": {},
   "source": [
    "To add metadata to a stream, you can set a key with a value. Sentenai supports typed metadata, so you can insert metadata as numbers, strings, dates, booleans, and more."
   ]
  },
  {
   "cell_type": "code",
   "execution_count": 12,
   "metadata": {},
   "outputs": [],
   "source": [
    "sentenai['test-2']['Boston'].meta['cold'] = True"
   ]
  },
  {
   "cell_type": "markdown",
   "metadata": {},
   "source": [
    "Metadata retrieval uses the same item-getter method:"
   ]
  },
  {
   "cell_type": "code",
   "execution_count": 14,
   "metadata": {},
   "outputs": [
    {
     "data": {
      "text/plain": [
       "True"
      ]
     },
     "execution_count": 14,
     "metadata": {},
     "output_type": "execute_result"
    }
   ],
   "source": [
    "sentenai['test-2']['Boston'].meta['cold']"
   ]
  },
  {
   "cell_type": "markdown",
   "metadata": {},
   "source": [
    "And just like a dictionary, metadata can be iterated on:"
   ]
  },
  {
   "cell_type": "code",
   "execution_count": 5,
   "metadata": {},
   "outputs": [
    {
     "name": "stdout",
     "output_type": "stream",
     "text": [
      "cold:\tTrue\n"
     ]
    }
   ],
   "source": [
    "for key, value in sentenai['test-2']['Boston'].meta.items():\n",
    "    print(key, value, sep=\":\\t\")"
   ]
  },
  {
   "cell_type": "markdown",
   "metadata": {},
   "source": [
    "Deleting a metadata value can also be done by key:"
   ]
  },
  {
   "cell_type": "code",
   "execution_count": 9,
   "metadata": {},
   "outputs": [
    {
     "data": {
      "text/plain": [
       "False"
      ]
     },
     "execution_count": 9,
     "metadata": {},
     "output_type": "execute_result"
    }
   ],
   "source": [
    "del sentenai['test-2']['Boston'].meta['cold']\n",
    "'cold' in sentenai['test-2']['Boston'].meta"
   ]
  },
  {
   "cell_type": "markdown",
   "metadata": {},
   "source": [
    "## Stats\n",
    "\n",
    "Sentenai supports calculating various statistics over each value stream. These statistics can be calculated over all values in the stream, or over a subset of data within the stream. Example:"
   ]
  },
  {
   "cell_type": "code",
   "execution_count": 9,
   "metadata": {},
   "outputs": [
    {
     "data": {
      "text/plain": [
       "0.51612854"
      ]
     },
     "execution_count": 9,
     "metadata": {},
     "output_type": "execute_result"
    }
   ],
   "source": [
    "sentenai['test-2']['Boston', '53', 'Humidity'].stats.mean"
   ]
  },
  {
   "cell_type": "markdown",
   "metadata": {},
   "source": [
    "* Numeric types support `mean`, `min`, `max`, `sum`, `mean`, and `std`.\n",
    "* All types support `count` and `top`.\n",
    "* Boolean types support `any` and `all`\n",
    "\n",
    "All types support time range slicing:"
   ]
  },
  {
   "cell_type": "code",
   "execution_count": 11,
   "metadata": {},
   "outputs": [
    {
     "data": {
      "text/plain": [
       "0.51612854"
      ]
     },
     "execution_count": 11,
     "metadata": {},
     "output_type": "execute_result"
    }
   ],
   "source": [
    "sentenai['test-2']['Boston', '53', 'Humidity'].stats[datetime(2020, 1, 1) : datetime(2020, 1, 2)].mean"
   ]
  },
  {
   "cell_type": "markdown",
   "metadata": {},
   "source": [
    "## Data\n",
    "\n",
    "The `.data` property of each stream support data retrieval over a range of time."
   ]
  },
  {
   "cell_type": "code",
   "execution_count": 15,
   "metadata": {},
   "outputs": [
    {
     "data": {
      "text/plain": [
       "[{'start': numpy.datetime64('2020-01-01T02:00:00'),\n",
       "  'value': 0.9294579,\n",
       "  'end': numpy.datetime64('2020-01-01T02:00:00')},\n",
       " {'start': numpy.datetime64('2020-01-01T02:00:00'),\n",
       "  'value': 0.8240803,\n",
       "  'end': numpy.datetime64('2020-01-01T02:01:00')},\n",
       " {'start': numpy.datetime64('2020-01-01T02:01:00'),\n",
       "  'value': 0.63314134,\n",
       "  'end': numpy.datetime64('2020-01-01T02:01:00')},\n",
       " {'start': numpy.datetime64('2020-01-01T02:01:00'),\n",
       "  'value': 0.03078459,\n",
       "  'end': numpy.datetime64('2020-01-01T02:02:00')},\n",
       " {'start': numpy.datetime64('2020-01-01T02:02:00'),\n",
       "  'value': 0.30318394,\n",
       "  'end': numpy.datetime64('2020-01-01T02:02:00')}]"
      ]
     },
     "execution_count": 15,
     "metadata": {},
     "output_type": "execute_result"
    }
   ],
   "source": [
    "sentenai['test-2']['Boston', '53', 'Humidity'].data[::5]"
   ]
  },
  {
   "cell_type": "code",
   "execution_count": null,
   "metadata": {},
   "outputs": [],
   "source": []
  }
 ],
 "metadata": {
  "kernelspec": {
   "display_name": "Python 3 (ipykernel)",
   "language": "python",
   "name": "python3"
  },
  "language_info": {
   "codemirror_mode": {
    "name": "ipython",
    "version": 3
   },
   "file_extension": ".py",
   "mimetype": "text/x-python",
   "name": "python",
   "nbconvert_exporter": "python",
   "pygments_lexer": "ipython3",
   "version": "3.9.9"
  }
 },
 "nbformat": 4,
 "nbformat_minor": 4
}
