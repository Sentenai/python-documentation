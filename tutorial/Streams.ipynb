{
 "cells": [
  {
   "cell_type": "code",
   "execution_count": 1,
   "metadata": {},
   "outputs": [],
   "source": [
    "# Get credentials\n",
    "from IPython.utils import io\n",
    "with io.capture_output() as captured:\n",
    "    %run ../Introduction.ipynb\n",
    "    \n",
    "# Instantiate client\n",
    "from sentenai import Client, Event\n",
    "sentenai = Client(host, auth)\n",
    "\n",
    "from datetime import datetime, timedelta"
   ]
  },
  {
   "cell_type": "markdown",
   "metadata": {},
   "source": [
    "# Event Streams\n",
    "\n",
    "Within the event stream API, the collection of event streams is represented as a dictionary-like Streams object with each stream name as the key."
   ]
  },
  {
   "cell_type": "code",
   "execution_count": 7,
   "metadata": {},
   "outputs": [
    {
     "data": {
      "text/plain": [
       "{'1-14-2013_metlog': Stream(name='1-14-2013_metlog'),\n",
       " '1-16-2013_P-MALUS_Met_Log': Stream(name='1-16-2013_P-MALUS_Met_Log'),\n",
       " '1-16-2013_P-MALUS_Met_Log2': Stream(name='1-16-2013_P-MALUS_Met_Log2'),\n",
       " '1-16-2013_P-MALUS_Met_Log3': Stream(name='1-16-2013_P-MALUS_Met_Log3'),\n",
       " '20130123_MetLog_SMEOS_IndiaTowerTestTA1': Stream(name='20130123_MetLog_SMEOS_IndiaTowerTestTA1'),\n",
       " '20130124_MetLog_SMEOS_IndiaTowerTestTA1': Stream(name='20130124_MetLog_SMEOS_IndiaTowerTestTA1'),\n",
       " '20130128_MetLog_SMEOS_IndiaTowerTestTA1': Stream(name='20130128_MetLog_SMEOS_IndiaTowerTestTA1'),\n",
       " '20130201_MetLog_SMEOS_IndiaTowerTestTA1': Stream(name='20130201_MetLog_SMEOS_IndiaTowerTestTA1'),\n",
       " '2e20e6523a94418b8b13acbf32f9ac20': Stream(name='2e20e6523a94418b8b13acbf32f9ac20'),\n",
       " 'MetStation': Stream(name='MetStation'),\n",
       " 'MyDumbTestMetEvent_2019-07-01': Stream(name='MyDumbTestMetEvent_2019-07-01'),\n",
       " 'PA0103atmoD139-193224': Stream(name='PA0103atmoD139-193224'),\n",
       " 'PA0103atmoD142-101118': Stream(name='PA0103atmoD142-101118'),\n",
       " 'PA0204atmoD139-193233': Stream(name='PA0204atmoD139-193233'),\n",
       " 'PA0206atmoD142-101151': Stream(name='PA0206atmoD142-101151'),\n",
       " 'PA0301atmoD002-144847': Stream(name='PA0301atmoD002-144847'),\n",
       " 'PA0301atmoD008-171210': Stream(name='PA0301atmoD008-171210'),\n",
       " 'PA0301atmoD009-143106': Stream(name='PA0301atmoD009-143106'),\n",
       " 'PA0301atmoD028-171218': Stream(name='PA0301atmoD028-171218'),\n",
       " 'PA0301atmoD352-151849': Stream(name='PA0301atmoD352-151849'),\n",
       " 'PA0301atmoD353-132400': Stream(name='PA0301atmoD353-132400'),\n",
       " 'PA2504atmoCO_001-123618': Stream(name='PA2504atmoCO_001-123618'),\n",
       " 'PA2504atmoCO_002-124200': Stream(name='PA2504atmoCO_002-124200'),\n",
       " 'PA2504atmoCO_003-131343': Stream(name='PA2504atmoCO_003-131343'),\n",
       " 'PA2504atmoCO_004-131948': Stream(name='PA2504atmoCO_004-131948'),\n",
       " 'PA2504atmoCO_005-132851': Stream(name='PA2504atmoCO_005-132851'),\n",
       " 'PA2504atmoCO_006-133731': Stream(name='PA2504atmoCO_006-133731'),\n",
       " 'PA2504atmoCO_007-134221': Stream(name='PA2504atmoCO_007-134221'),\n",
       " 'PA2504atmoCO_009-140355': Stream(name='PA2504atmoCO_009-140355'),\n",
       " 'PA2504atmoCO_010-140830': Stream(name='PA2504atmoCO_010-140830'),\n",
       " 'PA2504atmoCO_013-123403': Stream(name='PA2504atmoCO_013-123403'),\n",
       " 'PA2504atmoCO_014-124919': Stream(name='PA2504atmoCO_014-124919'),\n",
       " 'PA2504atmoCO_015-175802': Stream(name='PA2504atmoCO_015-175802'),\n",
       " 'PA2504atmoCO_015-180027': Stream(name='PA2504atmoCO_015-180027'),\n",
       " 'PA2504atmoCO_016-123316': Stream(name='PA2504atmoCO_016-123316'),\n",
       " 'PA2504atmoCO_017-123823': Stream(name='PA2504atmoCO_017-123823'),\n",
       " 'PA2504atmoCO_018-124936': Stream(name='PA2504atmoCO_018-124936'),\n",
       " 'PA2504atmoF000-150148': Stream(name='PA2504atmoF000-150148'),\n",
       " 'PA2504atmoF001-150614': Stream(name='PA2504atmoF001-150614'),\n",
       " 'PA2504atmoF002-150934': Stream(name='PA2504atmoF002-150934'),\n",
       " 'PA2504atmoF003-151159': Stream(name='PA2504atmoF003-151159'),\n",
       " 'PA2504atmoF003-151514': Stream(name='PA2504atmoF003-151514'),\n",
       " 'PA2504atmoF004-151801': Stream(name='PA2504atmoF004-151801'),\n",
       " 'PA2504atmoF004-152343': Stream(name='PA2504atmoF004-152343'),\n",
       " 'PA2504atmoF005-152605': Stream(name='PA2504atmoF005-152605'),\n",
       " 'PA2504atmoF006-152836': Stream(name='PA2504atmoF006-152836'),\n",
       " 'PA2504atmoF007-153100': Stream(name='PA2504atmoF007-153100'),\n",
       " 'PA2504atmoF008-153316': Stream(name='PA2504atmoF008-153316'),\n",
       " 'PA2504atmoF009-153513': Stream(name='PA2504atmoF009-153513'),\n",
       " 'PA2504atmoF010-153759': Stream(name='PA2504atmoF010-153759'),\n",
       " 'PA2504atmoF011-154008': Stream(name='PA2504atmoF011-154008'),\n",
       " 'PA2504atmoF012-154211': Stream(name='PA2504atmoF012-154211'),\n",
       " 'PA2504atmoF013-160627': Stream(name='PA2504atmoF013-160627'),\n",
       " 'PA2504atmoF014-160902': Stream(name='PA2504atmoF014-160902'),\n",
       " 'PA2504atmoF015-161159': Stream(name='PA2504atmoF015-161159'),\n",
       " 'PA2504atmoF016-161508': Stream(name='PA2504atmoF016-161508'),\n",
       " 'PA2504atmoF017-161820': Stream(name='PA2504atmoF017-161820'),\n",
       " 'PA2504atmoF018-162050': Stream(name='PA2504atmoF018-162050'),\n",
       " 'PA2504atmoF019-162319': Stream(name='PA2504atmoF019-162319'),\n",
       " 'PA2504atmoF019-162757': Stream(name='PA2504atmoF019-162757'),\n",
       " 'PA2504atmoF020-163019': Stream(name='PA2504atmoF020-163019'),\n",
       " 'PA2504atmoF021-163436': Stream(name='PA2504atmoF021-163436'),\n",
       " 'PA2504atmoF021-163725': Stream(name='PA2504atmoF021-163725'),\n",
       " 'PA2504atmoF022-164004': Stream(name='PA2504atmoF022-164004'),\n",
       " 'PA2504atmoF023-164230': Stream(name='PA2504atmoF023-164230'),\n",
       " 'PA2504atmoF024-164545': Stream(name='PA2504atmoF024-164545'),\n",
       " 'PA2504atmoF025-184839': Stream(name='PA2504atmoF025-184839'),\n",
       " 'PA2504atmoF026-185149': Stream(name='PA2504atmoF026-185149'),\n",
       " 'PA2504atmoF027-185522': Stream(name='PA2504atmoF027-185522'),\n",
       " 'PA2504atmoF028-185812': Stream(name='PA2504atmoF028-185812'),\n",
       " 'PA2504atmoF029-190019': Stream(name='PA2504atmoF029-190019'),\n",
       " 'PA2504atmoF030-190246': Stream(name='PA2504atmoF030-190246'),\n",
       " 'PA2504atmoF031-190502': Stream(name='PA2504atmoF031-190502'),\n",
       " 'PA2504atmoF032-190716': Stream(name='PA2504atmoF032-190716'),\n",
       " 'PA2504atmoF033-190957': Stream(name='PA2504atmoF033-190957'),\n",
       " 'PA2504atmoF034-191301': Stream(name='PA2504atmoF034-191301'),\n",
       " 'PA2504atmoF035-191555': Stream(name='PA2504atmoF035-191555'),\n",
       " 'PA2504atmoF036-191807': Stream(name='PA2504atmoF036-191807'),\n",
       " 'PA2504atmoF037-183323': Stream(name='PA2504atmoF037-183323'),\n",
       " 'PA2504atmoF037-185454': Stream(name='PA2504atmoF037-185454'),\n",
       " 'PA2504atmoF038-190315': Stream(name='PA2504atmoF038-190315'),\n",
       " 'PA2504atmoF039-190955': Stream(name='PA2504atmoF039-190955'),\n",
       " 'PA2504atmoF040-191754': Stream(name='PA2504atmoF040-191754'),\n",
       " 'PA2504atmoF041-192424': Stream(name='PA2504atmoF041-192424'),\n",
       " 'PA2504atmoF041-193637': Stream(name='PA2504atmoF041-193637'),\n",
       " 'PA2504atmoF042-194312': Stream(name='PA2504atmoF042-194312'),\n",
       " 'PA2504atmoF043-195110': Stream(name='PA2504atmoF043-195110'),\n",
       " 'PA2504atmoF043A-154224': Stream(name='PA2504atmoF043A-154224'),\n",
       " 'PA2504atmoF043A-154829': Stream(name='PA2504atmoF043A-154829'),\n",
       " 'PA2504atmoF044-195445': Stream(name='PA2504atmoF044-195445'),\n",
       " 'PA2504atmoF044A-155155': Stream(name='PA2504atmoF044A-155155'),\n",
       " 'PA2504atmoF044A-155850': Stream(name='PA2504atmoF044A-155850'),\n",
       " 'PA2504atmoF045-195746': Stream(name='PA2504atmoF045-195746'),\n",
       " 'PA2504atmoF045A-160413': Stream(name='PA2504atmoF045A-160413'),\n",
       " 'PA2504atmoF046-200133': Stream(name='PA2504atmoF046-200133'),\n",
       " 'PA2504atmoF046-200721': Stream(name='PA2504atmoF046-200721'),\n",
       " 'PA2504atmoF046B-160716': Stream(name='PA2504atmoF046B-160716'),\n",
       " 'PA2504atmoF047-201055': Stream(name='PA2504atmoF047-201055'),\n",
       " 'PA2504atmoF047A-161107': Stream(name='PA2504atmoF047A-161107'),\n",
       " 'PA2504atmoF048-161416': Stream(name='PA2504atmoF048-161416'),\n",
       " 'PA2504atmoF048-161801': Stream(name='PA2504atmoF048-161801'),\n",
       " 'PA2504atmoF049-162100': Stream(name='PA2504atmoF049-162100'),\n",
       " 'PA2504atmoF050-162402': Stream(name='PA2504atmoF050-162402'),\n",
       " 'PA2504atmoF051-162643': Stream(name='PA2504atmoF051-162643'),\n",
       " 'PA2504atmoF052-163001': Stream(name='PA2504atmoF052-163001'),\n",
       " 'PA2504atmoF053-163329': Stream(name='PA2504atmoF053-163329'),\n",
       " 'PA2504atmoF053-163641': Stream(name='PA2504atmoF053-163641'),\n",
       " 'PA2504atmoF054-163933': Stream(name='PA2504atmoF054-163933'),\n",
       " 'PA2504atmoF054-164329': Stream(name='PA2504atmoF054-164329'),\n",
       " 'PA2504atmoF055-200707': Stream(name='PA2504atmoF055-200707'),\n",
       " 'PA2504atmoF056-201307': Stream(name='PA2504atmoF056-201307'),\n",
       " 'PA2504atmoF057-201748': Stream(name='PA2504atmoF057-201748'),\n",
       " 'PA2504atmoF058-202154': Stream(name='PA2504atmoF058-202154'),\n",
       " 'PA2504atmoF059-202544': Stream(name='PA2504atmoF059-202544'),\n",
       " 'PA2504atmoF060-202837': Stream(name='PA2504atmoF060-202837'),\n",
       " 'PA2504atmoF200-160100': Stream(name='PA2504atmoF200-160100'),\n",
       " 'PA2505atmoF006-180226': Stream(name='PA2505atmoF006-180226'),\n",
       " 'PA2505atmoF007-193430': Stream(name='PA2505atmoF007-193430'),\n",
       " 'PA2505atmoF008-201548': Stream(name='PA2505atmoF008-201548'),\n",
       " 'PA2505atmoF009-205020': Stream(name='PA2505atmoF009-205020'),\n",
       " 'PA2505atmoF010-220758': Stream(name='PA2505atmoF010-220758'),\n",
       " 'PA2505atmoF011-203808': Stream(name='PA2505atmoF011-203808'),\n",
       " 'PA2505atmoF012-211826': Stream(name='PA2505atmoF012-211826'),\n",
       " 'PA2505atmoF013-213914': Stream(name='PA2505atmoF013-213914'),\n",
       " 'PA2505atmoF014-215421': Stream(name='PA2505atmoF014-215421'),\n",
       " 'PA2505atmoF015-221547': Stream(name='PA2505atmoF015-221547'),\n",
       " 'PA2505atmoF016-153902': Stream(name='PA2505atmoF016-153902'),\n",
       " 'PA2505atmoF017-161930': Stream(name='PA2505atmoF017-161930'),\n",
       " 'PA2505atmoF018-170303': Stream(name='PA2505atmoF018-170303'),\n",
       " 'PA2505atmoF019-154817': Stream(name='PA2505atmoF019-154817'),\n",
       " 'PA2505atmoF020-163600': Stream(name='PA2505atmoF020-163600'),\n",
       " 'PA2505atmoF020-211005': Stream(name='PA2505atmoF020-211005'),\n",
       " 'PA2505atmoF021-213912': Stream(name='PA2505atmoF021-213912'),\n",
       " 'PA2505atmoF022-215934': Stream(name='PA2505atmoF022-215934'),\n",
       " 'PA2505atmoF023-222022': Stream(name='PA2505atmoF023-222022'),\n",
       " 'PA2505atmoF024-184401': Stream(name='PA2505atmoF024-184401'),\n",
       " 'PA2505atmoF025-185859': Stream(name='PA2505atmoF025-185859'),\n",
       " 'PA2505atmoF026-191621': Stream(name='PA2505atmoF026-191621'),\n",
       " 'PA2505atmoF027-193115': Stream(name='PA2505atmoF027-193115'),\n",
       " 'PA2505atmoF028-194634': Stream(name='PA2505atmoF028-194634'),\n",
       " 'PA2505atmoF029-144352': Stream(name='PA2505atmoF029-144352'),\n",
       " 'PA2505atmoF030-150400': Stream(name='PA2505atmoF030-150400'),\n",
       " 'PA2505atmoF031-151959': Stream(name='PA2505atmoF031-151959'),\n",
       " 'PA2505atmoF032-182849': Stream(name='PA2505atmoF032-182849'),\n",
       " 'PA2505atmoF033-184337': Stream(name='PA2505atmoF033-184337'),\n",
       " 'PA2505atmoF034-194855': Stream(name='PA2505atmoF034-194855'),\n",
       " 'PA2505atmoF035-201406': Stream(name='PA2505atmoF035-201406'),\n",
       " 'PA2505atmoF036-203409': Stream(name='PA2505atmoF036-203409'),\n",
       " 'PA2505atmoF037-205504': Stream(name='PA2505atmoF037-205504'),\n",
       " 'PA2505atmoF038-212943': Stream(name='PA2505atmoF038-212943'),\n",
       " 'PA2505atmoF038-214947': Stream(name='PA2505atmoF038-214947'),\n",
       " 'PA2505atmoF039-155111': Stream(name='PA2505atmoF039-155111'),\n",
       " 'PA2505atmoF040-162220': Stream(name='PA2505atmoF040-162220'),\n",
       " 'PA2505atmoF041-163630': Stream(name='PA2505atmoF041-163630'),\n",
       " 'PA2505atmoF042-165054': Stream(name='PA2505atmoF042-165054'),\n",
       " 'PA2505atmoF043-185201': Stream(name='PA2505atmoF043-185201'),\n",
       " 'PA2505atmoF044-191848': Stream(name='PA2505atmoF044-191848'),\n",
       " 'PA2505atmoF045-194110': Stream(name='PA2505atmoF045-194110'),\n",
       " 'PA2505atmoF046-201709': Stream(name='PA2505atmoF046-201709'),\n",
       " 'PA2505atmoF049-163148': Stream(name='PA2505atmoF049-163148'),\n",
       " 'PA2505atmoF050-164610': Stream(name='PA2505atmoF050-164610'),\n",
       " 'PA2505atmoF051-170018': Stream(name='PA2505atmoF051-170018'),\n",
       " 'PA2505atmoF052-185859': Stream(name='PA2505atmoF052-185859'),\n",
       " 'PA2505atmoF053-193732': Stream(name='PA2505atmoF053-193732'),\n",
       " 'PA2505atmoF054-201608': Stream(name='PA2505atmoF054-201608'),\n",
       " 'PA2505atmoF055-203547': Stream(name='PA2505atmoF055-203547'),\n",
       " 'PA2505atmoF056-211313': Stream(name='PA2505atmoF056-211313'),\n",
       " 'PA2505atmoF057-213128': Stream(name='PA2505atmoF057-213128'),\n",
       " 'PA2505atmoF058-215518': Stream(name='PA2505atmoF058-215518'),\n",
       " 'PA2505atmoF058A-220004': Stream(name='PA2505atmoF058A-220004'),\n",
       " 'PA2505atmoF059-134331': Stream(name='PA2505atmoF059-134331'),\n",
       " 'PA2505atmoF060-140844': Stream(name='PA2505atmoF060-140844'),\n",
       " 'PA2505atmoF061-142808': Stream(name='PA2505atmoF061-142808'),\n",
       " 'PA2510atmoF001-160017': Stream(name='PA2510atmoF001-160017'),\n",
       " 'PA2510atmoF001-163043': Stream(name='PA2510atmoF001-163043'),\n",
       " 'PA2510atmoF001-171401': Stream(name='PA2510atmoF001-171401'),\n",
       " 'PA2510atmoF002-165115': Stream(name='PA2510atmoF002-165115'),\n",
       " 'PA2510atmoF002-172717': Stream(name='PA2510atmoF002-172717'),\n",
       " 'PA2510atmoF003-173721': Stream(name='PA2510atmoF003-173721'),\n",
       " 'PA2510atmoF003-201202': Stream(name='PA2510atmoF003-201202'),\n",
       " 'PA2510atmoF004-185413': Stream(name='PA2510atmoF004-185413'),\n",
       " 'PA2510atmoF004-203444': Stream(name='PA2510atmoF004-203444'),\n",
       " 'PA2510atmoF005-190147': Stream(name='PA2510atmoF005-190147'),\n",
       " 'PA2510atmoF005-205426': Stream(name='PA2510atmoF005-205426'),\n",
       " 'PA2510atmoF006-190913': Stream(name='PA2510atmoF006-190913'),\n",
       " 'PA2510atmoF007-191645': Stream(name='PA2510atmoF007-191645'),\n",
       " 'PA2510atmoF008-192427': Stream(name='PA2510atmoF008-192427'),\n",
       " 'PA2510atmoF009-192914': Stream(name='PA2510atmoF009-192914'),\n",
       " 'PA2510atmoF010-200619': Stream(name='PA2510atmoF010-200619'),\n",
       " 'PA2510atmoF011-201432': Stream(name='PA2510atmoF011-201432'),\n",
       " 'PA2510atmoF011-202229': Stream(name='PA2510atmoF011-202229'),\n",
       " 'PA2510atmoF012-203015': Stream(name='PA2510atmoF012-203015'),\n",
       " 'PA2510atmoF012-203747': Stream(name='PA2510atmoF012-203747'),\n",
       " 'PA2510atmoF013-204521': Stream(name='PA2510atmoF013-204521'),\n",
       " 'PA2510atmoF014-205239': Stream(name='PA2510atmoF014-205239'),\n",
       " 'PA2510atmoF015-210015': Stream(name='PA2510atmoF015-210015'),\n",
       " 'PA2510atmoF015-212415': Stream(name='PA2510atmoF015-212415'),\n",
       " 'PA2510atmoF016-210746': Stream(name='PA2510atmoF016-210746'),\n",
       " 'PA2510atmoF017-211047': Stream(name='PA2510atmoF017-211047'),\n",
       " 'PA2510atmoF018-212009': Stream(name='PA2510atmoF018-212009'),\n",
       " 'PA2510atmoF019-193417': Stream(name='PA2510atmoF019-193417'),\n",
       " 'PA2510atmoF020-194001': Stream(name='PA2510atmoF020-194001'),\n",
       " 'PA2510atmoF021-194706': Stream(name='PA2510atmoF021-194706'),\n",
       " 'PA2510atmoF022-195350': Stream(name='PA2510atmoF022-195350'),\n",
       " 'PA2510atmoF023-195819': Stream(name='PA2510atmoF023-195819'),\n",
       " 'PA2510atmoF024-200233': Stream(name='PA2510atmoF024-200233'),\n",
       " 'PA2510atmoF025-200740': Stream(name='PA2510atmoF025-200740'),\n",
       " 'PA2510atmoF026-201141': Stream(name='PA2510atmoF026-201141'),\n",
       " 'PA2510atmoF027-201604': Stream(name='PA2510atmoF027-201604'),\n",
       " 'PA2510atmoF028-203904': Stream(name='PA2510atmoF028-203904'),\n",
       " 'PA2510atmoF029-211659': Stream(name='PA2510atmoF029-211659'),\n",
       " 'PA2510atmoF030-212425': Stream(name='PA2510atmoF030-212425'),\n",
       " 'PA2510atmoF031-213642': Stream(name='PA2510atmoF031-213642'),\n",
       " 'PA2510atmoF032-214104': Stream(name='PA2510atmoF032-214104'),\n",
       " 'PA2510atmoF033-214520': Stream(name='PA2510atmoF033-214520'),\n",
       " 'PA2510atmoF034-214812': Stream(name='PA2510atmoF034-214812'),\n",
       " 'PA2510atmoF035-215047': Stream(name='PA2510atmoF035-215047'),\n",
       " 'PA2510atmoF036-215442': Stream(name='PA2510atmoF036-215442'),\n",
       " 'PA2510atmoF037-203929': Stream(name='PA2510atmoF037-203929'),\n",
       " 'PA2510atmoF037-205418': Stream(name='PA2510atmoF037-205418'),\n",
       " 'PA2510atmoF038-210102': Stream(name='PA2510atmoF038-210102'),\n",
       " 'PA2510atmoF039-210504': Stream(name='PA2510atmoF039-210504'),\n",
       " 'PA2510atmoF039-211135': Stream(name='PA2510atmoF039-211135'),\n",
       " 'PA2510atmoF040-211538': Stream(name='PA2510atmoF040-211538'),\n",
       " 'PA2510atmoF041-211928': Stream(name='PA2510atmoF041-211928'),\n",
       " 'PA2510atmoF042-212321': Stream(name='PA2510atmoF042-212321'),\n",
       " 'PA2510atmoF043-212743': Stream(name='PA2510atmoF043-212743'),\n",
       " 'PA2510atmoF044-213037': Stream(name='PA2510atmoF044-213037'),\n",
       " 'PA2510atmoF045-213312': Stream(name='PA2510atmoF045-213312'),\n",
       " 'PA2510atmoF046-222333': Stream(name='PA2510atmoF046-222333'),\n",
       " 'PA2510atmoF047-222637': Stream(name='PA2510atmoF047-222637'),\n",
       " 'PA2510atmoF048-223344': Stream(name='PA2510atmoF048-223344'),\n",
       " 'PA2510atmoF049-193733': Stream(name='PA2510atmoF049-193733'),\n",
       " 'PA2510atmoF050-194104': Stream(name='PA2510atmoF050-194104'),\n",
       " 'PA2510atmoF051-194413': Stream(name='PA2510atmoF051-194413'),\n",
       " 'PA2510atmoF052-194741': Stream(name='PA2510atmoF052-194741'),\n",
       " 'PA2510atmoF053-195118': Stream(name='PA2510atmoF053-195118'),\n",
       " 'PA2510atmoF054-195412': Stream(name='PA2510atmoF054-195412'),\n",
       " 'PA2510atmoF055-202056': Stream(name='PA2510atmoF055-202056'),\n",
       " 'PA2510atmoF056-202452': Stream(name='PA2510atmoF056-202452'),\n",
       " 'PA2510atmoF057-202850': Stream(name='PA2510atmoF057-202850'),\n",
       " 'PA2510atmoF058-203159': Stream(name='PA2510atmoF058-203159'),\n",
       " 'PA2510atmoF059-203448': Stream(name='PA2510atmoF059-203448'),\n",
       " 'PA2510atmoF060-203756': Stream(name='PA2510atmoF060-203756'),\n",
       " 'PA2510atmoF061-204103': Stream(name='PA2510atmoF061-204103'),\n",
       " 'PA2510atmoF062-204356': Stream(name='PA2510atmoF062-204356'),\n",
       " 'PA2510atmoF063-204613': Stream(name='PA2510atmoF063-204613'),\n",
       " 'PA2510atmoF064-211710': Stream(name='PA2510atmoF064-211710'),\n",
       " 'PA2510atmoF065-212234': Stream(name='PA2510atmoF065-212234'),\n",
       " 'PA2510atmoF066-213847': Stream(name='PA2510atmoF066-213847'),\n",
       " 'PA2510atmoF067-214215': Stream(name='PA2510atmoF067-214215'),\n",
       " 'PA2510atmoF068-214606': Stream(name='PA2510atmoF068-214606'),\n",
       " 'PA2510atmoF069-214932': Stream(name='PA2510atmoF069-214932'),\n",
       " 'PA2510atmoF070-215708': Stream(name='PA2510atmoF070-215708'),\n",
       " 'PA2510atmoF071-220000': Stream(name='PA2510atmoF071-220000'),\n",
       " 'PA2510atmoF072-220306': Stream(name='PA2510atmoF072-220306'),\n",
       " 'PA2510atmoF073-220535': Stream(name='PA2510atmoF073-220535'),\n",
       " 'PA2510atmoF074-220809': Stream(name='PA2510atmoF074-220809'),\n",
       " 'PA2510atmoF075-221142': Stream(name='PA2510atmoF075-221142'),\n",
       " 'PA2510atmoF076-185821': Stream(name='PA2510atmoF076-185821'),\n",
       " 'PA2510atmoF077-192509': Stream(name='PA2510atmoF077-192509'),\n",
       " 'PA2510atmoF078-192933': Stream(name='PA2510atmoF078-192933'),\n",
       " 'PA2510atmoF079-193350': Stream(name='PA2510atmoF079-193350'),\n",
       " 'PA2510atmoF080-193800': Stream(name='PA2510atmoF080-193800'),\n",
       " 'PA2510atmoF081-194050': Stream(name='PA2510atmoF081-194050'),\n",
       " 'PA2510atmoF082-195746': Stream(name='PA2510atmoF082-195746'),\n",
       " 'PA2510atmoF083-200024': Stream(name='PA2510atmoF083-200024'),\n",
       " 'PA2510atmoF084-200328': Stream(name='PA2510atmoF084-200328'),\n",
       " 'PA2510atmoF085-200744': Stream(name='PA2510atmoF085-200744'),\n",
       " 'PA2510atmoF086-201159': Stream(name='PA2510atmoF086-201159'),\n",
       " 'PA2510atmoF087-203017': Stream(name='PA2510atmoF087-203017'),\n",
       " 'PA2510atmoF088-203315': Stream(name='PA2510atmoF088-203315'),\n",
       " 'PA2510atmoF089-203725': Stream(name='PA2510atmoF089-203725'),\n",
       " 'PA2510atmoF090-210701': Stream(name='PA2510atmoF090-210701'),\n",
       " 'PA2510atmoF091-211856': Stream(name='PA2510atmoF091-211856'),\n",
       " 'PA2510atmoF092-212446': Stream(name='PA2510atmoF092-212446'),\n",
       " 'PA2510atmoF092-214122': Stream(name='PA2510atmoF092-214122'),\n",
       " 'PA2510atmoF093-161157': Stream(name='PA2510atmoF093-161157'),\n",
       " 'PA2510atmoF094-161813': Stream(name='PA2510atmoF094-161813'),\n",
       " 'PA2510atmoF095-162114': Stream(name='PA2510atmoF095-162114'),\n",
       " 'PA2510atmoF096-162352': Stream(name='PA2510atmoF096-162352'),\n",
       " 'PA2510atmoF097-162625': Stream(name='PA2510atmoF097-162625'),\n",
       " 'PA2510atmoF098-162835': Stream(name='PA2510atmoF098-162835'),\n",
       " 'PA2510atmoF099-164629': Stream(name='PA2510atmoF099-164629'),\n",
       " 'PA2510atmoF100-164923': Stream(name='PA2510atmoF100-164923'),\n",
       " 'PA2510atmoF100-165541': Stream(name='PA2510atmoF100-165541'),\n",
       " 'PA2510atmoF101-170230': Stream(name='PA2510atmoF101-170230'),\n",
       " 'PA2510atmoF102-190031': Stream(name='PA2510atmoF102-190031'),\n",
       " 'PA2510atmoF103-190357': Stream(name='PA2510atmoF103-190357'),\n",
       " 'PA2510atmoF104-195249': Stream(name='PA2510atmoF104-195249'),\n",
       " 'PA2510atmoF105-195744': Stream(name='PA2510atmoF105-195744'),\n",
       " 'PA2510atmoF106-200057': Stream(name='PA2510atmoF106-200057'),\n",
       " 'PA2510atmoF107-200556': Stream(name='PA2510atmoF107-200556'),\n",
       " 'PA2510atmoF108-201024': Stream(name='PA2510atmoF108-201024'),\n",
       " 'PA2510atmoF109-201559': Stream(name='PA2510atmoF109-201559'),\n",
       " 'PA2510atmoF110-201940': Stream(name='PA2510atmoF110-201940'),\n",
       " 'PA2510atmoF111-202457': Stream(name='PA2510atmoF111-202457'),\n",
       " 'PA2510atmoF112-202812': Stream(name='PA2510atmoF112-202812'),\n",
       " 'PA2510atmoF113-203128': Stream(name='PA2510atmoF113-203128'),\n",
       " 'PA2510atmoF114-203543': Stream(name='PA2510atmoF114-203543'),\n",
       " 'PA2510atmoF114-203952': Stream(name='PA2510atmoF114-203952'),\n",
       " 'PA2510atmoF114-204423': Stream(name='PA2510atmoF114-204423'),\n",
       " 'PA2510atmoF115-204832': Stream(name='PA2510atmoF115-204832'),\n",
       " 'PA2510atmoF116-205403': Stream(name='PA2510atmoF116-205403'),\n",
       " 'PA2510atmoF123-161338': Stream(name='PA2510atmoF123-161338'),\n",
       " 'PA2510atmoF124-161956': Stream(name='PA2510atmoF124-161956'),\n",
       " 'PA2510atmoF125-162436': Stream(name='PA2510atmoF125-162436'),\n",
       " 'PA2510atmoF126-171830': Stream(name='PA2510atmoF126-171830'),\n",
       " 'PA2510atmoF126-172504': Stream(name='PA2510atmoF126-172504'),\n",
       " 'PA2510atmoF126-173019': Stream(name='PA2510atmoF126-173019'),\n",
       " 'PA2510atmoF127-173350': Stream(name='PA2510atmoF127-173350'),\n",
       " 'PA2510atmoF128-175227': Stream(name='PA2510atmoF128-175227'),\n",
       " 'PA2510atmoF129-175550': Stream(name='PA2510atmoF129-175550'),\n",
       " 'PA2510atmoF130-175946': Stream(name='PA2510atmoF130-175946'),\n",
       " 'PA2510atmoF131-180331': Stream(name='PA2510atmoF131-180331'),\n",
       " 'PA2510atmoF132-180646': Stream(name='PA2510atmoF132-180646'),\n",
       " 'PA2510atmoF133-180900': Stream(name='PA2510atmoF133-180900'),\n",
       " 'PA2510atmoF134-181227': Stream(name='PA2510atmoF134-181227'),\n",
       " 'PA2510atmoF135-181602': Stream(name='PA2510atmoF135-181602'),\n",
       " 'PA2510atmoF136-181918': Stream(name='PA2510atmoF136-181918'),\n",
       " 'PA2510atmoF137-182202': Stream(name='PA2510atmoF137-182202'),\n",
       " 'PA2510atmoF137-182530': Stream(name='PA2510atmoF137-182530'),\n",
       " 'PA2510atmoF138-182833': Stream(name='PA2510atmoF138-182833'),\n",
       " 'PA2510atmoF139-183124': Stream(name='PA2510atmoF139-183124'),\n",
       " 'PA2510atmoF140-183625': Stream(name='PA2510atmoF140-183625'),\n",
       " 'PA2510atmoF141-183924': Stream(name='PA2510atmoF141-183924'),\n",
       " 'PA2510atmoF142-205155': Stream(name='PA2510atmoF142-205155'),\n",
       " 'PA2510atmoF143-205558': Stream(name='PA2510atmoF143-205558'),\n",
       " 'PA2510atmoF144-212656': Stream(name='PA2510atmoF144-212656'),\n",
       " 'PA2510atmoF144-213301': Stream(name='PA2510atmoF144-213301'),\n",
       " 'PA2510atmoF145-213846': Stream(name='PA2510atmoF145-213846'),\n",
       " 'PA2510atmoF145-214229': Stream(name='PA2510atmoF145-214229'),\n",
       " 'PA2510atmoF146-215133': Stream(name='PA2510atmoF146-215133'),\n",
       " 'PA2510atmoF147-215703': Stream(name='PA2510atmoF147-215703'),\n",
       " 'PA2510atmoF147-220715': Stream(name='PA2510atmoF147-220715'),\n",
       " 'PA2510atmoF148-220208': Stream(name='PA2510atmoF148-220208'),\n",
       " 'PA2510atmoF149-221403': Stream(name='PA2510atmoF149-221403'),\n",
       " 'PA2510atmoF150-221722': Stream(name='PA2510atmoF150-221722'),\n",
       " 'PA2510atmoF151-222020': Stream(name='PA2510atmoF151-222020'),\n",
       " 'PA2510atmoF152-195036': Stream(name='PA2510atmoF152-195036'),\n",
       " 'PA2510atmoF153-195725': Stream(name='PA2510atmoF153-195725'),\n",
       " 'PA2510atmoF154-200140': Stream(name='PA2510atmoF154-200140'),\n",
       " 'PA2510atmoF155-201144': Stream(name='PA2510atmoF155-201144'),\n",
       " 'PA2510atmoF155-201540': Stream(name='PA2510atmoF155-201540'),\n",
       " 'PA2510atmoF155-202203': Stream(name='PA2510atmoF155-202203'),\n",
       " 'PA2510atmoF155-205924': Stream(name='PA2510atmoF155-205924'),\n",
       " 'PA2510atmoF156-202526': Stream(name='PA2510atmoF156-202526'),\n",
       " 'PA2510atmoF156-203027': Stream(name='PA2510atmoF156-203027'),\n",
       " 'PA2510atmoF157-210842': Stream(name='PA2510atmoF157-210842'),\n",
       " 'PA2510atmoF158-211137': Stream(name='PA2510atmoF158-211137'),\n",
       " 'PA2510atmoF159-211533': Stream(name='PA2510atmoF159-211533'),\n",
       " 'PA2510atmoF160-212136': Stream(name='PA2510atmoF160-212136'),\n",
       " 'PA2510atmoF161-212631': Stream(name='PA2510atmoF161-212631'),\n",
       " 'PA2510atmoF162-213629': Stream(name='PA2510atmoF162-213629'),\n",
       " 'PA2510atmoF163-213953': Stream(name='PA2510atmoF163-213953'),\n",
       " 'PA2510atmoF164-214327': Stream(name='PA2510atmoF164-214327'),\n",
       " 'PA2510atmoF164-215411': Stream(name='PA2510atmoF164-215411'),\n",
       " 'PA2510atmoF165-214648': Stream(name='PA2510atmoF165-214648'),\n",
       " 'PA2510atmoF166-215021': Stream(name='PA2510atmoF166-215021'),\n",
       " 'PA2510atmoF167-215801': Stream(name='PA2510atmoF167-215801'),\n",
       " 'PA2510atmoF168-220326': Stream(name='PA2510atmoF168-220326'),\n",
       " 'PA2510atmoF168-220703': Stream(name='PA2510atmoF168-220703'),\n",
       " 'PA2510atmoF168-221143': Stream(name='PA2510atmoF168-221143'),\n",
       " 'PA2510atmoF169-221523': Stream(name='PA2510atmoF169-221523'),\n",
       " 'PA2510atmoF170-200609': Stream(name='PA2510atmoF170-200609'),\n",
       " 'PA2510atmoF171-201141': Stream(name='PA2510atmoF171-201141'),\n",
       " 'PA2510atmoF172-201538': Stream(name='PA2510atmoF172-201538'),\n",
       " 'PA2510atmoF173-202034': Stream(name='PA2510atmoF173-202034'),\n",
       " 'PA2510atmoF173-202408': Stream(name='PA2510atmoF173-202408'),\n",
       " 'PA2510atmoF174-203724': Stream(name='PA2510atmoF174-203724'),\n",
       " 'PA2510atmoF174-222112': Stream(name='PA2510atmoF174-222112'),\n",
       " 'PA2510atmoF175-222542': Stream(name='PA2510atmoF175-222542'),\n",
       " 'PA2510atmoF176-172023': Stream(name='PA2510atmoF176-172023'),\n",
       " 'PA2510atmoF176-172848': Stream(name='PA2510atmoF176-172848'),\n",
       " 'PA2510atmoF177-172440': Stream(name='PA2510atmoF177-172440'),\n",
       " 'PA2510atmoF178-173638': Stream(name='PA2510atmoF178-173638'),\n",
       " 'PA2510atmoF179-174403': Stream(name='PA2510atmoF179-174403'),\n",
       " 'PA2510atmoF180-193741': Stream(name='PA2510atmoF180-193741'),\n",
       " 'PA2510atmoF181-194444': Stream(name='PA2510atmoF181-194444'),\n",
       " 'PA2510atmoF182-194824': Stream(name='PA2510atmoF182-194824'),\n",
       " 'PA2510atmoF183-195155': Stream(name='PA2510atmoF183-195155'),\n",
       " 'PA2510atmoF184-195518': Stream(name='PA2510atmoF184-195518'),\n",
       " 'PA2510atmoF185-195901': Stream(name='PA2510atmoF185-195901'),\n",
       " 'PA2510atmoF186-200243': Stream(name='PA2510atmoF186-200243'),\n",
       " 'PA2510atmoF187-200614': Stream(name='PA2510atmoF187-200614'),\n",
       " 'PA2510atmoF188-201152': Stream(name='PA2510atmoF188-201152'),\n",
       " 'PA2510atmoF189-202207': Stream(name='PA2510atmoF189-202207'),\n",
       " 'PA2510atmoF190-203326': Stream(name='PA2510atmoF190-203326'),\n",
       " 'PA2510atmoF200-180644': Stream(name='PA2510atmoF200-180644'),\n",
       " 'PA2510atmoF201-182250': Stream(name='PA2510atmoF201-182250'),\n",
       " 'PA2510atmoF202-183014': Stream(name='PA2510atmoF202-183014'),\n",
       " 'PA2510atmoF202-203513': Stream(name='PA2510atmoF202-203513'),\n",
       " 'PA2510atmoF203-183434': Stream(name='PA2510atmoF203-183434'),\n",
       " 'PA2510atmoF204-183753': Stream(name='PA2510atmoF204-183753'),\n",
       " 'PA2510atmoF205-204347': Stream(name='PA2510atmoF205-204347'),\n",
       " 'PA2510atmoF205-210124': Stream(name='PA2510atmoF205-210124'),\n",
       " 'PA2510atmoF206-205527': Stream(name='PA2510atmoF206-205527'),\n",
       " 'PA2510atmoF207-210721': Stream(name='PA2510atmoF207-210721'),\n",
       " 'PA2510atmoF208-211321': Stream(name='PA2510atmoF208-211321'),\n",
       " 'PA2510atmoF208-211926': Stream(name='PA2510atmoF208-211926'),\n",
       " 'PA2510atmoF209-212524': Stream(name='PA2510atmoF209-212524'),\n",
       " 'PA2510atmoF210-213119': Stream(name='PA2510atmoF210-213119'),\n",
       " 'PA2510atmoF211-162117': Stream(name='PA2510atmoF211-162117'),\n",
       " 'PA2510atmoF211-221201': Stream(name='PA2510atmoF211-221201'),\n",
       " 'PA2510atmoF212-221617': Stream(name='PA2510atmoF212-221617'),\n",
       " 'PA2510atmoF213-222257': Stream(name='PA2510atmoF213-222257'),\n",
       " 'PA2510atmoF214-222641': Stream(name='PA2510atmoF214-222641'),\n",
       " 'PA2510atmoF215-223057': Stream(name='PA2510atmoF215-223057'),\n",
       " 'PA2510atmoF215-223424': Stream(name='PA2510atmoF215-223424'),\n",
       " 'PA2510atmoF216-223734': Stream(name='PA2510atmoF216-223734'),\n",
       " 'PA2510atmoF217-154408': Stream(name='PA2510atmoF217-154408'),\n",
       " 'PA2510atmoF218-154927': Stream(name='PA2510atmoF218-154927'),\n",
       " 'PA2510atmoF218-161655': Stream(name='PA2510atmoF218-161655'),\n",
       " 'PA2510atmoF219-155616': Stream(name='PA2510atmoF219-155616'),\n",
       " 'PA2510atmoF219-160209': Stream(name='PA2510atmoF219-160209'),\n",
       " 'PA2510atmoF220-160615': Stream(name='PA2510atmoF220-160615'),\n",
       " 'PA2510atmoF221-161145': Stream(name='PA2510atmoF221-161145'),\n",
       " 'PA2510atmoF222-154902': Stream(name='PA2510atmoF222-154902'),\n",
       " 'PA2510atmoF223-155202': Stream(name='PA2510atmoF223-155202'),\n",
       " 'PA2510atmoF224-155537': Stream(name='PA2510atmoF224-155537'),\n",
       " 'PA2510atmoF224-160007': Stream(name='PA2510atmoF224-160007'),\n",
       " 'PA2510atmoF225-191247': Stream(name='PA2510atmoF225-191247'),\n",
       " 'PA2510atmoF226-191633': Stream(name='PA2510atmoF226-191633'),\n",
       " 'PA2510atmoF227-192102': Stream(name='PA2510atmoF227-192102'),\n",
       " 'PA2510atmoF228-213937': Stream(name='PA2510atmoF228-213937'),\n",
       " 'PA2510atmoF228-221524': Stream(name='PA2510atmoF228-221524'),\n",
       " 'PA2510atmoF229-214448': Stream(name='PA2510atmoF229-214448'),\n",
       " 'PA2510atmoF229-222225': Stream(name='PA2510atmoF229-222225'),\n",
       " 'PA2510atmoF230-214852': Stream(name='PA2510atmoF230-214852'),\n",
       " 'PA2510atmoF230-222539': Stream(name='PA2510atmoF230-222539'),\n",
       " 'PA2510atmoF231-211020': Stream(name='PA2510atmoF231-211020'),\n",
       " 'PA2510atmoF232-211350': Stream(name='PA2510atmoF232-211350'),\n",
       " 'PA2510atmoF233-211713': Stream(name='PA2510atmoF233-211713'),\n",
       " 'PA2510atmoF234-230817': Stream(name='PA2510atmoF234-230817'),\n",
       " 'PA2510atmoF235-231244': Stream(name='PA2510atmoF235-231244'),\n",
       " 'PA2510atmoF236-231708': Stream(name='PA2510atmoF236-231708'),\n",
       " 'PA2510atmoF237-205430': Stream(name='PA2510atmoF237-205430'),\n",
       " 'PA2510atmoF238-205926': Stream(name='PA2510atmoF238-205926'),\n",
       " 'PA2510atmoF239-210841': Stream(name='PA2510atmoF239-210841'),\n",
       " 'PA2510atmoF239-211340': Stream(name='PA2510atmoF239-211340'),\n",
       " 'PA2510atmoF240-173612': Stream(name='PA2510atmoF240-173612'),\n",
       " 'PA2510atmoF240-174021': Stream(name='PA2510atmoF240-174021'),\n",
       " 'PA2510atmoF241-175450': Stream(name='PA2510atmoF241-175450'),\n",
       " 'PA2510atmoF242-175836': Stream(name='PA2510atmoF242-175836'),\n",
       " 'PA2510atmoF242-180325': Stream(name='PA2510atmoF242-180325'),\n",
       " 'PA2510atmoF243-182740': Stream(name='PA2510atmoF243-182740'),\n",
       " 'PA2510atmoF243-183705': Stream(name='PA2510atmoF243-183705'),\n",
       " 'PA2510atmoF244-213029': Stream(name='PA2510atmoF244-213029'),\n",
       " 'PA2510atmoF245-213822': Stream(name='PA2510atmoF245-213822'),\n",
       " 'PA2510atmoF245-214319': Stream(name='PA2510atmoF245-214319'),\n",
       " 'PA2510atmoF245-230153': Stream(name='PA2510atmoF245-230153'),\n",
       " 'PA2510atmoF246-160454': Stream(name='PA2510atmoF246-160454'),\n",
       " 'PA2510atmoF247-160914': Stream(name='PA2510atmoF247-160914'),\n",
       " 'PA2510atmoF247-161624': Stream(name='PA2510atmoF247-161624'),\n",
       " 'PA2510atmoF248-161911': Stream(name='PA2510atmoF248-161911'),\n",
       " 'PA2510atmoF249-162403': Stream(name='PA2510atmoF249-162403'),\n",
       " 'PA2510atmoF250-162621': Stream(name='PA2510atmoF250-162621'),\n",
       " 'PA2510atmoF251-162848': Stream(name='PA2510atmoF251-162848'),\n",
       " 'PA2510atmoF252-192457': Stream(name='PA2510atmoF252-192457'),\n",
       " 'PA2510atmoF253-192842': Stream(name='PA2510atmoF253-192842'),\n",
       " 'PA2510atmoF254-193408': Stream(name='PA2510atmoF254-193408'),\n",
       " 'PA2510atmoF255-193656': Stream(name='PA2510atmoF255-193656'),\n",
       " 'PA2510atmoF256-193906': Stream(name='PA2510atmoF256-193906'),\n",
       " 'PA2510atmoF257-194313': Stream(name='PA2510atmoF257-194313'),\n",
       " 'PA2510atmoF258-163155': Stream(name='PA2510atmoF258-163155'),\n",
       " 'PA2510atmoF258-163559': Stream(name='PA2510atmoF258-163559'),\n",
       " 'PA2510atmoF258-164012': Stream(name='PA2510atmoF258-164012'),\n",
       " 'PA2510atmoF259-164348': Stream(name='PA2510atmoF259-164348'),\n",
       " 'PA2510atmoF260-164644': Stream(name='PA2510atmoF260-164644'),\n",
       " 'PA2510atmoF261-164915': Stream(name='PA2510atmoF261-164915'),\n",
       " 'PA2510atmoF262-165129': Stream(name='PA2510atmoF262-165129'),\n",
       " 'PA2510atmoF263-165337': Stream(name='PA2510atmoF263-165337'),\n",
       " 'PA2510atmoF264-194806': Stream(name='PA2510atmoF264-194806'),\n",
       " 'PA2510atmoF265-195206': Stream(name='PA2510atmoF265-195206'),\n",
       " 'PA2510atmoF266-195538': Stream(name='PA2510atmoF266-195538'),\n",
       " 'PA2510atmoF267-195824': Stream(name='PA2510atmoF267-195824'),\n",
       " 'PA2510atmoF268-200035': Stream(name='PA2510atmoF268-200035'),\n",
       " 'PA2510atmoF269-200505': Stream(name='PA2510atmoF269-200505'),\n",
       " 'PA2510atmoF270-200038': Stream(name='PA2510atmoF270-200038'),\n",
       " 'PA2510atmoF271-200917': Stream(name='PA2510atmoF271-200917'),\n",
       " 'PA2510atmoF272-202153': Stream(name='PA2510atmoF272-202153'),\n",
       " 'PA2510atmoF273-212104': Stream(name='PA2510atmoF273-212104'),\n",
       " 'PA2510atmoF274-212801': Stream(name='PA2510atmoF274-212801'),\n",
       " 'PA2510atmoF275-214459': Stream(name='PA2510atmoF275-214459'),\n",
       " 'PA2510atmoF276-215355': Stream(name='PA2510atmoF276-215355'),\n",
       " 'PA2510atmoF277-223550': Stream(name='PA2510atmoF277-223550'),\n",
       " 'PA2510atmoF278-224406': Stream(name='PA2510atmoF278-224406'),\n",
       " 'PA2510atmoF279-225055': Stream(name='PA2510atmoF279-225055'),\n",
       " 'PA2510atmoF280-213559': Stream(name='PA2510atmoF280-213559'),\n",
       " 'PA2510atmoF281-214001': Stream(name='PA2510atmoF281-214001'),\n",
       " 'PA2510atmoF282-214307': Stream(name='PA2510atmoF282-214307'),\n",
       " 'PA2510atmoF283-214653': Stream(name='PA2510atmoF283-214653'),\n",
       " 'PA2510atmoF284-214938': Stream(name='PA2510atmoF284-214938'),\n",
       " 'PA2510atmoF285-215217': Stream(name='PA2510atmoF285-215217'),\n",
       " 'PA2510atmoF286-220230': Stream(name='PA2510atmoF286-220230'),\n",
       " 'PA2510atmoF287-220516': Stream(name='PA2510atmoF287-220516'),\n",
       " 'PA2510atmoF288-221024': Stream(name='PA2510atmoF288-221024'),\n",
       " 'PA2510atmoF289-221410': Stream(name='PA2510atmoF289-221410'),\n",
       " 'PA2510atmoF290-221646': Stream(name='PA2510atmoF290-221646'),\n",
       " 'PA2510atmoF291-221916': Stream(name='PA2510atmoF291-221916'),\n",
       " 'PA2510atmoF292-231338': Stream(name='PA2510atmoF292-231338'),\n",
       " 'PA2510atmoF293-231759': Stream(name='PA2510atmoF293-231759'),\n",
       " 'PA2510atmoF294-232210': Stream(name='PA2510atmoF294-232210'),\n",
       " 'PA2510atmoF295-232500': Stream(name='PA2510atmoF295-232500'),\n",
       " 'PA2510atmoF296-232714': Stream(name='PA2510atmoF296-232714'),\n",
       " 'PA2510atmoF297-232935': Stream(name='PA2510atmoF297-232935'),\n",
       " 'PA2510atmoF298-225233': Stream(name='PA2510atmoF298-225233'),\n",
       " 'PA2510atmoF299-225646': Stream(name='PA2510atmoF299-225646'),\n",
       " 'PA2510atmoF300-225943': Stream(name='PA2510atmoF300-225943'),\n",
       " 'PA2510atmoF301-230256': Stream(name='PA2510atmoF301-230256'),\n",
       " 'PA2510atmoF302-230525': Stream(name='PA2510atmoF302-230525'),\n",
       " 'PA2510atmoF303-230742': Stream(name='PA2510atmoF303-230742'),\n",
       " 'PA2603atmoD149-065055': Stream(name='PA2603atmoD149-065055'),\n",
       " 'PA2603atmoD149-080906': Stream(name='PA2603atmoD149-080906'),\n",
       " 'PA2603atmoD152-074507': Stream(name='PA2603atmoD152-074507'),\n",
       " 'PA2603atmoD152-114804': Stream(name='PA2603atmoD152-114804'),\n",
       " 'PA2603atmoD152-114828': Stream(name='PA2603atmoD152-114828'),\n",
       " 'PA2701atmoD002-000947': Stream(name='PA2701atmoD002-000947'),\n",
       " 'PA2701atmoD003-001703': Stream(name='PA2701atmoD003-001703'),\n",
       " 'PA2701atmoD004-002003': Stream(name='PA2701atmoD004-002003'),\n",
       " 'PA2701atmoD005-002200': Stream(name='PA2701atmoD005-002200'),\n",
       " 'PA2701atmoD006-002436': Stream(name='PA2701atmoD006-002436'),\n",
       " 'PA2701atmoD007-002621': Stream(name='PA2701atmoD007-002621'),\n",
       " 'PA2701atmoD008-003037': Stream(name='PA2701atmoD008-003037'),\n",
       " 'PA2701atmoD009-003338': Stream(name='PA2701atmoD009-003338'),\n",
       " 'PA2701atmoD010-003541': Stream(name='PA2701atmoD010-003541'),\n",
       " 'PA2701atmoD011-003709': Stream(name='PA2701atmoD011-003709'),\n",
       " 'PA2701atmoD066-054413': Stream(name='PA2701atmoD066-054413'),\n",
       " 'PA2701atmoD067-070832': Stream(name='PA2701atmoD067-070832'),\n",
       " 'PA2701atmoD068-050910': Stream(name='PA2701atmoD068-050910'),\n",
       " 'PA2701atmoD068-120429': Stream(name='PA2701atmoD068-120429'),\n",
       " 'PA2701atmoD069-031147': Stream(name='PA2701atmoD069-031147'),\n",
       " 'PA2701atmoD074-020252': Stream(name='PA2701atmoD074-020252'),\n",
       " 'PA2701atmoD075-003727': Stream(name='PA2701atmoD075-003727'),\n",
       " 'PA2701atmoF001-180516': Stream(name='PA2701atmoF001-180516'),\n",
       " 'PA2701atmoF002-185829': Stream(name='PA2701atmoF002-185829'),\n",
       " 'PA2701atmoF003-204725': Stream(name='PA2701atmoF003-204725'),\n",
       " 'PA2701atmoF004-225532': Stream(name='PA2701atmoF004-225532'),\n",
       " 'PA2701atmoF005-200836': Stream(name='PA2701atmoF005-200836'),\n",
       " 'PA2701atmoF006-170416': Stream(name='PA2701atmoF006-170416'),\n",
       " 'PA2701atmoF007-181347': Stream(name='PA2701atmoF007-181347'),\n",
       " 'PA2701atmoF008-193309': Stream(name='PA2701atmoF008-193309'),\n",
       " 'PA2701atmoF009-202437': Stream(name='PA2701atmoF009-202437'),\n",
       " 'PA2701atmoF010-212836': Stream(name='PA2701atmoF010-212836'),\n",
       " 'PA2701atmoF011-180431': Stream(name='PA2701atmoF011-180431'),\n",
       " 'PA2701atmoF012-205445': Stream(name='PA2701atmoF012-205445'),\n",
       " 'PA2701atmoF013-220337': Stream(name='PA2701atmoF013-220337'),\n",
       " 'PA2701atmoF014-193632': Stream(name='PA2701atmoF014-193632'),\n",
       " 'PA2701atmoF015-153031': Stream(name='PA2701atmoF015-153031'),\n",
       " 'PA2701atmoF016-161503': Stream(name='PA2701atmoF016-161503'),\n",
       " 'PA2701atmoF017-165604': Stream(name='PA2701atmoF017-165604'),\n",
       " 'PA2701atmoF018-183830': Stream(name='PA2701atmoF018-183830'),\n",
       " 'PA2701atmoF019-192923': Stream(name='PA2701atmoF019-192923'),\n",
       " 'PA2701atmoF020-202428': Stream(name='PA2701atmoF020-202428'),\n",
       " 'PA2701atmoF021-213536': Stream(name='PA2701atmoF021-213536'),\n",
       " 'PA2701atmoF022-163221': Stream(name='PA2701atmoF022-163221'),\n",
       " 'PA2701atmoF023-170529': Stream(name='PA2701atmoF023-170529'),\n",
       " 'PA2701atmoF024-185033': Stream(name='PA2701atmoF024-185033'),\n",
       " 'PA2701atmoF025-201130': Stream(name='PA2701atmoF025-201130'),\n",
       " 'PA2701atmoF026-190334': Stream(name='PA2701atmoF026-190334'),\n",
       " 'PA2701atmoF027-204511': Stream(name='PA2701atmoF027-204511'),\n",
       " 'PA2701atmoF027-205643': Stream(name='PA2701atmoF027-205643'),\n",
       " 'PA2701atmoF028-172439': Stream(name='PA2701atmoF028-172439'),\n",
       " 'PA2701atmoF029-155506': Stream(name='PA2701atmoF029-155506'),\n",
       " 'PA2701atmoF030-165453': Stream(name='PA2701atmoF030-165453'),\n",
       " 'PA2701atmoF031-195950': Stream(name='PA2701atmoF031-195950'),\n",
       " 'PA2701atmoF031-203354': Stream(name='PA2701atmoF031-203354'),\n",
       " 'PA2701atmoF031-210452': Stream(name='PA2701atmoF031-210452'),\n",
       " 'PA2701atmoF032-213548': Stream(name='PA2701atmoF032-213548'),\n",
       " 'PA2701atmoF032-221841': Stream(name='PA2701atmoF032-221841'),\n",
       " 'PA2701atmoF033-171321': Stream(name='PA2701atmoF033-171321'),\n",
       " 'PA2701atmoF033-171958': Stream(name='PA2701atmoF033-171958'),\n",
       " 'PA2701atmoF034-180420': Stream(name='PA2701atmoF034-180420'),\n",
       " 'PA2701atmoF035-184435': Stream(name='PA2701atmoF035-184435'),\n",
       " 'PA2701atmoF036-201308': Stream(name='PA2701atmoF036-201308'),\n",
       " 'PA2701atmoF037-150522': Stream(name='PA2701atmoF037-150522'),\n",
       " 'PA2701atmoF038-155943': Stream(name='PA2701atmoF038-155943'),\n",
       " 'PA2701atmoF038-161405': Stream(name='PA2701atmoF038-161405'),\n",
       " 'PA2701atmoF039-165309': Stream(name='PA2701atmoF039-165309'),\n",
       " 'PA2701atmoF040-210537': Stream(name='PA2701atmoF040-210537'),\n",
       " 'PA2701atmoF041-163427': Stream(name='PA2701atmoF041-163427'),\n",
       " 'PA2701atmoF042-173814': Stream(name='PA2701atmoF042-173814'),\n",
       " 'PA2701atmoF042-180445': Stream(name='PA2701atmoF042-180445'),\n",
       " 'PA2701atmoF043-190305': Stream(name='PA2701atmoF043-190305'),\n",
       " 'PA2701atmoF044-220609': Stream(name='PA2701atmoF044-220609'),\n",
       " 'PA2701atmoF045-161345': Stream(name='PA2701atmoF045-161345'),\n",
       " 'PA2701atmoF046-171101': Stream(name='PA2701atmoF046-171101'),\n",
       " 'PA2701atmoF047-220543': Stream(name='PA2701atmoF047-220543'),\n",
       " 'PA2701atmoF048-164035': Stream(name='PA2701atmoF048-164035'),\n",
       " 'PA2701atmoF048-165058': Stream(name='PA2701atmoF048-165058'),\n",
       " 'PA2701atmoF049-183500': Stream(name='PA2701atmoF049-183500'),\n",
       " 'PA2701atmoF050-190910': Stream(name='PA2701atmoF050-190910'),\n",
       " 'PA2701atmoF051-221553': Stream(name='PA2701atmoF051-221553'),\n",
       " 'PA2701atmoF052-162105': Stream(name='PA2701atmoF052-162105'),\n",
       " 'PA2701atmoF053-171247': Stream(name='PA2701atmoF053-171247'),\n",
       " 'PA2701atmoF054-210837': Stream(name='PA2701atmoF054-210837'),\n",
       " 'PA2701atmoF055-214224': Stream(name='PA2701atmoF055-214224'),\n",
       " 'PA2701atmoF056-221313': Stream(name='PA2701atmoF056-221313'),\n",
       " 'PA2701atmoF057-225515': Stream(name='PA2701atmoF057-225515'),\n",
       " 'PA2701atmoF057-230241': Stream(name='PA2701atmoF057-230241'),\n",
       " 'PA2701atmoF058-175923': Stream(name='PA2701atmoF058-175923'),\n",
       " 'PA2701atmoF059-185151': Stream(name='PA2701atmoF059-185151'),\n",
       " 'PA2701atmoF060-192133': Stream(name='PA2701atmoF060-192133'),\n",
       " 'PA2701atmotest-211318': Stream(name='PA2701atmotest-211318'),\n",
       " 'PA2701atmotest2-211840': Stream(name='PA2701atmotest2-211840'),\n",
       " 'PA2701atmotest3-212337': Stream(name='PA2701atmotest3-212337'),\n",
       " 'PA2701atmotest4-213444': Stream(name='PA2701atmotest4-213444'),\n",
       " 'PA2719atmoD044-145555': Stream(name='PA2719atmoD044-145555'),\n",
       " 'PA2801atmoD342-144645': Stream(name='PA2801atmoD342-144645'),\n",
       " 'PA2801atmoD345-200751': Stream(name='PA2801atmoD345-200751'),\n",
       " 'PA2801atmoD345-223748': Stream(name='PA2801atmoD345-223748'),\n",
       " 'PA2801atmoD351-144421': Stream(name='PA2801atmoD351-144421'),\n",
       " 'PA2801atmoF001-160017': Stream(name='PA2801atmoF001-160017'),\n",
       " 'PA2801atmoF001-163043': Stream(name='PA2801atmoF001-163043'),\n",
       " 'PA2801atmoF001-171401': Stream(name='PA2801atmoF001-171401'),\n",
       " 'PA2801atmoF002-165115': Stream(name='PA2801atmoF002-165115'),\n",
       " 'PA2801atmoF002-172717': Stream(name='PA2801atmoF002-172717'),\n",
       " 'PA2801atmoF003-173721': Stream(name='PA2801atmoF003-173721'),\n",
       " 'PA2801atmoF003-201202': Stream(name='PA2801atmoF003-201202'),\n",
       " 'PA2801atmoF004-185413': Stream(name='PA2801atmoF004-185413'),\n",
       " 'PA2801atmoF004-203444': Stream(name='PA2801atmoF004-203444'),\n",
       " 'PA2801atmoF005-190147': Stream(name='PA2801atmoF005-190147'),\n",
       " 'PA2801atmoF005-205426': Stream(name='PA2801atmoF005-205426'),\n",
       " 'PA2801atmoF006-180226': Stream(name='PA2801atmoF006-180226'),\n",
       " 'PA2801atmoF006-190913': Stream(name='PA2801atmoF006-190913'),\n",
       " 'PA2801atmoF007-191645': Stream(name='PA2801atmoF007-191645'),\n",
       " 'PA2801atmoF007-193430': Stream(name='PA2801atmoF007-193430'),\n",
       " 'PA2801atmoF008-192427': Stream(name='PA2801atmoF008-192427'),\n",
       " 'PA2801atmoF008-201548': Stream(name='PA2801atmoF008-201548'),\n",
       " 'PA2801atmoF009-192914': Stream(name='PA2801atmoF009-192914'),\n",
       " 'PA2801atmoF009-205020': Stream(name='PA2801atmoF009-205020'),\n",
       " 'PA2801atmoF010-200619': Stream(name='PA2801atmoF010-200619'),\n",
       " 'PA2801atmoF010-220758': Stream(name='PA2801atmoF010-220758'),\n",
       " 'PA2801atmoF011-201432': Stream(name='PA2801atmoF011-201432'),\n",
       " 'PA2801atmoF011-202229': Stream(name='PA2801atmoF011-202229'),\n",
       " 'PA2801atmoF011-203808': Stream(name='PA2801atmoF011-203808'),\n",
       " 'PA2801atmoF012-203015': Stream(name='PA2801atmoF012-203015'),\n",
       " 'PA2801atmoF012-203747': Stream(name='PA2801atmoF012-203747'),\n",
       " 'PA2801atmoF012-211826': Stream(name='PA2801atmoF012-211826'),\n",
       " 'PA2801atmoF013-204521': Stream(name='PA2801atmoF013-204521'),\n",
       " 'PA2801atmoF013-213914': Stream(name='PA2801atmoF013-213914'),\n",
       " 'PA2801atmoF014-205239': Stream(name='PA2801atmoF014-205239'),\n",
       " 'PA2801atmoF014-215421': Stream(name='PA2801atmoF014-215421'),\n",
       " 'PA2801atmoF015-210015': Stream(name='PA2801atmoF015-210015'),\n",
       " 'PA2801atmoF015-212415': Stream(name='PA2801atmoF015-212415'),\n",
       " 'PA2801atmoF015-221547': Stream(name='PA2801atmoF015-221547'),\n",
       " 'PA2801atmoF016-153902': Stream(name='PA2801atmoF016-153902'),\n",
       " 'PA2801atmoF016-210746': Stream(name='PA2801atmoF016-210746'),\n",
       " 'PA2801atmoF017-161930': Stream(name='PA2801atmoF017-161930'),\n",
       " 'PA2801atmoF017-211047': Stream(name='PA2801atmoF017-211047'),\n",
       " 'PA2801atmoF018-170303': Stream(name='PA2801atmoF018-170303'),\n",
       " 'PA2801atmoF018-212009': Stream(name='PA2801atmoF018-212009'),\n",
       " 'PA2801atmoF019-154817': Stream(name='PA2801atmoF019-154817'),\n",
       " 'PA2801atmoF019-193417': Stream(name='PA2801atmoF019-193417'),\n",
       " 'PA2801atmoF020-163600': Stream(name='PA2801atmoF020-163600'),\n",
       " 'PA2801atmoF020-194001': Stream(name='PA2801atmoF020-194001'),\n",
       " 'PA2801atmoF020-211005': Stream(name='PA2801atmoF020-211005'),\n",
       " 'PA2801atmoF021-194706': Stream(name='PA2801atmoF021-194706'),\n",
       " 'PA2801atmoF021-213912': Stream(name='PA2801atmoF021-213912'),\n",
       " 'PA2801atmoF022-195350': Stream(name='PA2801atmoF022-195350'),\n",
       " 'PA2801atmoF022-215934': Stream(name='PA2801atmoF022-215934'),\n",
       " 'PA2801atmoF023-195819': Stream(name='PA2801atmoF023-195819'),\n",
       " 'PA2801atmoF023-222022': Stream(name='PA2801atmoF023-222022'),\n",
       " 'PA2801atmoF024-184401': Stream(name='PA2801atmoF024-184401'),\n",
       " 'PA2801atmoF024-200233': Stream(name='PA2801atmoF024-200233'),\n",
       " 'PA2801atmoF025-185859': Stream(name='PA2801atmoF025-185859'),\n",
       " 'PA2801atmoF025-200740': Stream(name='PA2801atmoF025-200740'),\n",
       " 'PA2801atmoF026-191621': Stream(name='PA2801atmoF026-191621'),\n",
       " 'PA2801atmoF026-201141': Stream(name='PA2801atmoF026-201141'),\n",
       " 'PA2801atmoF027-193115': Stream(name='PA2801atmoF027-193115'),\n",
       " 'PA2801atmoF027-201604': Stream(name='PA2801atmoF027-201604'),\n",
       " 'PA2801atmoF028-194634': Stream(name='PA2801atmoF028-194634'),\n",
       " 'PA2801atmoF028-203904': Stream(name='PA2801atmoF028-203904'),\n",
       " 'PA2801atmoF029-144352': Stream(name='PA2801atmoF029-144352'),\n",
       " 'PA2801atmoF029-211659': Stream(name='PA2801atmoF029-211659'),\n",
       " 'PA2801atmoF030-150400': Stream(name='PA2801atmoF030-150400'),\n",
       " 'PA2801atmoF030-212425': Stream(name='PA2801atmoF030-212425'),\n",
       " 'PA2801atmoF031-151959': Stream(name='PA2801atmoF031-151959'),\n",
       " 'PA2801atmoF031-213642': Stream(name='PA2801atmoF031-213642'),\n",
       " 'PA2801atmoF032-182849': Stream(name='PA2801atmoF032-182849'),\n",
       " 'PA2801atmoF032-214104': Stream(name='PA2801atmoF032-214104'),\n",
       " 'PA2801atmoF033-184337': Stream(name='PA2801atmoF033-184337'),\n",
       " 'PA2801atmoF033-214520': Stream(name='PA2801atmoF033-214520'),\n",
       " 'PA2801atmoF034-194855': Stream(name='PA2801atmoF034-194855'),\n",
       " 'PA2801atmoF034-214812': Stream(name='PA2801atmoF034-214812'),\n",
       " 'PA2801atmoF035-201406': Stream(name='PA2801atmoF035-201406'),\n",
       " 'PA2801atmoF035-215047': Stream(name='PA2801atmoF035-215047'),\n",
       " 'PA2801atmoF036-203409': Stream(name='PA2801atmoF036-203409'),\n",
       " 'PA2801atmoF036-215442': Stream(name='PA2801atmoF036-215442'),\n",
       " 'PA2801atmoF037-203929': Stream(name='PA2801atmoF037-203929'),\n",
       " 'PA2801atmoF037-205418': Stream(name='PA2801atmoF037-205418'),\n",
       " 'PA2801atmoF037-205504': Stream(name='PA2801atmoF037-205504'),\n",
       " 'PA2801atmoF038-210102': Stream(name='PA2801atmoF038-210102'),\n",
       " 'PA2801atmoF038-212943': Stream(name='PA2801atmoF038-212943'),\n",
       " 'PA2801atmoF038-214947': Stream(name='PA2801atmoF038-214947'),\n",
       " 'PA2801atmoF039-155111': Stream(name='PA2801atmoF039-155111'),\n",
       " 'PA2801atmoF039-210504': Stream(name='PA2801atmoF039-210504'),\n",
       " 'PA2801atmoF039-211135': Stream(name='PA2801atmoF039-211135'),\n",
       " 'PA2801atmoF040-162220': Stream(name='PA2801atmoF040-162220'),\n",
       " 'PA2801atmoF040-211538': Stream(name='PA2801atmoF040-211538'),\n",
       " 'PA2801atmoF041-163630': Stream(name='PA2801atmoF041-163630'),\n",
       " 'PA2801atmoF041-211928': Stream(name='PA2801atmoF041-211928'),\n",
       " 'PA2801atmoF042-165054': Stream(name='PA2801atmoF042-165054'),\n",
       " 'PA2801atmoF042-212321': Stream(name='PA2801atmoF042-212321'),\n",
       " 'PA2801atmoF043-185201': Stream(name='PA2801atmoF043-185201'),\n",
       " 'PA2801atmoF043-212743': Stream(name='PA2801atmoF043-212743'),\n",
       " 'PA2801atmoF044-191848': Stream(name='PA2801atmoF044-191848'),\n",
       " 'PA2801atmoF044-213037': Stream(name='PA2801atmoF044-213037'),\n",
       " 'PA2801atmoF045-194110': Stream(name='PA2801atmoF045-194110'),\n",
       " 'PA2801atmoF045-213312': Stream(name='PA2801atmoF045-213312'),\n",
       " 'PA2801atmoF046-201709': Stream(name='PA2801atmoF046-201709'),\n",
       " 'PA2801atmoF046-222333': Stream(name='PA2801atmoF046-222333'),\n",
       " 'PA2801atmoF047-210231': Stream(name='PA2801atmoF047-210231'),\n",
       " 'PA2801atmoF047-222637': Stream(name='PA2801atmoF047-222637'),\n",
       " 'PA2801atmoF048-212825': Stream(name='PA2801atmoF048-212825'),\n",
       " 'PA2801atmoF048-223344': Stream(name='PA2801atmoF048-223344'),\n",
       " 'PA2801atmoF049-163148': Stream(name='PA2801atmoF049-163148'),\n",
       " 'PA2801atmoF049-193733': Stream(name='PA2801atmoF049-193733'),\n",
       " 'PA2801atmoF050-164610': Stream(name='PA2801atmoF050-164610'),\n",
       " 'PA2801atmoF050-194104': Stream(name='PA2801atmoF050-194104'),\n",
       " 'PA2801atmoF051-170018': Stream(name='PA2801atmoF051-170018'),\n",
       " 'PA2801atmoF051-194413': Stream(name='PA2801atmoF051-194413'),\n",
       " 'PA2801atmoF052-185859': Stream(name='PA2801atmoF052-185859'),\n",
       " 'PA2801atmoF052-194741': Stream(name='PA2801atmoF052-194741'),\n",
       " 'PA2801atmoF053-193732': Stream(name='PA2801atmoF053-193732'),\n",
       " 'PA2801atmoF053-195118': Stream(name='PA2801atmoF053-195118'),\n",
       " 'PA2801atmoF054-195412': Stream(name='PA2801atmoF054-195412'),\n",
       " 'PA2801atmoF054-201608': Stream(name='PA2801atmoF054-201608'),\n",
       " 'PA2801atmoF055-202056': Stream(name='PA2801atmoF055-202056'),\n",
       " 'PA2801atmoF055-203547': Stream(name='PA2801atmoF055-203547'),\n",
       " 'PA2801atmoF056-202452': Stream(name='PA2801atmoF056-202452'),\n",
       " 'PA2801atmoF056-211313': Stream(name='PA2801atmoF056-211313'),\n",
       " 'PA2801atmoF057-202850': Stream(name='PA2801atmoF057-202850'),\n",
       " 'PA2801atmoF057-213128': Stream(name='PA2801atmoF057-213128'),\n",
       " 'PA2801atmoF058-203159': Stream(name='PA2801atmoF058-203159'),\n",
       " 'PA2801atmoF058-215518': Stream(name='PA2801atmoF058-215518'),\n",
       " 'PA2801atmoF058A-220004': Stream(name='PA2801atmoF058A-220004'),\n",
       " 'PA2801atmoF059-134331': Stream(name='PA2801atmoF059-134331'),\n",
       " 'PA2801atmoF059-203449': Stream(name='PA2801atmoF059-203449'),\n",
       " 'PA2801atmoF060-140844': Stream(name='PA2801atmoF060-140844'),\n",
       " 'PA2801atmoF060-203756': Stream(name='PA2801atmoF060-203756'),\n",
       " 'PA2801atmoF061-142808': Stream(name='PA2801atmoF061-142808'),\n",
       " 'PA2801atmoF061-204103': Stream(name='PA2801atmoF061-204103'),\n",
       " 'PA2801atmoF062-204356': Stream(name='PA2801atmoF062-204356'),\n",
       " 'PA2801atmoF063-204613': Stream(name='PA2801atmoF063-204613'),\n",
       " 'PA2801atmoF064-211710': Stream(name='PA2801atmoF064-211710'),\n",
       " 'PA2801atmoF065-212234': Stream(name='PA2801atmoF065-212234'),\n",
       " 'PA2801atmoF066-213847': Stream(name='PA2801atmoF066-213847'),\n",
       " 'PA2801atmoF067-214215': Stream(name='PA2801atmoF067-214215'),\n",
       " 'PA2801atmoF068-214606': Stream(name='PA2801atmoF068-214606'),\n",
       " 'PA2801atmoF069-214932': Stream(name='PA2801atmoF069-214932'),\n",
       " 'PA2801atmoF070-215708': Stream(name='PA2801atmoF070-215708'),\n",
       " 'PA2801atmoF071-220000': Stream(name='PA2801atmoF071-220000'),\n",
       " 'PA2801atmoF072-220306': Stream(name='PA2801atmoF072-220306'),\n",
       " 'PA2801atmoF073-220535': Stream(name='PA2801atmoF073-220535'),\n",
       " 'PA2801atmoF074-220809': Stream(name='PA2801atmoF074-220809'),\n",
       " 'PA2801atmoF075-221142': Stream(name='PA2801atmoF075-221142'),\n",
       " 'PA2801atmoF076-185821': Stream(name='PA2801atmoF076-185821'),\n",
       " 'PA2801atmoF077-192509': Stream(name='PA2801atmoF077-192509'),\n",
       " 'PA2801atmoF078-192933': Stream(name='PA2801atmoF078-192933'),\n",
       " 'PA2801atmoF079-193350': Stream(name='PA2801atmoF079-193350'),\n",
       " 'PA2801atmoF080-193800': Stream(name='PA2801atmoF080-193800'),\n",
       " 'PA2801atmoF081-194050': Stream(name='PA2801atmoF081-194050'),\n",
       " 'PA2801atmoF082-195746': Stream(name='PA2801atmoF082-195746'),\n",
       " 'PA2801atmoF083-200024': Stream(name='PA2801atmoF083-200024'),\n",
       " 'PA2801atmoF084-200328': Stream(name='PA2801atmoF084-200328'),\n",
       " 'PA2801atmoF085-200744': Stream(name='PA2801atmoF085-200744'),\n",
       " 'PA2801atmoF086-201159': Stream(name='PA2801atmoF086-201159'),\n",
       " 'PA2801atmoF087-203017': Stream(name='PA2801atmoF087-203017'),\n",
       " 'PA2801atmoF088-203315': Stream(name='PA2801atmoF088-203315'),\n",
       " 'PA2801atmoF089-203725': Stream(name='PA2801atmoF089-203725'),\n",
       " 'PA2801atmoF090-210701': Stream(name='PA2801atmoF090-210701'),\n",
       " 'PA2801atmoF091-211856': Stream(name='PA2801atmoF091-211856'),\n",
       " 'PA2801atmoF092-212446': Stream(name='PA2801atmoF092-212446'),\n",
       " 'PA2801atmoF092-214122': Stream(name='PA2801atmoF092-214122'),\n",
       " 'PA2801atmoF093-161157': Stream(name='PA2801atmoF093-161157'),\n",
       " 'PA2801atmoF094-161813': Stream(name='PA2801atmoF094-161813'),\n",
       " 'PA2801atmoF095-162114': Stream(name='PA2801atmoF095-162114'),\n",
       " 'PA2801atmoF096-162352': Stream(name='PA2801atmoF096-162352'),\n",
       " 'PA2801atmoF097-162625': Stream(name='PA2801atmoF097-162625'),\n",
       " 'PA2801atmoF098-162835': Stream(name='PA2801atmoF098-162835'),\n",
       " 'PA2801atmoF099-164629': Stream(name='PA2801atmoF099-164629'),\n",
       " 'PA2801atmoF100-164923': Stream(name='PA2801atmoF100-164923'),\n",
       " 'PA2801atmoF100-165541': Stream(name='PA2801atmoF100-165541'),\n",
       " 'PA2801atmoF101-170230': Stream(name='PA2801atmoF101-170230'),\n",
       " 'PA2801atmoF102-190031': Stream(name='PA2801atmoF102-190031'),\n",
       " 'PA2801atmoF103-190357': Stream(name='PA2801atmoF103-190357'),\n",
       " 'PA2801atmoF104-195249': Stream(name='PA2801atmoF104-195249'),\n",
       " 'PA2801atmoF105-195744': Stream(name='PA2801atmoF105-195744'),\n",
       " 'PA2801atmoF106-200057': Stream(name='PA2801atmoF106-200057'),\n",
       " 'PA2801atmoF107-200556': Stream(name='PA2801atmoF107-200556'),\n",
       " 'PA2801atmoF108-201024': Stream(name='PA2801atmoF108-201024'),\n",
       " 'PA2801atmoF109-201559': Stream(name='PA2801atmoF109-201559'),\n",
       " 'PA2801atmoF110-201940': Stream(name='PA2801atmoF110-201940'),\n",
       " 'PA2801atmoF111-202457': Stream(name='PA2801atmoF111-202457'),\n",
       " 'PA2801atmoF112-202812': Stream(name='PA2801atmoF112-202812'),\n",
       " 'PA2801atmoF113-203128': Stream(name='PA2801atmoF113-203128'),\n",
       " 'PA2801atmoF114-203543': Stream(name='PA2801atmoF114-203543'),\n",
       " 'PA2801atmoF114-203952': Stream(name='PA2801atmoF114-203952'),\n",
       " 'PA2801atmoF114-204423': Stream(name='PA2801atmoF114-204423'),\n",
       " 'PA2801atmoF115-204832': Stream(name='PA2801atmoF115-204832'),\n",
       " 'PA2801atmoF116-205403': Stream(name='PA2801atmoF116-205403'),\n",
       " 'PA2801atmoF117-205835': Stream(name='PA2801atmoF117-205835'),\n",
       " 'PA2801atmoF118-214226': Stream(name='PA2801atmoF118-214226'),\n",
       " 'PA2801atmoF118-214621': Stream(name='PA2801atmoF118-214621'),\n",
       " 'PA2801atmoF119-215134': Stream(name='PA2801atmoF119-215134'),\n",
       " 'PA2801atmoF120-215426': Stream(name='PA2801atmoF120-215426'),\n",
       " 'PA2801atmoF120-220221': Stream(name='PA2801atmoF120-220221'),\n",
       " 'PA2801atmoF121-215713': Stream(name='PA2801atmoF121-215713'),\n",
       " 'PA2801atmoF122-221454': Stream(name='PA2801atmoF122-221454'),\n",
       " 'PA2801atmoF123-161338': Stream(name='PA2801atmoF123-161338'),\n",
       " 'PA2801atmoF124-161956': Stream(name='PA2801atmoF124-161956'),\n",
       " 'PA2801atmoF125-162436': Stream(name='PA2801atmoF125-162436'),\n",
       " 'PA2801atmoF126-171830': Stream(name='PA2801atmoF126-171830'),\n",
       " 'PA2801atmoF126-172504': Stream(name='PA2801atmoF126-172504'),\n",
       " 'PA2801atmoF126-173019': Stream(name='PA2801atmoF126-173019'),\n",
       " 'PA2801atmoF127-173350': Stream(name='PA2801atmoF127-173350'),\n",
       " 'PA2801atmoF128-175227': Stream(name='PA2801atmoF128-175227'),\n",
       " 'PA2801atmoF129-175550': Stream(name='PA2801atmoF129-175550'),\n",
       " 'PA2801atmoF130-175946': Stream(name='PA2801atmoF130-175946'),\n",
       " 'PA2801atmoF131-180331': Stream(name='PA2801atmoF131-180331'),\n",
       " 'PA2801atmoF132-180646': Stream(name='PA2801atmoF132-180646'),\n",
       " 'PA2801atmoF133-180900': Stream(name='PA2801atmoF133-180900'),\n",
       " 'PA2801atmoF134-181227': Stream(name='PA2801atmoF134-181227'),\n",
       " 'PA2801atmoF135-181602': Stream(name='PA2801atmoF135-181602'),\n",
       " 'PA2801atmoF136-181918': Stream(name='PA2801atmoF136-181918'),\n",
       " 'PA2801atmoF137-182202': Stream(name='PA2801atmoF137-182202'),\n",
       " 'PA2801atmoF137-182530': Stream(name='PA2801atmoF137-182530'),\n",
       " 'PA2801atmoF138-182833': Stream(name='PA2801atmoF138-182833'),\n",
       " 'PA2801atmoF139-183124': Stream(name='PA2801atmoF139-183124'),\n",
       " 'PA2801atmoF140-183625': Stream(name='PA2801atmoF140-183625'),\n",
       " 'PA2801atmoF141-183924': Stream(name='PA2801atmoF141-183924'),\n",
       " 'PA2801atmoF142-205155': Stream(name='PA2801atmoF142-205155'),\n",
       " 'PA2801atmoF143-205558': Stream(name='PA2801atmoF143-205558'),\n",
       " 'PA2801atmoF144-212656': Stream(name='PA2801atmoF144-212656'),\n",
       " 'PA2801atmoF144-213301': Stream(name='PA2801atmoF144-213301'),\n",
       " 'PA2801atmoF145-213846': Stream(name='PA2801atmoF145-213846'),\n",
       " 'PA2801atmoF145-214229': Stream(name='PA2801atmoF145-214229'),\n",
       " 'PA2801atmoF146-215133': Stream(name='PA2801atmoF146-215133'),\n",
       " 'PA2801atmoF147-215703': Stream(name='PA2801atmoF147-215703'),\n",
       " 'PA2801atmoF147-220715': Stream(name='PA2801atmoF147-220715'),\n",
       " 'PA2801atmoF148-220208': Stream(name='PA2801atmoF148-220208'),\n",
       " 'PA2801atmoF149-221403': Stream(name='PA2801atmoF149-221403'),\n",
       " 'PA2801atmoF150-221722': Stream(name='PA2801atmoF150-221722'),\n",
       " 'PA2801atmoF151-222020': Stream(name='PA2801atmoF151-222020'),\n",
       " 'PA2801atmoF152-195036': Stream(name='PA2801atmoF152-195036'),\n",
       " 'PA2801atmoF153-195725': Stream(name='PA2801atmoF153-195725'),\n",
       " 'PA2801atmoF154-200140': Stream(name='PA2801atmoF154-200140'),\n",
       " 'PA2801atmoF155-201144': Stream(name='PA2801atmoF155-201144'),\n",
       " 'PA2801atmoF155-201540': Stream(name='PA2801atmoF155-201540'),\n",
       " 'PA2801atmoF155-202203': Stream(name='PA2801atmoF155-202203'),\n",
       " 'PA2801atmoF155-205924': Stream(name='PA2801atmoF155-205924'),\n",
       " 'PA2801atmoF156-202526': Stream(name='PA2801atmoF156-202526'),\n",
       " 'PA2801atmoF156-203027': Stream(name='PA2801atmoF156-203027'),\n",
       " 'PA2801atmoF157-210842': Stream(name='PA2801atmoF157-210842'),\n",
       " 'PA2801atmoF158-211137': Stream(name='PA2801atmoF158-211137'),\n",
       " 'PA2801atmoF159-211533': Stream(name='PA2801atmoF159-211533'),\n",
       " 'PA2801atmoF160-212136': Stream(name='PA2801atmoF160-212136'),\n",
       " 'PA2801atmoF161-212631': Stream(name='PA2801atmoF161-212631'),\n",
       " 'PA2801atmoF162-213629': Stream(name='PA2801atmoF162-213629'),\n",
       " 'PA2801atmoF163-213953': Stream(name='PA2801atmoF163-213953'),\n",
       " 'PA2801atmoF164-214327': Stream(name='PA2801atmoF164-214327'),\n",
       " 'PA2801atmoF164-215411': Stream(name='PA2801atmoF164-215411'),\n",
       " 'PA2801atmoF165-214648': Stream(name='PA2801atmoF165-214648'),\n",
       " 'PA2801atmoF166-215021': Stream(name='PA2801atmoF166-215021'),\n",
       " 'PA2801atmoF167-215801': Stream(name='PA2801atmoF167-215801'),\n",
       " 'PA2801atmoF168-220326': Stream(name='PA2801atmoF168-220326'),\n",
       " 'PA2801atmoF168-220703': Stream(name='PA2801atmoF168-220703'),\n",
       " 'PA2801atmoF168-221143': Stream(name='PA2801atmoF168-221143'),\n",
       " 'PA2801atmoF169-221523': Stream(name='PA2801atmoF169-221523'),\n",
       " 'PA2801atmoF170-200609': Stream(name='PA2801atmoF170-200609'),\n",
       " 'PA2801atmoF171-201141': Stream(name='PA2801atmoF171-201141'),\n",
       " 'PA2801atmoF172-201538': Stream(name='PA2801atmoF172-201538'),\n",
       " 'PA2801atmoF173-202034': Stream(name='PA2801atmoF173-202034'),\n",
       " 'PA2801atmoF173-202408': Stream(name='PA2801atmoF173-202408'),\n",
       " 'PA2801atmoF174-203724': Stream(name='PA2801atmoF174-203724'),\n",
       " 'PA2801atmoF174-222112': Stream(name='PA2801atmoF174-222112'),\n",
       " 'PA2801atmoF175-222542': Stream(name='PA2801atmoF175-222542'),\n",
       " 'PA2801atmoF176-172023': Stream(name='PA2801atmoF176-172023'),\n",
       " 'PA2801atmoF176-172848': Stream(name='PA2801atmoF176-172848'),\n",
       " 'PA2801atmoF177-172440': Stream(name='PA2801atmoF177-172440'),\n",
       " 'PA2801atmoF178-173638': Stream(name='PA2801atmoF178-173638'),\n",
       " 'PA2801atmoF179-174403': Stream(name='PA2801atmoF179-174403'),\n",
       " 'PA2801atmoF180-193741': Stream(name='PA2801atmoF180-193741'),\n",
       " 'PA2801atmoF181-194444': Stream(name='PA2801atmoF181-194444'),\n",
       " 'PA2801atmoF182-194824': Stream(name='PA2801atmoF182-194824'),\n",
       " 'PA2801atmoF183-195155': Stream(name='PA2801atmoF183-195155'),\n",
       " 'PA2801atmoF184-195518': Stream(name='PA2801atmoF184-195518'),\n",
       " 'PA2801atmoF185-195901': Stream(name='PA2801atmoF185-195901'),\n",
       " 'PA2801atmoF186-200243': Stream(name='PA2801atmoF186-200243'),\n",
       " 'PA2801atmoF187-200614': Stream(name='PA2801atmoF187-200614'),\n",
       " 'PA2801atmoF188-201152': Stream(name='PA2801atmoF188-201152'),\n",
       " 'PA2801atmoF189-202207': Stream(name='PA2801atmoF189-202207'),\n",
       " 'PA2801atmoF190-203326': Stream(name='PA2801atmoF190-203326'),\n",
       " 'PA2801atmoF200-180644': Stream(name='PA2801atmoF200-180644'),\n",
       " 'PA2801atmoF201-182250': Stream(name='PA2801atmoF201-182250'),\n",
       " 'PA2801atmoF202-183014': Stream(name='PA2801atmoF202-183014'),\n",
       " 'PA2801atmoF202-203513': Stream(name='PA2801atmoF202-203513'),\n",
       " 'PA2801atmoF203-183434': Stream(name='PA2801atmoF203-183434'),\n",
       " 'PA2801atmoF204-183753': Stream(name='PA2801atmoF204-183753'),\n",
       " 'PA2801atmoF205-204347': Stream(name='PA2801atmoF205-204347'),\n",
       " 'PA2801atmoF205-210124': Stream(name='PA2801atmoF205-210124'),\n",
       " 'PA2801atmoF206-205527': Stream(name='PA2801atmoF206-205527'),\n",
       " 'PA2801atmoF207-210721': Stream(name='PA2801atmoF207-210721'),\n",
       " 'PA2801atmoF208-211321': Stream(name='PA2801atmoF208-211321'),\n",
       " 'PA2801atmoF208-211926': Stream(name='PA2801atmoF208-211926'),\n",
       " 'PA2801atmoF209-212524': Stream(name='PA2801atmoF209-212524'),\n",
       " 'PA2801atmoF210-213119': Stream(name='PA2801atmoF210-213119'),\n",
       " 'PA2801atmoF211-162117': Stream(name='PA2801atmoF211-162117'),\n",
       " 'PA2801atmoF211-221201': Stream(name='PA2801atmoF211-221201'),\n",
       " 'PA2801atmoF212-221617': Stream(name='PA2801atmoF212-221617'),\n",
       " 'PA2801atmoF213-222257': Stream(name='PA2801atmoF213-222257'),\n",
       " 'PA2801atmoF214-222641': Stream(name='PA2801atmoF214-222641'),\n",
       " 'PA2801atmoF215-223057': Stream(name='PA2801atmoF215-223057'),\n",
       " 'PA2801atmoF215-223424': Stream(name='PA2801atmoF215-223424'),\n",
       " 'PA2801atmoF216-223734': Stream(name='PA2801atmoF216-223734'),\n",
       " 'PA2801atmoF217-154408': Stream(name='PA2801atmoF217-154408'),\n",
       " 'PA2801atmoF218-154927': Stream(name='PA2801atmoF218-154927'),\n",
       " 'PA2801atmoF218-161655': Stream(name='PA2801atmoF218-161655'),\n",
       " 'PA2801atmoF219-155616': Stream(name='PA2801atmoF219-155616'),\n",
       " 'PA2801atmoF219-160209': Stream(name='PA2801atmoF219-160209'),\n",
       " 'PA2801atmoF220-160615': Stream(name='PA2801atmoF220-160615'),\n",
       " 'PA2801atmoF221-161145': Stream(name='PA2801atmoF221-161145'),\n",
       " 'PA2801atmoF222-154902': Stream(name='PA2801atmoF222-154902'),\n",
       " 'PA2801atmoF223-155202': Stream(name='PA2801atmoF223-155202'),\n",
       " 'PA2801atmoF224-155537': Stream(name='PA2801atmoF224-155537'),\n",
       " 'PA2801atmoF224-160007': Stream(name='PA2801atmoF224-160007'),\n",
       " 'PA2801atmoF225-191247': Stream(name='PA2801atmoF225-191247'),\n",
       " 'PA2801atmoF226-191633': Stream(name='PA2801atmoF226-191633'),\n",
       " 'PA2801atmoF227-192102': Stream(name='PA2801atmoF227-192102'),\n",
       " 'PA2801atmoF228-213937': Stream(name='PA2801atmoF228-213937'),\n",
       " 'PA2801atmoF228-221524': Stream(name='PA2801atmoF228-221524'),\n",
       " 'PA2801atmoF229-214448': Stream(name='PA2801atmoF229-214448'),\n",
       " 'PA2801atmoF229-222225': Stream(name='PA2801atmoF229-222225'),\n",
       " 'PA2801atmoF230-214852': Stream(name='PA2801atmoF230-214852'),\n",
       " 'PA2801atmoF230-222539': Stream(name='PA2801atmoF230-222539'),\n",
       " 'PA2801atmoF231-211020': Stream(name='PA2801atmoF231-211020'),\n",
       " 'PA2801atmoF232-211350': Stream(name='PA2801atmoF232-211350'),\n",
       " 'PA2801atmoF233-211713': Stream(name='PA2801atmoF233-211713'),\n",
       " 'PA2801atmoF234-230817': Stream(name='PA2801atmoF234-230817'),\n",
       " 'PA2801atmoF235-231244': Stream(name='PA2801atmoF235-231244'),\n",
       " 'PA2801atmoF236-231708': Stream(name='PA2801atmoF236-231708'),\n",
       " 'PA2801atmoF237-205430': Stream(name='PA2801atmoF237-205430'),\n",
       " 'PA2801atmoF238-205926': Stream(name='PA2801atmoF238-205926'),\n",
       " 'PA2801atmoF239-210841': Stream(name='PA2801atmoF239-210841'),\n",
       " 'PA2801atmoF239-211340': Stream(name='PA2801atmoF239-211340'),\n",
       " 'PA2801atmoF240-173612': Stream(name='PA2801atmoF240-173612'),\n",
       " 'PA2801atmoF240-174021': Stream(name='PA2801atmoF240-174021'),\n",
       " 'PA2801atmoF241-175450': Stream(name='PA2801atmoF241-175450'),\n",
       " 'PA2801atmoF242-175836': Stream(name='PA2801atmoF242-175836'),\n",
       " 'PA2801atmoF242-180325': Stream(name='PA2801atmoF242-180325'),\n",
       " 'PA2801atmoF243-182740': Stream(name='PA2801atmoF243-182740'),\n",
       " 'PA2801atmoF243-183705': Stream(name='PA2801atmoF243-183705'),\n",
       " 'PA2801atmoF244-213029': Stream(name='PA2801atmoF244-213029'),\n",
       " 'PA2801atmoF245-213822': Stream(name='PA2801atmoF245-213822'),\n",
       " 'PA2801atmoF245-214319': Stream(name='PA2801atmoF245-214319'),\n",
       " 'PA2801atmoF245-230153': Stream(name='PA2801atmoF245-230153'),\n",
       " 'PA2801atmoF246-160454': Stream(name='PA2801atmoF246-160454'),\n",
       " 'PA2801atmoF247-160914': Stream(name='PA2801atmoF247-160914'),\n",
       " 'PA2801atmoF247-161624': Stream(name='PA2801atmoF247-161624'),\n",
       " 'PA2801atmoF248-161911': Stream(name='PA2801atmoF248-161911'),\n",
       " 'PA2801atmoF249-162403': Stream(name='PA2801atmoF249-162403'),\n",
       " 'PA2801atmoF250-162621': Stream(name='PA2801atmoF250-162621'),\n",
       " 'PA2801atmoF251-162848': Stream(name='PA2801atmoF251-162848'),\n",
       " 'PA2801atmoF252-192457': Stream(name='PA2801atmoF252-192457'),\n",
       " 'PA2801atmoF253-192842': Stream(name='PA2801atmoF253-192842'),\n",
       " 'PA2801atmoF254-193408': Stream(name='PA2801atmoF254-193408'),\n",
       " 'PA2801atmoF255-193656': Stream(name='PA2801atmoF255-193656'),\n",
       " 'PA2801atmoF256-193906': Stream(name='PA2801atmoF256-193906'),\n",
       " 'PA2801atmoF257-194313': Stream(name='PA2801atmoF257-194313'),\n",
       " 'PA2801atmoF258-163155': Stream(name='PA2801atmoF258-163155'),\n",
       " 'PA2801atmoF258-163559': Stream(name='PA2801atmoF258-163559'),\n",
       " 'PA2801atmoF258-164012': Stream(name='PA2801atmoF258-164012'),\n",
       " 'PA2801atmoF259-164348': Stream(name='PA2801atmoF259-164348'),\n",
       " 'PA2801atmoF260-164644': Stream(name='PA2801atmoF260-164644'),\n",
       " 'PA2801atmoF261-164915': Stream(name='PA2801atmoF261-164915'),\n",
       " 'PA2801atmoF262-165129': Stream(name='PA2801atmoF262-165129'),\n",
       " 'PA2801atmoF263-165337': Stream(name='PA2801atmoF263-165337'),\n",
       " 'PA2801atmoF264-194806': Stream(name='PA2801atmoF264-194806'),\n",
       " 'PA2801atmoF265-195206': Stream(name='PA2801atmoF265-195206'),\n",
       " 'PA2801atmoF266-195538': Stream(name='PA2801atmoF266-195538'),\n",
       " 'PA2801atmoF267-195824': Stream(name='PA2801atmoF267-195824'),\n",
       " 'PA2801atmoF268-200035': Stream(name='PA2801atmoF268-200035'),\n",
       " 'PA2801atmoF269-200505': Stream(name='PA2801atmoF269-200505'),\n",
       " 'PA2801atmoF270-200038': Stream(name='PA2801atmoF270-200038'),\n",
       " 'PA2801atmoF271-200917': Stream(name='PA2801atmoF271-200917'),\n",
       " 'PA2801atmoF272-202153': Stream(name='PA2801atmoF272-202153'),\n",
       " 'PA2801atmoF273-212104': Stream(name='PA2801atmoF273-212104'),\n",
       " 'PA2801atmoF274-212801': Stream(name='PA2801atmoF274-212801'),\n",
       " 'PA2801atmoF275-214459': Stream(name='PA2801atmoF275-214459'),\n",
       " 'PA2801atmoF276-215355': Stream(name='PA2801atmoF276-215355'),\n",
       " 'PA2801atmoF277-223550': Stream(name='PA2801atmoF277-223550'),\n",
       " 'PA2801atmoF278-224406': Stream(name='PA2801atmoF278-224406'),\n",
       " 'PA2801atmoF279-225055': Stream(name='PA2801atmoF279-225055'),\n",
       " 'PA2801atmoF280-213559': Stream(name='PA2801atmoF280-213559'),\n",
       " 'PA2801atmoF281-214001': Stream(name='PA2801atmoF281-214001'),\n",
       " 'PA2801atmoF282-214307': Stream(name='PA2801atmoF282-214307'),\n",
       " 'PA2801atmoF283-214653': Stream(name='PA2801atmoF283-214653'),\n",
       " 'PA2801atmoF284-214938': Stream(name='PA2801atmoF284-214938'),\n",
       " 'PA2801atmoF285-215217': Stream(name='PA2801atmoF285-215217'),\n",
       " ...}"
      ]
     },
     "execution_count": 7,
     "metadata": {},
     "output_type": "execute_result"
    }
   ],
   "source": [
    "dict(sentenai.streams)"
   ]
  },
  {
   "cell_type": "markdown",
   "metadata": {},
   "source": [
    "---\n",
    "### Streams can be accessed by their unique name\n",
    "You may perform `getitem` on the streams API to instantiate a new Stream object. The stream may or may not exist. Referencing a new stream does not create a new event stream.\n",
    "\n",
    "#### Getting a `Stream` object with `getitem`"
   ]
  },
  {
   "cell_type": "code",
   "execution_count": 4,
   "metadata": {},
   "outputs": [],
   "source": [
    "weather = sentenai.streams['weather']\n",
    "imaginary = sentenai.streams['imaginary']"
   ]
  },
  {
   "cell_type": "code",
   "execution_count": 13,
   "metadata": {},
   "outputs": [
    {
     "data": {
      "text/plain": [
       "'partly-cloudy-night'"
      ]
     },
     "execution_count": 13,
     "metadata": {},
     "output_type": "execute_result"
    }
   ],
   "source": [
    "weather['icon'] @ datetime.utcnow()"
   ]
  },
  {
   "cell_type": "markdown",
   "metadata": {},
   "source": [
    "#### Streams may or may not exist\n",
    "\n",
    "A Stream that does not exist is one that has not been created server-side, even if you have a client object."
   ]
  },
  {
   "cell_type": "code",
   "execution_count": 97,
   "metadata": {},
   "outputs": [
    {
     "name": "stdout",
     "output_type": "stream",
     "text": [
      "weather exists? True\n",
      "imaginary exists? False\n"
     ]
    }
   ],
   "source": [
    "print(\"weather exists? {}\".format(bool(weather)))\n",
    "print(\"imaginary exists? {}\".format(bool(imaginary)))"
   ]
  },
  {
   "cell_type": "markdown",
   "metadata": {},
   "source": [
    "#### Streams may be filtered to create sub-streams"
   ]
  },
  {
   "cell_type": "code",
   "execution_count": 98,
   "metadata": {},
   "outputs": [],
   "source": [
    "weather = sentenai.streams['weather']\n",
    "cloudy_weather = weather.where('icon = \"cloudy\"')"
   ]
  },
  {
   "cell_type": "code",
   "execution_count": 99,
   "metadata": {},
   "outputs": [
    {
     "data": {
      "text/plain": [
       "4"
      ]
     },
     "execution_count": 99,
     "metadata": {},
     "output_type": "execute_result"
    }
   ],
   "source": [
    "len(cloudy_weather.events)"
   ]
  },
  {
   "cell_type": "markdown",
   "metadata": {},
   "source": [
    "---\n",
    "### Creating Streams\n",
    "\n",
    "Creating streams can be done via their `.init()` method. When initializing a new stream, it takes an optional parameter `t0` which indicates what point in time to treat as `0`. By default, the creation time of the stream will be taken as `t0`, but you might want to choose `datetime(1970,1,1)` (Unix epoch) or `None` (stream not anchored to real time) instead."
   ]
  },
  {
   "cell_type": "code",
   "execution_count": 12,
   "metadata": {},
   "outputs": [],
   "source": [
    "sentenai.streams['temp'].init(t0=None) # virtual time\n",
    "sentenai.streams['temp_real'].init(t0=datetime(1970,1,1)) # Unix Epoch\n",
    "sentenai.streams['temp_now'].init() # Current UTC Time."
   ]
  },
  {
   "cell_type": "markdown",
   "metadata": {},
   "source": [
    "**Important note**: In the past, creating a stream could be done via metadata or by inserting events. The addition of per-stream t0 requires eliminating implicit stream creation and requires this instantiation of streams."
   ]
  },
  {
   "cell_type": "markdown",
   "metadata": {},
   "source": [
    "---\n",
    "### Deleting streams\n",
    "\n",
    "Deleting a stream eliminates all information about a stream along with all events that are a member of that stream.\n",
    "\n",
    "This operation may take a second."
   ]
  },
  {
   "cell_type": "code",
   "execution_count": 100,
   "metadata": {},
   "outputs": [],
   "source": [
    "try:\n",
    "  del sentenai.streams['imaginary']\n",
    "except:\n",
    "    pass"
   ]
  },
  {
   "cell_type": "markdown",
   "metadata": {},
   "source": [
    "## Stream Metadata\n",
    "\n",
    "Event Streams may have user-set metadata, which can be accessed via the `.metadata` sub-object.\n"
   ]
  },
  {
   "cell_type": "markdown",
   "metadata": {},
   "source": [
    "---\n",
    "### Setting metadata"
   ]
  },
  {
   "cell_type": "code",
   "execution_count": 101,
   "metadata": {},
   "outputs": [],
   "source": [
    "weather.metadata['flag'] = True\n",
    "weather.metadata['str'] = \"hello world\"\n",
    "weather.metadata['count'] = 4"
   ]
  },
  {
   "cell_type": "markdown",
   "metadata": {},
   "source": [
    "---\n",
    "### Getting metadata"
   ]
  },
  {
   "cell_type": "code",
   "execution_count": 105,
   "metadata": {},
   "outputs": [
    {
     "data": {
      "text/plain": [
       "{'count': 4, 'flag': True, 'str': 'hello world'}"
      ]
     },
     "execution_count": 105,
     "metadata": {},
     "output_type": "execute_result"
    }
   ],
   "source": [
    "dict(weather.metadata)"
   ]
  },
  {
   "cell_type": "code",
   "execution_count": 12,
   "metadata": {},
   "outputs": [
    {
     "data": {
      "text/plain": [
       "True"
      ]
     },
     "execution_count": 12,
     "metadata": {},
     "output_type": "execute_result"
    }
   ],
   "source": [
    "weather.metadata['flag']"
   ]
  },
  {
   "cell_type": "markdown",
   "metadata": {},
   "source": [
    "---\n",
    "### Deleting metadata"
   ]
  },
  {
   "cell_type": "code",
   "execution_count": 13,
   "metadata": {},
   "outputs": [],
   "source": [
    "del weather.metadata['flag']"
   ]
  },
  {
   "cell_type": "markdown",
   "metadata": {},
   "source": [
    "#### Clear metadata"
   ]
  },
  {
   "cell_type": "code",
   "execution_count": 14,
   "metadata": {},
   "outputs": [
    {
     "data": {
      "text/plain": [
       "{'count': 4, 'flag': True, 'str': 'hello world'}"
      ]
     },
     "execution_count": 14,
     "metadata": {},
     "output_type": "execute_result"
    }
   ],
   "source": [
    "del weather.metadata\n",
    "dict(weather.metadata)"
   ]
  },
  {
   "cell_type": "markdown",
   "metadata": {},
   "source": [
    "## Core Stream methods\n",
    "\n",
    "Stream objects have a number of built in properties and methods."
   ]
  },
  {
   "cell_type": "markdown",
   "metadata": {},
   "source": [
    "---\n",
    "### Adding events to a stream\n",
    "\n",
    "The `Stream` class provides three methods for managing events: `insert`, `update`, and `remove`."
   ]
  },
  {
   "cell_type": "markdown",
   "metadata": {},
   "source": [
    "#### Inserting a new event"
   ]
  },
  {
   "cell_type": "code",
   "execution_count": 15,
   "metadata": {},
   "outputs": [
    {
     "name": "stdout",
     "output_type": "stream",
     "text": [
      "Event(id='nfnCiJPHlkHBcl89y5FpY-0l', ts=numpy.datetime64('2019-07-25T18:31:57.408215'), data={'temperatureMax': -500.0})\n"
     ]
    }
   ],
   "source": [
    "test = sentenai.streams['test-stream']\n",
    "\n",
    "my_evt = test.insert(Event(ts=datetime.utcnow(), data={'temperatureMax': -500.0}))\n",
    "print(my_evt)"
   ]
  },
  {
   "cell_type": "markdown",
   "metadata": {},
   "source": [
    "#### Updating an event"
   ]
  },
  {
   "cell_type": "code",
   "execution_count": 16,
   "metadata": {},
   "outputs": [
    {
     "data": {
      "text/plain": [
       "Stream(name='test-stream')[\"nfnCiJPHlkHBcl89y5FpY-0l\"]"
      ]
     },
     "execution_count": 16,
     "metadata": {},
     "output_type": "execute_result"
    }
   ],
   "source": [
    "my_evt.data = {'temperatureMax': -50.0}\n",
    "test.update(my_evt)\n",
    "test[my_evt.id]"
   ]
  },
  {
   "cell_type": "markdown",
   "metadata": {},
   "source": [
    "#### Deleting an event"
   ]
  },
  {
   "cell_type": "code",
   "execution_count": 17,
   "metadata": {},
   "outputs": [
    {
     "name": "stdout",
     "output_type": "stream",
     "text": [
      "Event successfully deleted\n"
     ]
    }
   ],
   "source": [
    "del test.events[my_evt.id] # or weather.remove(evt.id)\n",
    "\n",
    "try:\n",
    "    test.events[my_evt.id]\n",
    "except KeyError:\n",
    "    print(\"Event successfully deleted\")"
   ]
  },
  {
   "cell_type": "markdown",
   "metadata": {},
   "source": [
    "## The `Stream.events` collection\n",
    "\n",
    "All events belonging to a stream are stored in the stream's events collection."
   ]
  },
  {
   "cell_type": "markdown",
   "metadata": {},
   "source": [
    "---\n",
    "### A stream's events collection is list-like and time-ordered.\n",
    "\n",
    "Every stream contains a collection of events. The event sub-API is located at `Stream.events`.\n"
   ]
  },
  {
   "cell_type": "code",
   "execution_count": 6,
   "metadata": {},
   "outputs": [],
   "source": [
    "ostream = sentenai.streams['ostream']\n",
    "for i in range(20):\n",
    "    ostream.insert(Event(ts=datetime(2018,1,1)+timedelta(seconds=60*i), data={'a': i / 2, 'b': i * 3}))"
   ]
  },
  {
   "cell_type": "markdown",
   "metadata": {},
   "source": [
    "#### List operations"
   ]
  },
  {
   "cell_type": "code",
   "execution_count": 7,
   "metadata": {},
   "outputs": [
    {
     "data": {
      "text/plain": [
       "20"
      ]
     },
     "execution_count": 7,
     "metadata": {},
     "output_type": "execute_result"
    }
   ],
   "source": [
    "len(ostream.events)"
   ]
  },
  {
   "cell_type": "code",
   "execution_count": 8,
   "metadata": {},
   "outputs": [
    {
     "data": {
      "text/plain": [
       "Event(id='X-p8KBLtT_ZUwS-Q_xYi8grp', ts=numpy.datetime64('2018-01-01T00:00:00'), data={'a': 0.0, 'b': 0})"
      ]
     },
     "execution_count": 8,
     "metadata": {},
     "output_type": "execute_result"
    }
   ],
   "source": [
    "ostream.events[0]"
   ]
  },
  {
   "cell_type": "code",
   "execution_count": 9,
   "metadata": {},
   "outputs": [
    {
     "data": {
      "text/plain": [
       "Event(id='29CX9dBBcSeYzTspCmJMik3H', ts=numpy.datetime64('2018-01-01T00:05:00'), data={'a': 2.5, 'b': 15})"
      ]
     },
     "execution_count": 9,
     "metadata": {},
     "output_type": "execute_result"
    }
   ],
   "source": [
    "ostream.events[5]"
   ]
  },
  {
   "cell_type": "code",
   "execution_count": 10,
   "metadata": {},
   "outputs": [
    {
     "data": {
      "text/plain": [
       "Event(id='5MC8urMgvwlEbbfrqXu8-I99', ts=numpy.datetime64('2018-01-01T00:19:00'), data={'a': 9.5, 'b': 57})"
      ]
     },
     "execution_count": 10,
     "metadata": {},
     "output_type": "execute_result"
    }
   ],
   "source": [
    "ostream.events[-1]"
   ]
  },
  {
   "cell_type": "code",
   "execution_count": 11,
   "metadata": {},
   "outputs": [
    {
     "name": "stdout",
     "output_type": "stream",
     "text": [
      "_opeyjlFiM6R8Ksj3paGLPQs 2018-01-01T00:03:00\n",
      "y8DefihIXu9yr1SGpCpUBS1N 2018-01-01T00:04:00\n",
      "29CX9dBBcSeYzTspCmJMik3H 2018-01-01T00:05:00\n",
      "7-O4g5mxcFOYvKyLj3jnYpxx 2018-01-01T00:06:00\n"
     ]
    }
   ],
   "source": [
    "for evt in ostream.events[3:7]:\n",
    "    print(evt.id, evt.ts)"
   ]
  },
  {
   "cell_type": "markdown",
   "metadata": {},
   "source": [
    "#### A Stream's events collection can be sliced by time."
   ]
  },
  {
   "cell_type": "code",
   "execution_count": 12,
   "metadata": {},
   "outputs": [
    {
     "name": "stdout",
     "output_type": "stream",
     "text": [
      "29CX9dBBcSeYzTspCmJMik3H 2018-01-01T00:05:00\n",
      "7-O4g5mxcFOYvKyLj3jnYpxx 2018-01-01T00:06:00\n",
      "w7fXH1bGqP6uev4trCYNAX4k 2018-01-01T00:07:00\n",
      "VBIdcLq7xnHSKl6aLdRyPD1G 2018-01-01T00:08:00\n",
      "p8cMTMALJJDiVVYrl3HNwITA 2018-01-01T00:09:00\n"
     ]
    }
   ],
   "source": [
    "for evt in ostream.events[datetime(2018,1,1,0,5):datetime(2018,1,1,0,10)]:\n",
    "    print(evt.id, evt.ts)"
   ]
  },
  {
   "cell_type": "markdown",
   "metadata": {},
   "source": [
    "#### Time slices can use a limit to prevent returning too many events"
   ]
  },
  {
   "cell_type": "code",
   "execution_count": 13,
   "metadata": {},
   "outputs": [
    {
     "name": "stdout",
     "output_type": "stream",
     "text": [
      "29CX9dBBcSeYzTspCmJMik3H 2018-01-01T00:05:00\n",
      "7-O4g5mxcFOYvKyLj3jnYpxx 2018-01-01T00:06:00\n"
     ]
    }
   ],
   "source": [
    "for evt in ostream.events[datetime(2018,1,1,0,5):datetime(2018,1,1,0,10):2]:\n",
    "    print(evt.id, evt.ts)"
   ]
  },
  {
   "cell_type": "markdown",
   "metadata": {},
   "source": [
    "---\n",
    "### A stream's events collection is dict-like"
   ]
  },
  {
   "cell_type": "code",
   "execution_count": 26,
   "metadata": {},
   "outputs": [],
   "source": [
    "ostream.events['ABCD'] = Event(data={'foo': False})"
   ]
  },
  {
   "cell_type": "code",
   "execution_count": 27,
   "metadata": {},
   "outputs": [
    {
     "data": {
      "text/plain": [
       "Event(id='ABCD', ts=numpy.datetime64('2019-07-25T18:32:14.111867434'), data={'foo': False})"
      ]
     },
     "execution_count": 27,
     "metadata": {},
     "output_type": "execute_result"
    }
   ],
   "source": [
    "ostream.events['ABCD']"
   ]
  },
  {
   "cell_type": "code",
   "execution_count": 28,
   "metadata": {},
   "outputs": [],
   "source": [
    "del ostream.events['ABCD']"
   ]
  },
  {
   "cell_type": "markdown",
   "metadata": {},
   "source": [
    "## Stream schemas\n",
    "\n",
    "Since events streams are a time-ordered collection of events, and events are represented as a tree of values and subtrees (think JSON-like objects), we can represent a `Stream`'s schema as a dictionary of paths to each value, also known as a `Field`."
   ]
  },
  {
   "cell_type": "markdown",
   "metadata": {},
   "source": [
    "---\n",
    "### Stream Fields"
   ]
  },
  {
   "cell_type": "code",
   "execution_count": 29,
   "metadata": {},
   "outputs": [
    {
     "name": "stdout",
     "output_type": "stream",
     "text": [
      "('a', 'aa')\n",
      "('a', 'bb', 'cc')\n",
      "('a', 'bb', 'dd')\n",
      "('b',)\n"
     ]
    }
   ],
   "source": [
    "stream1 = sentenai.streams['stream1']\n",
    "\n",
    "deep_evt = Event(\n",
    "    ts=datetime(2015,1,1,1,1),\n",
    "    data={\n",
    "        'a': {\n",
    "            'aa': 1,\n",
    "            'bb': {\n",
    "                'cc': 8,\n",
    "                'dd': \"yes\"\n",
    "            }\n",
    "        },\n",
    "        'b': False\n",
    "    }\n",
    ")\n",
    "\n",
    "stream1.events.insert(deep_evt)\n",
    "\n",
    "for field in stream1:\n",
    "    print(field.path)"
   ]
  },
  {
   "cell_type": "markdown",
   "metadata": {},
   "source": [
    "##### To access a field, use dictionary-like notation:"
   ]
  },
  {
   "cell_type": "code",
   "execution_count": 30,
   "metadata": {},
   "outputs": [
    {
     "data": {
      "text/plain": [
       "Stream(name='stream1')[\"a\", \"bb\", \"cc\"]"
      ]
     },
     "execution_count": 30,
     "metadata": {},
     "output_type": "execute_result"
    }
   ],
   "source": [
    "stream1['a', 'bb', 'cc']"
   ]
  },
  {
   "cell_type": "markdown",
   "metadata": {},
   "source": [
    "---\n",
    "### Fields statistics\n",
    "\n",
    "#### Global statistics"
   ]
  },
  {
   "cell_type": "code",
   "execution_count": 31,
   "metadata": {},
   "outputs": [
    {
     "data": {
      "text/plain": [
       "(345, 0)"
      ]
     },
     "execution_count": 31,
     "metadata": {},
     "output_type": "execute_result"
    }
   ],
   "source": [
    "weather['humidity'].count, weather['humidity'].missing"
   ]
  },
  {
   "cell_type": "code",
   "execution_count": 32,
   "metadata": {},
   "outputs": [
    {
     "data": {
      "text/plain": [
       "0.6473913043478261"
      ]
     },
     "execution_count": 32,
     "metadata": {},
     "output_type": "execute_result"
    }
   ],
   "source": [
    "weather['humidity'].mean"
   ]
  },
  {
   "cell_type": "code",
   "execution_count": 33,
   "metadata": {},
   "outputs": [
    {
     "data": {
      "text/plain": [
       "(0.28, 0.98)"
      ]
     },
     "execution_count": 33,
     "metadata": {},
     "output_type": "execute_result"
    }
   ],
   "source": [
    "weather['humidity'].min, weather['humidity'].max"
   ]
  },
  {
   "cell_type": "code",
   "execution_count": 34,
   "metadata": {},
   "outputs": [
    {
     "data": {
      "text/plain": [
       "0.15552099400186561"
      ]
     },
     "execution_count": 34,
     "metadata": {},
     "output_type": "execute_result"
    }
   ],
   "source": [
    "weather['humidity'].std"
   ]
  },
  {
   "cell_type": "code",
   "execution_count": 35,
   "metadata": {},
   "outputs": [
    {
     "data": {
      "text/plain": [
       "{'partly-cloudy-day': 163,\n",
       " 'rain': 94,\n",
       " 'partly-cloudy-night': 48,\n",
       " 'clear-day': 21,\n",
       " 'snow': 6,\n",
       " 'fog': 5,\n",
       " 'cloudy': 4,\n",
       " 'wind': 4}"
      ]
     },
     "execution_count": 35,
     "metadata": {},
     "output_type": "execute_result"
    }
   ],
   "source": [
    "weather['icon'].unique"
   ]
  },
  {
   "cell_type": "code",
   "execution_count": 36,
   "metadata": {},
   "outputs": [
    {
     "data": {
      "text/plain": [
       "'partly-cloudy-day'"
      ]
     },
     "execution_count": 36,
     "metadata": {},
     "output_type": "execute_result"
    }
   ],
   "source": [
    "weather['icon'].top"
   ]
  },
  {
   "cell_type": "markdown",
   "metadata": {},
   "source": [
    "#### Local Statistics\n",
    "Numerical statistics like `min`, `max`, `mean`,  and `std` can also be retrieved for a slice of time. Note that these stats treat all values with equal weight, they are not time-weighted at this time. That means they work best with fixed interval events, e.g. meteorological data."
   ]
  },
  {
   "cell_type": "code",
   "execution_count": 37,
   "metadata": {},
   "outputs": [
    {
     "data": {
      "text/plain": [
       "{'categorical': {},\n",
       " 'numerical': {'max': 0.93,\n",
       "  'mean': 0.6963333333333334,\n",
       "  'count': 30,\n",
       "  'missing': 0,\n",
       "  'min': 0.4,\n",
       "  'std': 0.13241739997482196}}"
      ]
     },
     "execution_count": 37,
     "metadata": {},
     "output_type": "execute_result"
    }
   ],
   "source": [
    "weather['humidity'][datetime(2010,6,1):datetime(2010,7,1)]._stats"
   ]
  },
  {
   "cell_type": "markdown",
   "metadata": {},
   "source": [
    "## Values\n",
    "\n",
    "Streams aren't just collections of events; they also have encapsulate the temporal concept of having *values* at a point in time, where the collection of values at a point in time is the set of all paths paired with the value of that path when it was last set.\n",
    "\n",
    "\n",
    "---\n",
    "### Stream Values\n",
    "The `stream.values(at=)` method returns the latest values at a point in time as a dictionary of paths to values. Values set in the past will be forward-filled to this point in time."
   ]
  },
  {
   "cell_type": "code",
   "execution_count": 5,
   "metadata": {},
   "outputs": [
    {
     "ename": "NameError",
     "evalue": "name 'stream1' is not defined",
     "output_type": "error",
     "traceback": [
      "\u001b[0;31m---------------------------------------------------------------------------\u001b[0m",
      "\u001b[0;31mNameError\u001b[0m                                 Traceback (most recent call last)",
      "\u001b[0;32m<ipython-input-5-e79fe4c228f6>\u001b[0m in \u001b[0;36m<module>\u001b[0;34m\u001b[0m\n\u001b[0;32m----> 1\u001b[0;31m \u001b[0mstream1\u001b[0m \u001b[0;34m@\u001b[0m \u001b[0mdatetime\u001b[0m\u001b[0;34m(\u001b[0m\u001b[0;36m2015\u001b[0m\u001b[0;34m,\u001b[0m\u001b[0;36m1\u001b[0m\u001b[0;34m,\u001b[0m\u001b[0;36m1\u001b[0m\u001b[0;34m,\u001b[0m\u001b[0;36m1\u001b[0m\u001b[0;34m,\u001b[0m\u001b[0;36m1\u001b[0m\u001b[0;34m)\u001b[0m      \u001b[0;31m# or use stream1.values(at=...)\u001b[0m\u001b[0;34m\u001b[0m\u001b[0;34m\u001b[0m\u001b[0m\n\u001b[0m",
      "\u001b[0;31mNameError\u001b[0m: name 'stream1' is not defined"
     ]
    }
   ],
   "source": [
    "stream1 @ datetime(2015,1,1,1,1)      # or use stream1.values(at=...)"
   ]
  },
  {
   "cell_type": "markdown",
   "metadata": {},
   "source": [
    "---\n",
    "### Field Values\n",
    "A field's value at a point in time can be accessed via the `@` operator."
   ]
  },
  {
   "cell_type": "code",
   "execution_count": 39,
   "metadata": {},
   "outputs": [
    {
     "data": {
      "text/plain": [
       "83.42"
      ]
     },
     "execution_count": 39,
     "metadata": {},
     "output_type": "execute_result"
    }
   ],
   "source": [
    "weather['temperatureMax'] @ datetime(2010,6,1)     # or use weather['temperatureMax'].value(at=...)"
   ]
  },
  {
   "cell_type": "markdown",
   "metadata": {},
   "source": [
    "----\n",
    "### Time values (bounds)\n",
    "The left bound of a stream is the timestamp of the oldest event in the stream. The right bound of a stream is the timestamp of the newest event in the stream."
   ]
  },
  {
   "cell_type": "code",
   "execution_count": 40,
   "metadata": {},
   "outputs": [
    {
     "data": {
      "text/plain": [
       "(numpy.datetime64('2010-01-01T00:00:00'),\n",
       " numpy.datetime64('2010-12-11T00:00:00'))"
      ]
     },
     "execution_count": 40,
     "metadata": {},
     "output_type": "execute_result"
    }
   ],
   "source": [
    "weather.bounds"
   ]
  },
  {
   "cell_type": "code",
   "execution_count": null,
   "metadata": {},
   "outputs": [],
   "source": []
  }
 ],
 "metadata": {
  "kernelspec": {
   "display_name": "Python 3",
   "language": "python",
   "name": "python3"
  },
  "language_info": {
   "codemirror_mode": {
    "name": "ipython",
    "version": 3
   },
   "file_extension": ".py",
   "mimetype": "text/x-python",
   "name": "python",
   "nbconvert_exporter": "python",
   "pygments_lexer": "ipython3",
   "version": "3.7.1"
  }
 },
 "nbformat": 4,
 "nbformat_minor": 2
}
