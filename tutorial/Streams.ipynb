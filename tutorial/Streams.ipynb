{
 "cells": [
  {
   "cell_type": "code",
   "execution_count": 1,
   "metadata": {},
   "outputs": [],
   "source": [
    "# Get credentials\n",
    "from IPython.utils import io\n",
    "with io.capture_output() as captured:\n",
    "    %run ../Introduction.ipynb\n",
    "    \n",
    "# Instantiate client\n",
    "from sentenai import Client, Event\n",
    "sentenai = Client(host, auth)\n",
    "\n",
    "from datetime import datetime, timedelta"
   ]
  },
  {
   "cell_type": "markdown",
   "metadata": {},
   "source": [
    "# Event Streams\n",
    "\n",
    "Within the event stream API, the collection of event streams is represented as a dictionary-like Streams object with each stream name as the key."
   ]
  },
  {
   "cell_type": "code",
   "execution_count": 2,
   "metadata": {},
   "outputs": [
    {
     "data": {
      "text/plain": [
       "{'foo': Stream(name='foo'),\n",
       " 'ostream': Stream(name='ostream'),\n",
       " 'stream1': Stream(name='stream1'),\n",
       " 'test-logger': Stream(name='test-logger'),\n",
       " 'weather': Stream(name='weather')}"
      ]
     },
     "execution_count": 2,
     "metadata": {},
     "output_type": "execute_result"
    }
   ],
   "source": [
    "dict(sentenai.streams)"
   ]
  },
  {
   "cell_type": "markdown",
   "metadata": {},
   "source": [
    "---\n",
    "### Streams can be accessed by their unique name\n",
    "You may perform `getitem` on the streams API to instantiate a new Stream object. The stream may or may not exist. Referencing a new stream does not create a new event stream.\n",
    "\n",
    "#### Getting a `Stream` object with `getitem`"
   ]
  },
  {
   "cell_type": "code",
   "execution_count": 3,
   "metadata": {},
   "outputs": [],
   "source": [
    "weather = sentenai.streams['weather']\n",
    "imaginary = sentenai.streams['imaginary']"
   ]
  },
  {
   "cell_type": "markdown",
   "metadata": {},
   "source": [
    "#### Streams may or may not exist\n",
    "\n",
    "A Stream that does not exist is one that has not been created server-side, even if you have a client object."
   ]
  },
  {
   "cell_type": "code",
   "execution_count": 4,
   "metadata": {},
   "outputs": [
    {
     "name": "stdout",
     "output_type": "stream",
     "text": [
      "weather exists? True\n",
      "imaginary exists? False\n"
     ]
    }
   ],
   "source": [
    "print(\"weather exists? {}\".format(bool(weather)))\n",
    "print(\"imaginary exists? {}\".format(bool(imaginary)))"
   ]
  },
  {
   "cell_type": "markdown",
   "metadata": {},
   "source": [
    "How do we instantiate a new stream? By adding events to it."
   ]
  },
  {
   "cell_type": "markdown",
   "metadata": {},
   "source": [
    "#### Streams may be filtered to create sub-streams"
   ]
  },
  {
   "cell_type": "code",
   "execution_count": 5,
   "metadata": {},
   "outputs": [],
   "source": [
    "weather = sentenai.streams['weather']\n",
    "cloudy_weather = weather.where('icon = \"cloudy\"')"
   ]
  },
  {
   "cell_type": "code",
   "execution_count": 16,
   "metadata": {},
   "outputs": [
    {
     "data": {
      "text/plain": [
       "4"
      ]
     },
     "execution_count": 16,
     "metadata": {},
     "output_type": "execute_result"
    }
   ],
   "source": [
    "len(cloudy_weather.events)"
   ]
  },
  {
   "cell_type": "markdown",
   "metadata": {},
   "source": [
    "---\n",
    "### Deleting streams\n",
    "\n",
    "Deleting a stream eliminates all information about a stream along with all events that are a member of that stream.\n",
    "\n",
    "This operation may take a second."
   ]
  },
  {
   "cell_type": "code",
   "execution_count": 4,
   "metadata": {},
   "outputs": [],
   "source": [
    "try:\n",
    "  del sentenai.streams['imaginary']\n",
    "except:\n",
    "    pass"
   ]
  },
  {
   "cell_type": "markdown",
   "metadata": {},
   "source": [
    "## Stream Metadata\n",
    "\n",
    "Event Streams may have user-set metadata, which can be accessed via the `.metadata` sub-object.\n"
   ]
  },
  {
   "cell_type": "markdown",
   "metadata": {},
   "source": [
    "---\n",
    "### Setting metadata"
   ]
  },
  {
   "cell_type": "code",
   "execution_count": 6,
   "metadata": {},
   "outputs": [],
   "source": [
    "weather.metadata['flag'] = True\n",
    "weather.metadata['str'] = \"hello world\"\n",
    "weather.metadata['count'] = 4"
   ]
  },
  {
   "cell_type": "markdown",
   "metadata": {},
   "source": [
    "---\n",
    "### Getting metadata"
   ]
  },
  {
   "cell_type": "code",
   "execution_count": 11,
   "metadata": {},
   "outputs": [
    {
     "data": {
      "text/plain": [
       "{}"
      ]
     },
     "execution_count": 11,
     "metadata": {},
     "output_type": "execute_result"
    }
   ],
   "source": [
    "dict(weather.metadata)"
   ]
  },
  {
   "cell_type": "code",
   "execution_count": 8,
   "metadata": {},
   "outputs": [
    {
     "data": {
      "text/plain": [
       "True"
      ]
     },
     "execution_count": 8,
     "metadata": {},
     "output_type": "execute_result"
    }
   ],
   "source": [
    "weather.metadata['flag']"
   ]
  },
  {
   "cell_type": "markdown",
   "metadata": {},
   "source": [
    "---\n",
    "### Deleting metadata"
   ]
  },
  {
   "cell_type": "code",
   "execution_count": 9,
   "metadata": {},
   "outputs": [],
   "source": [
    "del weather.metadata['flag']"
   ]
  },
  {
   "cell_type": "markdown",
   "metadata": {},
   "source": [
    "#### Clear metadata"
   ]
  },
  {
   "cell_type": "code",
   "execution_count": 13,
   "metadata": {},
   "outputs": [
    {
     "data": {
      "text/plain": [
       "{}"
      ]
     },
     "execution_count": 13,
     "metadata": {},
     "output_type": "execute_result"
    }
   ],
   "source": [
    "del weather.metadata\n",
    "dict(weather.metadata)"
   ]
  },
  {
   "cell_type": "markdown",
   "metadata": {},
   "source": [
    "## Core Stream methods\n",
    "\n",
    "Stream objects have a number of built in properties and methods."
   ]
  },
  {
   "cell_type": "markdown",
   "metadata": {},
   "source": [
    "---\n",
    "### Adding events to a stream\n",
    "\n",
    "The `Stream` class provides three methods for managing events: `insert`, `update`, and `remove`."
   ]
  },
  {
   "cell_type": "markdown",
   "metadata": {},
   "source": [
    "#### Inserting a new event"
   ]
  },
  {
   "cell_type": "code",
   "execution_count": 46,
   "metadata": {},
   "outputs": [
    {
     "name": "stdout",
     "output_type": "stream",
     "text": [
      "Event(id='MEuzy4Ma4GnfWxgQlet-KDv4', ts=numpy.datetime64('2019-07-23T02:52:27.904421'), data={'temperatureMax': -500.0})\n"
     ]
    }
   ],
   "source": [
    "test = sentenai.streams['test-stream']\n",
    "\n",
    "my_evt = test.insert(Event(ts=datetime.utcnow(), data={'temperatureMax': -500.0}))\n",
    "print(my_evt)"
   ]
  },
  {
   "cell_type": "markdown",
   "metadata": {},
   "source": [
    "#### Updating an event"
   ]
  },
  {
   "cell_type": "code",
   "execution_count": 47,
   "metadata": {},
   "outputs": [
    {
     "data": {
      "text/plain": [
       "Stream(name='test-stream')[\"MEuzy4Ma4GnfWxgQlet-KDv4\"]"
      ]
     },
     "execution_count": 47,
     "metadata": {},
     "output_type": "execute_result"
    }
   ],
   "source": [
    "my_evt.data = {'temperatureMax': -50.0}\n",
    "test.update(my_evt)\n",
    "test[my_evt.id]"
   ]
  },
  {
   "cell_type": "markdown",
   "metadata": {},
   "source": [
    "#### Deleting an event"
   ]
  },
  {
   "cell_type": "code",
   "execution_count": 48,
   "metadata": {},
   "outputs": [
    {
     "name": "stdout",
     "output_type": "stream",
     "text": [
      "Event successfully deleted\n"
     ]
    }
   ],
   "source": [
    "del test.events[my_evt.id] # or weather.remove(evt.id)\n",
    "\n",
    "try:\n",
    "    test.events[my_evt.id]\n",
    "except KeyError:\n",
    "    print(\"Event successfully deleted\")"
   ]
  },
  {
   "cell_type": "markdown",
   "metadata": {},
   "source": [
    "## The `Stream.events` collection\n",
    "\n",
    "All events belonging to a stream are stored in the stream's events collection."
   ]
  },
  {
   "cell_type": "markdown",
   "metadata": {},
   "source": [
    "---\n",
    "### A stream's events collection is list-like and time-ordered.\n",
    "\n",
    "Every stream contains a collection of events. The event sub-API is located at `Stream.events`.\n"
   ]
  },
  {
   "cell_type": "code",
   "execution_count": 53,
   "metadata": {},
   "outputs": [],
   "source": [
    "ostream = sentenai.streams['ostream']\n",
    "for i in range(20):\n",
    "    ostream.insert(Event(ts=datetime(2018,1,1)+timedelta(seconds=60*i), data={'a': i / 2, 'b': i * 3}))"
   ]
  },
  {
   "cell_type": "markdown",
   "metadata": {},
   "source": [
    "#### List operations"
   ]
  },
  {
   "cell_type": "code",
   "execution_count": 54,
   "metadata": {},
   "outputs": [
    {
     "data": {
      "text/plain": [
       "20"
      ]
     },
     "execution_count": 54,
     "metadata": {},
     "output_type": "execute_result"
    }
   ],
   "source": [
    "len(ostream.events)"
   ]
  },
  {
   "cell_type": "code",
   "execution_count": 55,
   "metadata": {},
   "outputs": [
    {
     "data": {
      "text/plain": [
       "Event(id='X-p8KBLtT_ZUwS-Q_xYi8grp', ts=numpy.datetime64('2018-01-01T00:00:00'), data={'a': 0.0, 'b': 0})"
      ]
     },
     "execution_count": 55,
     "metadata": {},
     "output_type": "execute_result"
    }
   ],
   "source": [
    "ostream.events[0]"
   ]
  },
  {
   "cell_type": "code",
   "execution_count": 56,
   "metadata": {},
   "outputs": [
    {
     "data": {
      "text/plain": [
       "Event(id='29CX9dBBcSeYzTspCmJMik3H', ts=numpy.datetime64('2018-01-01T00:05:00'), data={'a': 2.5, 'b': 15})"
      ]
     },
     "execution_count": 56,
     "metadata": {},
     "output_type": "execute_result"
    }
   ],
   "source": [
    "ostream.events[5]"
   ]
  },
  {
   "cell_type": "code",
   "execution_count": 57,
   "metadata": {},
   "outputs": [
    {
     "data": {
      "text/plain": [
       "Event(id='5MC8urMgvwlEbbfrqXu8-I99', ts=numpy.datetime64('2018-01-01T00:19:00'), data={'a': 9.5, 'b': 57})"
      ]
     },
     "execution_count": 57,
     "metadata": {},
     "output_type": "execute_result"
    }
   ],
   "source": [
    "ostream.events[-1]"
   ]
  },
  {
   "cell_type": "code",
   "execution_count": 35,
   "metadata": {},
   "outputs": [
    {
     "name": "stdout",
     "output_type": "stream",
     "text": [
      "_opeyjlFiM6R8Ksj3paGLPQs 2018-01-01T00:03:00\n",
      "y8DefihIXu9yr1SGpCpUBS1N 2018-01-01T00:04:00\n",
      "29CX9dBBcSeYzTspCmJMik3H 2018-01-01T00:05:00\n",
      "7-O4g5mxcFOYvKyLj3jnYpxx 2018-01-01T00:06:00\n"
     ]
    }
   ],
   "source": [
    "for evt in ostream.events[3:7]:\n",
    "    print(evt.id, evt.ts)"
   ]
  },
  {
   "cell_type": "markdown",
   "metadata": {},
   "source": [
    "#### A Stream's events collection can be sliced by time."
   ]
  },
  {
   "cell_type": "code",
   "execution_count": 37,
   "metadata": {},
   "outputs": [
    {
     "name": "stdout",
     "output_type": "stream",
     "text": [
      "29CX9dBBcSeYzTspCmJMik3H 2018-01-01T00:05:00\n",
      "7-O4g5mxcFOYvKyLj3jnYpxx 2018-01-01T00:06:00\n",
      "w7fXH1bGqP6uev4trCYNAX4k 2018-01-01T00:07:00\n",
      "VBIdcLq7xnHSKl6aLdRyPD1G 2018-01-01T00:08:00\n",
      "p8cMTMALJJDiVVYrl3HNwITA 2018-01-01T00:09:00\n"
     ]
    }
   ],
   "source": [
    "for evt in ostream.events[datetime(2018,1,1,0,5):datetime(2018,1,1,0,10)]:\n",
    "    print(evt.id, evt.ts)"
   ]
  },
  {
   "cell_type": "markdown",
   "metadata": {},
   "source": [
    "#### Time slices can use a limit to prevent returning too many events"
   ]
  },
  {
   "cell_type": "code",
   "execution_count": 38,
   "metadata": {},
   "outputs": [
    {
     "name": "stdout",
     "output_type": "stream",
     "text": [
      "29CX9dBBcSeYzTspCmJMik3H 2018-01-01T00:05:00\n",
      "7-O4g5mxcFOYvKyLj3jnYpxx 2018-01-01T00:06:00\n"
     ]
    }
   ],
   "source": [
    "for evt in ostream.events[datetime(2018,1,1,0,5):datetime(2018,1,1,0,10):2]:\n",
    "    print(evt.id, evt.ts)"
   ]
  },
  {
   "cell_type": "markdown",
   "metadata": {},
   "source": [
    "---\n",
    "### A stream's events collection is dict-like"
   ]
  },
  {
   "cell_type": "code",
   "execution_count": 41,
   "metadata": {},
   "outputs": [],
   "source": [
    "ostream.events['ABCD'] = Event(data={'foo': False})"
   ]
  },
  {
   "cell_type": "code",
   "execution_count": 42,
   "metadata": {},
   "outputs": [
    {
     "data": {
      "text/plain": [
       "Event(id='ABCD', ts=numpy.datetime64('2019-07-23T02:48:21.860785970'), data={'foo': False})"
      ]
     },
     "execution_count": 42,
     "metadata": {},
     "output_type": "execute_result"
    }
   ],
   "source": [
    "ostream.events['ABCD']"
   ]
  },
  {
   "cell_type": "code",
   "execution_count": 43,
   "metadata": {},
   "outputs": [],
   "source": [
    "del ostream.events['ABCD']"
   ]
  },
  {
   "cell_type": "markdown",
   "metadata": {},
   "source": [
    "## Stream schemas\n",
    "\n",
    "Since events streams are a time-ordered collection of events, and events are represented as a tree of values and subtrees (think JSON-like objects), we can represent a `Stream`'s schema as a dictionary of paths to each value, also known as a `Field`."
   ]
  },
  {
   "cell_type": "markdown",
   "metadata": {},
   "source": [
    "---\n",
    "### Stream Fields"
   ]
  },
  {
   "cell_type": "code",
   "execution_count": 18,
   "metadata": {},
   "outputs": [
    {
     "name": "stdout",
     "output_type": "stream",
     "text": [
      "('a', 'aa')\n",
      "('a', 'bb', 'cc')\n",
      "('a', 'bb', 'dd')\n",
      "('b',)\n"
     ]
    }
   ],
   "source": [
    "stream1 = sentenai.streams['stream1']\n",
    "\n",
    "deep_evt = Event(\n",
    "    ts=datetime(2015,1,1,1,1),\n",
    "    data={\n",
    "        'a': {\n",
    "            'aa': 1,\n",
    "            'bb': {\n",
    "                'cc': 8,\n",
    "                'dd': \"yes\"\n",
    "            }\n",
    "        },\n",
    "        'b': False\n",
    "    }\n",
    ")\n",
    "\n",
    "stream1.events.insert(deep_evt)\n",
    "\n",
    "for field in stream1:\n",
    "    print(field.path)"
   ]
  },
  {
   "cell_type": "markdown",
   "metadata": {},
   "source": [
    "##### To access a field, use dictionary-like notation:"
   ]
  },
  {
   "cell_type": "code",
   "execution_count": 19,
   "metadata": {},
   "outputs": [
    {
     "data": {
      "text/plain": [
       "Stream(name='stream1')[\"a\", \"bb\", \"cc\"]"
      ]
     },
     "execution_count": 19,
     "metadata": {},
     "output_type": "execute_result"
    }
   ],
   "source": [
    "stream1['a', 'bb', 'cc']"
   ]
  },
  {
   "cell_type": "markdown",
   "metadata": {},
   "source": [
    "---\n",
    "### Fields statistics\n",
    "\n",
    "#### Global statistics"
   ]
  },
  {
   "cell_type": "code",
   "execution_count": 32,
   "metadata": {},
   "outputs": [
    {
     "data": {
      "text/plain": [
       "(345, 3)"
      ]
     },
     "execution_count": 32,
     "metadata": {},
     "output_type": "execute_result"
    }
   ],
   "source": [
    "weather['humidity'].count, weather['humidity'].missing"
   ]
  },
  {
   "cell_type": "code",
   "execution_count": 20,
   "metadata": {},
   "outputs": [
    {
     "data": {
      "text/plain": [
       "0.6473913043478261"
      ]
     },
     "execution_count": 20,
     "metadata": {},
     "output_type": "execute_result"
    }
   ],
   "source": [
    "weather['humidity'].mean"
   ]
  },
  {
   "cell_type": "code",
   "execution_count": 57,
   "metadata": {},
   "outputs": [
    {
     "data": {
      "text/plain": [
       "(0.28, 0.98)"
      ]
     },
     "execution_count": 57,
     "metadata": {},
     "output_type": "execute_result"
    }
   ],
   "source": [
    "weather['humidity'].min, weather['humidity'].max"
   ]
  },
  {
   "cell_type": "code",
   "execution_count": 60,
   "metadata": {},
   "outputs": [
    {
     "data": {
      "text/plain": [
       "0.15552099400186561"
      ]
     },
     "execution_count": 60,
     "metadata": {},
     "output_type": "execute_result"
    }
   ],
   "source": [
    "weather['humidity'].std"
   ]
  },
  {
   "cell_type": "code",
   "execution_count": 23,
   "metadata": {},
   "outputs": [
    {
     "data": {
      "text/plain": [
       "{'partly-cloudy-day': 163,\n",
       " 'rain': 94,\n",
       " 'partly-cloudy-night': 48,\n",
       " 'clear-day': 21,\n",
       " 'snow': 6,\n",
       " 'fog': 5,\n",
       " 'cloudy': 4,\n",
       " 'wind': 4}"
      ]
     },
     "execution_count": 23,
     "metadata": {},
     "output_type": "execute_result"
    }
   ],
   "source": [
    "weather['icon'].unique"
   ]
  },
  {
   "cell_type": "code",
   "execution_count": 24,
   "metadata": {},
   "outputs": [
    {
     "data": {
      "text/plain": [
       "'partly-cloudy-day'"
      ]
     },
     "execution_count": 24,
     "metadata": {},
     "output_type": "execute_result"
    }
   ],
   "source": [
    "weather['icon'].top"
   ]
  },
  {
   "cell_type": "markdown",
   "metadata": {},
   "source": [
    "#### Local Statistics\n",
    "Numerical statistics like `min`, `max`, `mean`,  and `std` can also be retrieved for a slice of time. Note that these stats treat all values with equal weight, they are not time-weighted at this time. That means they work best with fixed interval events, e.g. meteorological data."
   ]
  },
  {
   "cell_type": "code",
   "execution_count": 29,
   "metadata": {},
   "outputs": [
    {
     "data": {
      "text/plain": [
       "{'categorical': {},\n",
       " 'numerical': {'max': 0.93,\n",
       "  'mean': 0.6963333333333331,\n",
       "  'count': 30,\n",
       "  'missing': 0,\n",
       "  'min': 0.4,\n",
       "  'std': 0.13241739997482319}}"
      ]
     },
     "execution_count": 29,
     "metadata": {},
     "output_type": "execute_result"
    }
   ],
   "source": [
    "weather['humidity'][datetime(2010,6,1):datetime(2010,7,1)]._stats"
   ]
  },
  {
   "cell_type": "markdown",
   "metadata": {},
   "source": [
    "## Values\n",
    "\n",
    "Streams aren't just collections of events; they also have encapsulate the temporal concept of having *values* at a point in time, where the collection of values at a point in time is the set of all paths paired with the value of that path when it was last set.\n",
    "\n",
    "\n",
    "---\n",
    "### Stream Values\n",
    "The `stream.values(at=)` method returns the latest values at a point in time as a dictionary of paths to values. Values set in the past will be forward-filled to this point in time."
   ]
  },
  {
   "cell_type": "code",
   "execution_count": 21,
   "metadata": {},
   "outputs": [
    {
     "data": {
      "text/plain": [
       "{('a', 'aa'): 1, 'b': False, ('a', 'bb', 'dd'): 'yes', ('a', 'bb', 'cc'): 8}"
      ]
     },
     "execution_count": 21,
     "metadata": {},
     "output_type": "execute_result"
    }
   ],
   "source": [
    "stream1 @ datetime(2015,1,1,1,1)      # or use stream1.values(at=...)"
   ]
  },
  {
   "cell_type": "markdown",
   "metadata": {},
   "source": [
    "---\n",
    "### Field Values\n",
    "A field's value at a point in time can be accessed via the `@` operator."
   ]
  },
  {
   "cell_type": "code",
   "execution_count": 22,
   "metadata": {},
   "outputs": [
    {
     "data": {
      "text/plain": [
       "83.42"
      ]
     },
     "execution_count": 22,
     "metadata": {},
     "output_type": "execute_result"
    }
   ],
   "source": [
    "weather['temperatureMax'] @ datetime(2010,6,1)     # or use weather['temperatureMax'].value(at=...)"
   ]
  },
  {
   "cell_type": "markdown",
   "metadata": {},
   "source": [
    "----\n",
    "### Time values (bounds)\n",
    "The left bound of a stream is the timestamp of the oldest event in the stream. The right bound of a stream is the timestamp of the newest event in the stream."
   ]
  },
  {
   "cell_type": "code",
   "execution_count": 59,
   "metadata": {},
   "outputs": [
    {
     "data": {
      "text/plain": [
       "(numpy.datetime64('2010-01-01T00:00:00'),\n",
       " numpy.datetime64('2010-12-11T00:00:00'))"
      ]
     },
     "execution_count": 59,
     "metadata": {},
     "output_type": "execute_result"
    }
   ],
   "source": [
    "weather.bounds"
   ]
  }
 ],
 "metadata": {
  "kernelspec": {
   "display_name": "Python 3",
   "language": "python",
   "name": "python3"
  },
  "language_info": {
   "codemirror_mode": {
    "name": "ipython",
    "version": 3
   },
   "file_extension": ".py",
   "mimetype": "text/x-python",
   "name": "python",
   "nbconvert_exporter": "python",
   "pygments_lexer": "ipython3",
   "version": "3.7.1"
  }
 },
 "nbformat": 4,
 "nbformat_minor": 2
}
