{
 "cells": [
  {
   "cell_type": "code",
   "execution_count": 5,
   "metadata": {},
   "outputs": [],
   "source": [
    "# Get credentials\n",
    "from IPython.utils import io\n",
    "with io.capture_output() as captured:\n",
    "    %run ../Introduction.ipynb"
   ]
  },
  {
   "cell_type": "markdown",
   "metadata": {},
   "source": [
    "# The Sentenai Client\n",
    "\n",
    "Sentenai's REST API is represented in Python by a Client class that takes a `host` and `auth_key`, representing user credentials. This client is organized such that sub-objects representing logical grouping of API endpoints are accessible from the client object. Additionally, helper methods and properties exist to help with debugging and other tasks."
   ]
  },
  {
   "cell_type": "code",
   "execution_count": 6,
   "metadata": {},
   "outputs": [],
   "source": [
    "# Instantiate client\n",
    "from sentenai import Client\n",
    "sentenai = Client(host, auth)"
   ]
  },
  {
   "cell_type": "markdown",
   "metadata": {},
   "source": [
    "---\n",
    "## Pinging a cluster\n",
    "\n",
    "Sometimes you aren't sure if it's the infrastructure or the network causing connectivity issues. To help with this, we provide a ping method that returns, as a `float`, the number of seconds it took to access the root endpoint of the cluster, which acts as a healthcheck. If the return is over .1, you might want to check your network."
   ]
  },
  {
   "cell_type": "code",
   "execution_count": 7,
   "metadata": {},
   "outputs": [
    {
     "data": {
      "text/plain": [
       "0.13475775718688965"
      ]
     },
     "execution_count": 7,
     "metadata": {},
     "output_type": "execute_result"
    }
   ],
   "source": [
    "sentenai.ping()"
   ]
  },
  {
   "cell_type": "markdown",
   "metadata": {},
   "source": [
    "### Sentenai is RESTful\n",
    "\n",
    "The equivalent of `Client.ping` is to call a `GET` request on the Python client. Each class in this client that subclasses `API` exposes `_VERB` methods that return responses (from the `requests` library). This can be really useful for accessing new endpoints or converting API calls from Python to raw REST."
   ]
  },
  {
   "cell_type": "code",
   "execution_count": 8,
   "metadata": {},
   "outputs": [
    {
     "data": {
      "text/plain": [
       "<Response [200]>"
      ]
     },
     "execution_count": 8,
     "metadata": {},
     "output_type": "execute_result"
    }
   ],
   "source": [
    "sentenai._get()"
   ]
  },
  {
   "cell_type": "markdown",
   "metadata": {},
   "source": [
    "### Turning on the client request debugger\n",
    "\n",
    "Sometimes it's really useful to have detailed insight into a failure. To achieve this we can turn on HTTP client debugging, but in practice turning debugging on/off manually is onerous. To make debugging easier, we've leveraged Python's `with` statement to make it easy to debug."
   ]
  },
  {
   "cell_type": "code",
   "execution_count": 9,
   "metadata": {},
   "outputs": [
    {
     "name": "stdout",
     "output_type": "stream",
     "text": [
      "parameters\n",
      "----------\n",
      "----------\n",
      "\n",
      "send: b'GET / HTTP/1.1\\r\\nHost: af.sentenai.net\\r\\nUser-Agent: python-requests/2.21.0\\r\\nAccept-Encoding: gzip, deflate\\r\\nAccept: */*\\r\\nConnection: keep-alive\\r\\nauth-key: 20520151013\\r\\n\\r\\n'\n",
      "reply: 'HTTP/1.1 200 OK\\r\\n'\n",
      "header: Transfer-Encoding: chunked\n",
      "header: Date: Mon, 22 Jul 2019 16:07:55 GMT\n",
      "header: Server: Warp/3.2.27\n",
      "header: Via: 1.1 google\n",
      "header: Alt-Svc: clear\n"
     ]
    }
   ],
   "source": [
    "with sentenai.debug:\n",
    "    sentenai.ping()"
   ]
  },
  {
   "cell_type": "markdown",
   "metadata": {},
   "source": [
    "## API Organization\n",
    "\n",
    "The API is logically grouped by functionality within the client, with all endpoints related to event streams in [`Client.streams`](Streams.ipynb), all endpointed to pattern search in [`Client.patterns`](Patterns.ipynb), and all edpoints related to data views in [`Client.views`](Views.ipynb)."
   ]
  }
 ],
 "metadata": {
  "kernelspec": {
   "display_name": "Python 3",
   "language": "python",
   "name": "python3"
  },
  "language_info": {
   "codemirror_mode": {
    "name": "ipython",
    "version": 3
   },
   "file_extension": ".py",
   "mimetype": "text/x-python",
   "name": "python",
   "nbconvert_exporter": "python",
   "pygments_lexer": "ipython3",
   "version": "3.7.1"
  }
 },
 "nbformat": 4,
 "nbformat_minor": 2
}
