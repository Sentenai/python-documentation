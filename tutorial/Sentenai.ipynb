{
 "cells": [
  {
   "cell_type": "code",
   "execution_count": 1,
   "metadata": {},
   "outputs": [],
   "source": [
    "# Get credentials\n",
    "from IPython.utils import io\n",
    "with io.capture_output() as captured:\n",
    "    %run ../Introduction.ipynb\n"
   ]
  },
  {
   "cell_type": "markdown",
   "metadata": {},
   "source": [
    "# The `Sentenai` Client\n",
    "\n",
    "Sentenai repositories all have a standard REST API that is exposed in Python through the `Sentenai` class. This class takes the host and port of the Sentenai repository you're trying to connect to.\n",
    "\n",
    "By default the Sentenai class tries to connect to `http://localhost:3333` if not `host` or `port` argument is provided."
   ]
  },
  {
   "cell_type": "code",
   "execution_count": 2,
   "metadata": {},
   "outputs": [],
   "source": [
    "# Instantiate client\n",
    "from datetime import datetime\n",
    "from sentenai import Sentenai\n",
    "\n",
    "sentenai = Sentenai(host=host, port=port)"
   ]
  },
  {
   "cell_type": "markdown",
   "metadata": {},
   "source": [
    "When you instantiate a `Sentenai` object, it will connect to the remote repository, returning an error if the connection cannot be made."
   ]
  },
  {
   "cell_type": "markdown",
   "metadata": {
    "tags": []
   },
   "source": [
    "## Stream Databases\n",
    "\n",
    "Every Sentenai repository contains a set of uniquely named stream databases. A stream database is a tree structured database of streams, connected by parent-child relationships. A `Stream` in Sentenai is analogous to a typed column in a relational database, and a group of children with the same parent node is equivalent to a table in a relational database. Instead of rows with primary keys, streams are related to each other by the time intervals over which each stream's values are valid.\n",
    "\n",
    "To initialize a stream database, we must choose its `origin`. An origin is the point of time at which this database starts. No data may be stored for intervals that precede this time. The default `origin` in Sentenai is the Unix Epoch. Sentenai represents time in nanoseconds, so a stream database initialized with the default `origin` will be able to represent time itervals between 1970 and ~2530.\n",
    "\n",
    "In addition to specifying the origin as a point in time, we can also choose to explicity specify a database be instantiated with no origin, by passing `None`. A stream with `no` origin uses nanosecond offsets from 0 instead of timestamps. This can be useful for data where the time reference is unknown, such as simulated data or predicted data."
   ]
  },
  {
   "cell_type": "code",
   "execution_count": 3,
   "metadata": {},
   "outputs": [
    {
     "data": {
      "text/plain": [
       "Database(Sentenai(host=\"http://storm:7280\"), \"test-db\")"
      ]
     },
     "execution_count": 3,
     "metadata": {},
     "output_type": "execute_result"
    }
   ],
   "source": [
    "sentenai.init('test-db')"
   ]
  },
  {
   "cell_type": "markdown",
   "metadata": {},
   "source": [
    "A newly initialized stream will have no information except its origin. We can look at the list of dbs in a repository by treating the `Sentenai` object as dict-like:"
   ]
  },
  {
   "cell_type": "code",
   "execution_count": 4,
   "metadata": {},
   "outputs": [
    {
     "name": "stdout",
     "output_type": "stream",
     "text": [
      ".apps\n",
      "acft\n",
      "acft2\n",
      "met\n",
      "q\n",
      "synth\n",
      "test\n",
      "test-2\n",
      "test-db\n",
      "testDB1\n",
      "testDBS\n"
     ]
    }
   ],
   "source": [
    "for db in sentenai:\n",
    "    print(db)"
   ]
  },
  {
   "cell_type": "markdown",
   "metadata": {},
   "source": [
    "Just as with a dictionary, we can access a db:"
   ]
  },
  {
   "cell_type": "code",
   "execution_count": 5,
   "metadata": {},
   "outputs": [],
   "source": [
    "test = sentenai['test-db']"
   ]
  },
  {
   "cell_type": "markdown",
   "metadata": {},
   "source": [
    "And we can delete a db via Python's `del` keyword:"
   ]
  },
  {
   "cell_type": "code",
   "execution_count": 6,
   "metadata": {},
   "outputs": [],
   "source": [
    "del sentenai['test-db']"
   ]
  },
  {
   "cell_type": "markdown",
   "metadata": {},
   "source": [
    "This action can be reverted, though the functionality is currently not exposed in the Python API."
   ]
  },
  {
   "cell_type": "markdown",
   "metadata": {},
   "source": [
    "For more information about working with stream databases, continue on to [Stream Databases](Databases.ipynb)."
   ]
  },
  {
   "cell_type": "markdown",
   "metadata": {},
   "source": [
    "## TSPL\n",
    "\n",
    "Sentenai provides generalized temporal data fusion capabilities through its TSPL stream processing language. This language is designed to be used by analysists and domain experts to model complex behavior across multiple sources of data.\n",
    "\n",
    "TSPL's syntax is SQL-like, in that many functions will perform similarly to SQL functions with the same name, but unlike SQL, TSPL is temporal rather than relational. That means that while there is some overlap in functionality, there are broad sets of transformations that you can do in TSPL but not SQL, and vice-versa.\n",
    "\n",
    "Since TSPL is central to working with data in Sentenai, executing TSPL is done directly through the `Sentenai` object:"
   ]
  },
  {
   "cell_type": "code",
   "execution_count": 7,
   "metadata": {},
   "outputs": [
    {
     "data": {
      "text/plain": [
       "'True when frequency(30s)'"
      ]
     },
     "execution_count": 7,
     "metadata": {},
     "output_type": "execute_result"
    }
   ],
   "source": [
    "sentenai('True when frequency(30s)')"
   ]
  },
  {
   "cell_type": "markdown",
   "metadata": {},
   "source": [
    "Executing this simple program can be done using python's slice functionality."
   ]
  },
  {
   "cell_type": "code",
   "execution_count": 8,
   "metadata": {},
   "outputs": [
    {
     "data": {
      "text/plain": [
       "[{'end': numpy.datetime64('2015-01-01T00:00:30.000000000'),\n",
       "  'start': numpy.datetime64('2015-01-01T00:00:00.000000000'),\n",
       "  'value': True},\n",
       " {'end': numpy.datetime64('2015-01-01T00:01:00.000000000'),\n",
       "  'start': numpy.datetime64('2015-01-01T00:00:30.000000000'),\n",
       "  'value': True},\n",
       " {'end': numpy.datetime64('2015-01-01T00:01:30.000000000'),\n",
       "  'start': numpy.datetime64('2015-01-01T00:01:00.000000000'),\n",
       "  'value': True},\n",
       " {'end': numpy.datetime64('2015-01-01T00:02:00.000000000'),\n",
       "  'start': numpy.datetime64('2015-01-01T00:01:30.000000000'),\n",
       "  'value': True},\n",
       " {'end': numpy.datetime64('2015-01-01T00:02:30.000000000'),\n",
       "  'start': numpy.datetime64('2015-01-01T00:02:00.000000000'),\n",
       "  'value': True}]"
      ]
     },
     "execution_count": 8,
     "metadata": {},
     "output_type": "execute_result"
    }
   ],
   "source": [
    "sentenai('True when frequency(30s) origin 2015-01-01T00:00')[datetime(2015,1,1) : datetime(2015,1,1,1,1) : 5]"
   ]
  },
  {
   "cell_type": "markdown",
   "metadata": {},
   "source": [
    "This prgram defined a stream of boolean values starting at origin `2015-01-01T00:00`, occuring on 30 second intervals.\n",
    "\n",
    "Ths slicing defines the start time of the computation, the stop time of the computation, and the maximum number of results to return."
   ]
  },
  {
   "cell_type": "markdown",
   "metadata": {},
   "source": [
    "We also can easily output this result to a dataframe using the `df` method on the `Sentenai` object:"
   ]
  },
  {
   "cell_type": "code",
   "execution_count": 9,
   "metadata": {
    "scrolled": true
   },
   "outputs": [
    {
     "data": {
      "text/html": [
       "<div>\n",
       "<style scoped>\n",
       "    .dataframe tbody tr th:only-of-type {\n",
       "        vertical-align: middle;\n",
       "    }\n",
       "\n",
       "    .dataframe tbody tr th {\n",
       "        vertical-align: top;\n",
       "    }\n",
       "\n",
       "    .dataframe thead th {\n",
       "        text-align: right;\n",
       "    }\n",
       "</style>\n",
       "<table border=\"1\" class=\"dataframe\">\n",
       "  <thead>\n",
       "    <tr style=\"text-align: right;\">\n",
       "      <th></th>\n",
       "      <th>start</th>\n",
       "      <th>end</th>\n",
       "      <th>duration</th>\n",
       "      <th>value</th>\n",
       "    </tr>\n",
       "  </thead>\n",
       "  <tbody>\n",
       "    <tr>\n",
       "      <th>0</th>\n",
       "      <td>2015-01-01 00:00:00</td>\n",
       "      <td>2015-01-01 00:00:30</td>\n",
       "      <td>0 days 00:00:30</td>\n",
       "      <td>True</td>\n",
       "    </tr>\n",
       "    <tr>\n",
       "      <th>1</th>\n",
       "      <td>2015-01-01 00:00:30</td>\n",
       "      <td>2015-01-01 00:01:00</td>\n",
       "      <td>0 days 00:00:30</td>\n",
       "      <td>True</td>\n",
       "    </tr>\n",
       "    <tr>\n",
       "      <th>2</th>\n",
       "      <td>2015-01-01 00:01:00</td>\n",
       "      <td>2015-01-01 00:01:30</td>\n",
       "      <td>0 days 00:00:30</td>\n",
       "      <td>True</td>\n",
       "    </tr>\n",
       "    <tr>\n",
       "      <th>3</th>\n",
       "      <td>2015-01-01 00:01:30</td>\n",
       "      <td>2015-01-01 00:02:00</td>\n",
       "      <td>0 days 00:00:30</td>\n",
       "      <td>True</td>\n",
       "    </tr>\n",
       "    <tr>\n",
       "      <th>4</th>\n",
       "      <td>2015-01-01 00:02:00</td>\n",
       "      <td>2015-01-01 00:02:30</td>\n",
       "      <td>0 days 00:00:30</td>\n",
       "      <td>True</td>\n",
       "    </tr>\n",
       "  </tbody>\n",
       "</table>\n",
       "</div>"
      ],
      "text/plain": [
       "                start                 end        duration  value\n",
       "0 2015-01-01 00:00:00 2015-01-01 00:00:30 0 days 00:00:30   True\n",
       "1 2015-01-01 00:00:30 2015-01-01 00:01:00 0 days 00:00:30   True\n",
       "2 2015-01-01 00:01:00 2015-01-01 00:01:30 0 days 00:00:30   True\n",
       "3 2015-01-01 00:01:30 2015-01-01 00:02:00 0 days 00:00:30   True\n",
       "4 2015-01-01 00:02:00 2015-01-01 00:02:30 0 days 00:00:30   True"
      ]
     },
     "execution_count": 9,
     "metadata": {},
     "output_type": "execute_result"
    }
   ],
   "source": [
    "sentenai.df('True when frequency(30s) origin 2015-01-01T00:00')[datetime(2015,1,1) : datetime(2015,1,1,1,1) : 5]"
   ]
  },
  {
   "cell_type": "markdown",
   "metadata": {},
   "source": [
    "For more information about writing and executing TSPL, continue on to [TSPL](TSPL.ipynb)"
   ]
  }
 ],
 "metadata": {
  "kernelspec": {
   "display_name": "Python 3 (ipykernel)",
   "language": "python",
   "name": "python3"
  },
  "language_info": {
   "codemirror_mode": {
    "name": "ipython",
    "version": 3
   },
   "file_extension": ".py",
   "mimetype": "text/x-python",
   "name": "python",
   "nbconvert_exporter": "python",
   "pygments_lexer": "ipython3",
   "version": "3.9.12"
  }
 },
 "nbformat": 4,
 "nbformat_minor": 4
}
