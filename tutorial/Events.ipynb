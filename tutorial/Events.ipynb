{
 "cells": [
  {
   "cell_type": "markdown",
   "metadata": {},
   "source": [
    "# Introduction to Events\n",
    "\n",
    "Events are the fundamental data object in Sentenai. In other words, everything else depends on Events. So what are events? Events are information about something that happened at some point in time. Defined more formally, an event:\n",
    "1. Has a timestamp representing the moment in time when the event started happening\n",
    "2. Has information associated with that event (we call this `data`)\n",
    "3. May have a duration\n",
    "4. May have a unique id tied to a particular collection, or stream, of events"
   ]
  },
  {
   "cell_type": "markdown",
   "metadata": {},
   "source": [
    "## Defining an Event\n",
    "\n",
    "Let's start by defining some events and looking at their properties."
   ]
  },
  {
   "cell_type": "code",
   "execution_count": 2,
   "metadata": {},
   "outputs": [],
   "source": [
    "from sentenai import Event\n",
    "from datetime import datetime, timedelta\n",
    "event0 = Event()\n",
    "event1 = Event(ts=datetime(2010,1,1), data={'a': 5})\n",
    "event2 = Event(ts=datetime(2011,1,1), data={'a': 7})\n",
    "event3 = Event(ts=datetime(2010, 12, 2), duration=timedelta(days=45), data={'a': 3, 'b': {'c': True}})\n",
    "event4 = Event(ts=datetime(2010, 12, 2), duration=timedelta(days=3), data={'a': 3, 'b': {'c': False}})\n"
   ]
  },
  {
   "cell_type": "markdown",
   "metadata": {},
   "source": [
    "Let's start by looking at `event0`. It's an empty event. No id, no timestamp, no data."
   ]
  },
  {
   "cell_type": "code",
   "execution_count": 14,
   "metadata": {},
   "outputs": [
    {
     "data": {
      "text/plain": [
       "Event()"
      ]
     },
     "execution_count": 14,
     "metadata": {},
     "output_type": "execute_result"
    }
   ],
   "source": [
    "event0"
   ]
  },
  {
   "cell_type": "markdown",
   "metadata": {},
   "source": [
    "Why is this a valid event? Because `duration` and `data` are optional, and `ts` and `id` can be automatically assigned when the event is added to a stream. In short, events only require a timestamp and id to be assigned when they are added to an ordered collection of events (an event stream). Just creating a new Event object in Python doesn't save it anywhere. It's only when assigned to a stream that this event is persisted. This allows us to build up events incrementally before storing them on the backend.\n",
    "\n",
    "### Ordering and equality: timestamp, then duration\n",
    "It can be useful to compare the ordering of two events in time, so the default behavior of comparison operations between events is to compare timestamp, then duration."
   ]
  },
  {
   "cell_type": "code",
   "execution_count": 16,
   "metadata": {},
   "outputs": [
    {
     "data": {
      "text/plain": [
       "[Event(ts=numpy.datetime64('2010-01-01T00:00:00.000000'), data={'a': 5}),\n",
       " Event(ts=numpy.datetime64('2010-12-02T00:00:00.000000'), duration=numpy.timedelta64(259200000000,'us'), data={'a': 3, 'b': {'c': False}}),\n",
       " Event(ts=numpy.datetime64('2010-12-02T00:00:00.000000'), duration=numpy.timedelta64(3888000000000,'us'), data={'a': 3, 'b': {'c': True}}),\n",
       " Event(ts=numpy.datetime64('2011-01-01T00:00:00.000000'), data={'a': 7})]"
      ]
     },
     "execution_count": 16,
     "metadata": {},
     "output_type": "execute_result"
    }
   ],
   "source": [
    "sorted([event1,event2,event3,event4])"
   ]
  },
  {
   "cell_type": "markdown",
   "metadata": {},
   "source": [
    "Events are considered equal if their timestamp and duration is the same. This does not mean events have identical data or ids. To check whether an event has the same id or same data, check directly on those properties:"
   ]
  },
  {
   "cell_type": "code",
   "execution_count": 19,
   "metadata": {},
   "outputs": [
    {
     "name": "stdout",
     "output_type": "stream",
     "text": [
      "Events are equal?\n",
      "\t1 & 2: True\n",
      "\t2 & 3: True\n",
      "Event ids are equal?\n",
      "\t1 & 2: True\n",
      "\t2 & 3: False\n",
      "Event data are equal?\n",
      "\t1 & 2: False\n",
      "\t2 & 3: True\n"
     ]
    }
   ],
   "source": [
    "eq1 = Event(id=\"33AG\", ts=datetime(2015,1,1,1), duration=timedelta(seconds=30), data={'a': 5, 'b': 6})\n",
    "eq2 = Event(id=\"33AG\", ts=datetime(2015,1,1,1), duration=timedelta(seconds=30), data={'a': 3, 'b': 6})\n",
    "eq3 = Event(id=\"23AF\", ts=datetime(2015,1,1,1), duration=timedelta(seconds=30), data={'a': 5, 'b': 6})\n",
    "\n",
    "\n",
    "print(\"Events are equal?\", \"\\t1 & 2: {}\".format(eq1 == eq2), \"\\t2 & 3: {}\".format(eq1 == eq3), sep='\\n')\n",
    "print(\"Event ids are equal?\", \"\\t1 & 2: {}\".format(eq1.id == eq2.id), \"\\t2 & 3: {}\".format(eq1.id == eq3.id), sep='\\n')\n",
    "print(\"Event data are equal?\", \"\\t1 & 2: {}\".format(eq1.data == eq2.data), \"\\t2 & 3: {}\".format(eq1.data == eq3.data), sep='\\n')"
   ]
  },
  {
   "cell_type": "markdown",
   "metadata": {},
   "source": [
    "### Changing Events\n",
    "\n",
    "Editing the properties of an event is supported, but will *not* result in any API calls to Sentenai. To persist a changed event, you must associate the update with a particular stream."
   ]
  },
  {
   "cell_type": "markdown",
   "metadata": {},
   "source": [
    "### Two Kinds of Time\n",
    "\n",
    "Events support two kinds of timestamps to handle cases of events that happen in both \"real time\" and \"virtual time\".\n",
    "\n",
    "The first kind of timestamp is the _datetime object_, which represents \"real time\" events, where the event corresponds to a known point in universal time. Events with real timestamps must be inserted into streams which are anchored to real time, with a point, called `t0`, representing the start of that stream's *epoch*.\n",
    "\n",
    "The second kind of timestamp is not a timestamp at all but a _signed integer_ representation of the number of nanoseconds since `0` that an event corresponds to in \"virtual timee\". These kinds of streams are useful for recording data where current time is not known and must be associated afterwards, as well as for recording data that has no basis in \"real time\", like a planned path."
   ]
  },
  {
   "cell_type": "code",
   "execution_count": 5,
   "metadata": {},
   "outputs": [
    {
     "name": "stdout",
     "output_type": "stream",
     "text": [
      "Event(ts=55)\n",
      "Event(ts=numpy.datetime64('2015-01-01T00:00:00.000000'))\n"
     ]
    }
   ],
   "source": [
    "virtual_time_event = Event(ts=55)\n",
    "real_time_event = Event(ts=datetime(2015,1,1))\n",
    "\n",
    "print(virtual_time_event, real_time_event, sep='\\n')"
   ]
  },
  {
   "cell_type": "markdown",
   "metadata": {},
   "source": [
    "### [Next chapter: Streams](Streams.ipynb)"
   ]
  }
 ],
 "metadata": {
  "kernelspec": {
   "display_name": "Python 3",
   "language": "python",
   "name": "python3"
  },
  "language_info": {
   "codemirror_mode": {
    "name": "ipython",
    "version": 3
   },
   "file_extension": ".py",
   "mimetype": "text/x-python",
   "name": "python",
   "nbconvert_exporter": "python",
   "pygments_lexer": "ipython3",
   "version": "3.7.1"
  }
 },
 "nbformat": 4,
 "nbformat_minor": 2
}
