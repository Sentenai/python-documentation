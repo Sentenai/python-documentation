{
 "cells": [
  {
   "cell_type": "code",
   "execution_count": 1,
   "metadata": {},
   "outputs": [],
   "source": [
    "# Get credentials\n",
    "from IPython.utils import io\n",
    "with io.capture_output() as captured:\n",
    "    %run ../Introduction.ipynb\n",
    "    \n",
    "# Instantiate client\n",
    "from sentenai import Client\n",
    "sentenai = Client(host, auth)"
   ]
  },
  {
   "cell_type": "markdown",
   "metadata": {},
   "source": [
    "## Pattern Search\n",
    "\n",
    "The pattern search API provides functionality to:\n",
    "1. Define patterns\n",
    "2. Save named patterns\n",
    "3. Search for new \"complex\" events defined by those patterns"
   ]
  },
  {
   "cell_type": "markdown",
   "metadata": {},
   "source": [
    "---\n",
    "### The patterns collection\n",
    "\n",
    "The patterns collection provided by `Client.patterns` is a dictionary-like repository of patterns."
   ]
  },
  {
   "cell_type": "code",
   "execution_count": 7,
   "metadata": {},
   "outputs": [
    {
     "data": {
      "text/plain": [
       "{'test-weather': API(Credentials(auth_key='20520151013', host='https://af.sentenai.net')).patterns['test-weather']}"
      ]
     },
     "execution_count": 7,
     "metadata": {},
     "output_type": "execute_result"
    }
   ],
   "source": [
    "dict(sentenai.patterns)"
   ]
  },
  {
   "cell_type": "markdown",
   "metadata": {},
   "source": [
    "---\n",
    "### Creating a new pattern\n",
    "\n",
    "Patterns can be created using a human-readable syntax."
   ]
  },
  {
   "cell_type": "code",
   "execution_count": 8,
   "metadata": {},
   "outputs": [
    {
     "data": {
      "text/plain": [
       "API(Credentials(auth_key='20520151013', host='https://af.sentenai.net')).patterns['test-weather']"
      ]
     },
     "execution_count": 8,
     "metadata": {},
     "output_type": "execute_result"
    }
   ],
   "source": [
    "sentenai.patterns.create(\"test-weather\", \"weather when temperatureMax > 80.0\", description=\"foo bar baz bat\")"
   ]
  },
  {
   "cell_type": "markdown",
   "metadata": {},
   "source": [
    "#### Searching for new events defined by a pattern\n",
    "\n",
    "Using the search method on a pattern finds events in time defined by that pattern. These events don't belong to any stream, but can be stored"
   ]
  },
  {
   "cell_type": "code",
   "execution_count": 5,
   "metadata": {},
   "outputs": [
    {
     "data": {
      "text/plain": [
       "[Event(ts=numpy.datetime64('2010-09-01T00:00:00'), duration=numpy.timedelta64(345600,'s'), data={'name': 'test-weather', 'pattern': \"weather when ('temperatureMax' > 80.0)\", 'description': ''}),\n",
       " Event(ts=numpy.datetime64('2010-09-07T00:00:00'), duration=numpy.timedelta64(172800,'s'), data={'name': 'test-weather', 'pattern': \"weather when ('temperatureMax' > 80.0)\", 'description': ''}),\n",
       " Event(ts=numpy.datetime64('2010-09-22T00:00:00'), duration=numpy.timedelta64(86400,'s'), data={'name': 'test-weather', 'pattern': \"weather when ('temperatureMax' > 80.0)\", 'description': ''}),\n",
       " Event(ts=numpy.datetime64('2010-09-24T00:00:00'), duration=numpy.timedelta64(172800,'s'), data={'name': 'test-weather', 'pattern': \"weather when ('temperatureMax' > 80.0)\", 'description': ''}),\n",
       " Event(ts=numpy.datetime64('2010-09-29T00:00:00'), duration=numpy.timedelta64(86400,'s'), data={'name': 'test-weather', 'pattern': \"weather when ('temperatureMax' > 80.0)\", 'description': ''})]"
      ]
     },
     "execution_count": 5,
     "metadata": {},
     "output_type": "execute_result"
    }
   ],
   "source": [
    "from datetime import datetime\n",
    "\n",
    "sentenai.patterns['test-weather'].search[datetime(2010,9,1):datetime(2010,10,1)]"
   ]
  },
  {
   "cell_type": "markdown",
   "metadata": {},
   "source": [
    "#### Limit the number of results"
   ]
  },
  {
   "cell_type": "code",
   "execution_count": 6,
   "metadata": {},
   "outputs": [
    {
     "data": {
      "text/plain": [
       "[Event(ts=numpy.datetime64('2010-09-01T00:00:00'), duration=numpy.timedelta64(345600,'s'), data={'name': 'test-weather', 'pattern': \"weather when ('temperatureMax' > 80.0)\", 'description': ''})]"
      ]
     },
     "execution_count": 6,
     "metadata": {},
     "output_type": "execute_result"
    }
   ],
   "source": [
    "sentenai.patterns['test-weather'].search[datetime(2010,9,1):datetime(2010,10,1):1]"
   ]
  },
  {
   "cell_type": "markdown",
   "metadata": {},
   "source": [
    "---\n",
    "### Search directly without creating a named pattern"
   ]
  },
  {
   "cell_type": "code",
   "execution_count": 7,
   "metadata": {},
   "outputs": [
    {
     "data": {
      "text/plain": [
       "[Event(ts=numpy.datetime64('2010-09-01T00:00:00'), duration=numpy.timedelta64(345600,'s'), data={'name': None, 'pattern': 'weather when temperatureMax > 80.0', 'description': None}),\n",
       " Event(ts=numpy.datetime64('2010-09-07T00:00:00'), duration=numpy.timedelta64(172800,'s'), data={'name': None, 'pattern': 'weather when temperatureMax > 80.0', 'description': None}),\n",
       " Event(ts=numpy.datetime64('2010-09-22T00:00:00'), duration=numpy.timedelta64(86400,'s'), data={'name': None, 'pattern': 'weather when temperatureMax > 80.0', 'description': None}),\n",
       " Event(ts=numpy.datetime64('2010-09-24T00:00:00'), duration=numpy.timedelta64(172800,'s'), data={'name': None, 'pattern': 'weather when temperatureMax > 80.0', 'description': None}),\n",
       " Event(ts=numpy.datetime64('2010-09-29T00:00:00'), duration=numpy.timedelta64(86400,'s'), data={'name': None, 'pattern': 'weather when temperatureMax > 80.0', 'description': None})]"
      ]
     },
     "execution_count": 7,
     "metadata": {},
     "output_type": "execute_result"
    }
   ],
   "source": [
    "sentenai.patterns(\"weather when temperatureMax > 80.0\").search[datetime(2010,9,1):datetime(2010,10,1)]"
   ]
  },
  {
   "cell_type": "markdown",
   "metadata": {},
   "source": [
    "Note the `patterns(...)` instead of `patterns[...]` for named patterns."
   ]
  },
  {
   "cell_type": "code",
   "execution_count": null,
   "metadata": {},
   "outputs": [],
   "source": []
  }
 ],
 "metadata": {
  "kernelspec": {
   "display_name": "Python 3",
   "language": "python",
   "name": "python3"
  },
  "language_info": {
   "codemirror_mode": {
    "name": "ipython",
    "version": 3
   },
   "file_extension": ".py",
   "mimetype": "text/x-python",
   "name": "python",
   "nbconvert_exporter": "python",
   "pygments_lexer": "ipython3",
   "version": "3.7.1"
  }
 },
 "nbformat": 4,
 "nbformat_minor": 2
}
