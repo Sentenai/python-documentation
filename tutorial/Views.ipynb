{
 "cells": [
  {
   "cell_type": "code",
   "execution_count": 1,
   "metadata": {},
   "outputs": [],
   "source": [
    "# Get credentials\n",
    "from IPython.utils import io\n",
    "with io.capture_output() as captured:\n",
    "    %run ../Introduction.ipynb\n",
    "    \n",
    "# Instantiate client\n",
    "from sentenai import Client\n",
    "sentenai = Client(host, auth)"
   ]
  },
  {
   "cell_type": "markdown",
   "metadata": {},
   "source": [
    "## Data Views\n",
    "\n",
    "The data view API provides functionality to:\n",
    "1. Define data views of one or more event streams\n",
    "2. Save named views\n",
    "3. Retrieve data in a shape defined by those views"
   ]
  },
  {
   "cell_type": "markdown",
   "metadata": {},
   "source": [
    "---\n",
    "### The views collection\n",
    "\n",
    "The views collection provided by `Client.views` is a dictionary-like repository of views."
   ]
  },
  {
   "cell_type": "code",
   "execution_count": 2,
   "metadata": {},
   "outputs": [
    {
     "data": {
      "text/plain": [
       "{'test-weather': API(Credentials(auth_key='20520151013', host='https://af.sentenai.net')).views['test-weather'],\n",
       " 'weather-temp': API(Credentials(auth_key='20520151013', host='https://af.sentenai.net')).views['weather-temp']}"
      ]
     },
     "execution_count": 2,
     "metadata": {},
     "output_type": "execute_result"
    }
   ],
   "source": [
    "dict(sentenai.views)"
   ]
  },
  {
   "cell_type": "markdown",
   "metadata": {},
   "source": [
    "---\n",
    "### Creating a new view\n",
    "\n",
    "Views can be created in Python with simple formulas."
   ]
  },
  {
   "cell_type": "code",
   "execution_count": 3,
   "metadata": {},
   "outputs": [
    {
     "data": {
      "text/plain": [
       "API(Credentials(auth_key='20520151013', host='https://af.sentenai.net')).views['test-weather']"
      ]
     },
     "execution_count": 3,
     "metadata": {},
     "output_type": "execute_result"
    }
   ],
   "source": [
    "weather = sentenai.streams['weather']\n",
    "sentenai.views.create(\"test-weather\", {\n",
    "    'temp_c': (weather['temperatureMax'] - 32) * 5/9,\n",
    "    'humidity': weather['humidity']\n",
    "})"
   ]
  },
  {
   "cell_type": "markdown",
   "metadata": {},
   "source": [
    "#### Retrieve data from a view\n",
    "\n",
    "Using the data property of a view allows you to select a window of data within that view. We use slicing syntax to define that window."
   ]
  },
  {
   "cell_type": "code",
   "execution_count": 4,
   "metadata": {},
   "outputs": [
    {
     "data": {
      "text/plain": [
       "[{'ts': numpy.datetime64('2010-09-01T00:00:00'),\n",
       "  'temp_c': 33.48888888888889,\n",
       "  'humidity': 0.57},\n",
       " {'ts': numpy.datetime64('2010-09-02T00:00:00'),\n",
       "  'temp_c': 34.48888888888889,\n",
       "  'humidity': 0.57},\n",
       " {'ts': numpy.datetime64('2010-09-03T00:00:00'),\n",
       "  'temp_c': 27.549999999999997,\n",
       "  'humidity': 0.77}]"
      ]
     },
     "execution_count": 4,
     "metadata": {},
     "output_type": "execute_result"
    }
   ],
   "source": [
    "from datetime import datetime\n",
    "sentenai.views['test-weather'].data[datetime(2010,9,1):datetime(2010,9,4)]"
   ]
  },
  {
   "cell_type": "markdown",
   "metadata": {},
   "source": [
    "#### Limit the number of results"
   ]
  },
  {
   "cell_type": "code",
   "execution_count": 5,
   "metadata": {},
   "outputs": [
    {
     "data": {
      "text/plain": [
       "[{'ts': numpy.datetime64('2010-09-01T00:00:00'),\n",
       "  'temp_c': 33.48888888888889,\n",
       "  'humidity': 0.57}]"
      ]
     },
     "execution_count": 5,
     "metadata": {},
     "output_type": "execute_result"
    }
   ],
   "source": [
    "sentenai.views['test-weather'].data[datetime(2010,9,1):datetime(2010,10,1):1]"
   ]
  },
  {
   "cell_type": "markdown",
   "metadata": {},
   "source": [
    "---\n",
    "### Get data directly without creating a named view\n",
    "Note that instead of using a dictionary, when creating an anonymous view you instead use keyword arguments and, in the case of wanting to directly get a field without changing its name, you may put that field directly into the arguments list. Just remember all keyword arguments must come after all non-keyword arguments.\n",
    "\n",
    "Also note that anonymous views are referenced using `(..)` instead of `[..]`."
   ]
  },
  {
   "cell_type": "code",
   "execution_count": 6,
   "metadata": {},
   "outputs": [
    {
     "data": {
      "text/plain": [
       "[{'ts': numpy.datetime64('2010-09-01T00:00:00'),\n",
       "  'temp_c': 33.48888888888889,\n",
       "  'humidity': 0.57},\n",
       " {'ts': numpy.datetime64('2010-09-02T00:00:00'),\n",
       "  'temp_c': 34.48888888888889,\n",
       "  'humidity': 0.57},\n",
       " {'ts': numpy.datetime64('2010-09-03T00:00:00'),\n",
       "  'temp_c': 27.549999999999997,\n",
       "  'humidity': 0.77},\n",
       " {'ts': numpy.datetime64('2010-09-04T00:00:00'),\n",
       "  'temp_c': 28.01111111111111,\n",
       "  'humidity': 0.62},\n",
       " {'ts': numpy.datetime64('2010-09-05T00:00:00'),\n",
       "  'temp_c': 23.333333333333332,\n",
       "  'humidity': 0.5},\n",
       " {'ts': numpy.datetime64('2010-09-06T00:00:00'),\n",
       "  'temp_c': 24.694444444444443,\n",
       "  'humidity': 0.53},\n",
       " {'ts': numpy.datetime64('2010-09-07T00:00:00'),\n",
       "  'temp_c': 29.099999999999998,\n",
       "  'humidity': 0.65},\n",
       " {'ts': numpy.datetime64('2010-09-08T00:00:00'),\n",
       "  'temp_c': 27.705555555555556,\n",
       "  'humidity': 0.7},\n",
       " {'ts': numpy.datetime64('2010-09-09T00:00:00'),\n",
       "  'temp_c': 21.794444444444444,\n",
       "  'humidity': 0.63},\n",
       " {'ts': numpy.datetime64('2010-09-10T00:00:00'),\n",
       "  'temp_c': 20.200000000000003,\n",
       "  'humidity': 0.61},\n",
       " {'ts': numpy.datetime64('2010-09-11T00:00:00'),\n",
       "  'temp_c': 19.927777777777777,\n",
       "  'humidity': 0.67},\n",
       " {'ts': numpy.datetime64('2010-09-12T00:00:00'),\n",
       "  'temp_c': 16.644444444444446,\n",
       "  'humidity': 0.76},\n",
       " {'ts': numpy.datetime64('2010-09-13T00:00:00'),\n",
       "  'temp_c': 19.08888888888889,\n",
       "  'humidity': 0.77},\n",
       " {'ts': numpy.datetime64('2010-09-14T00:00:00'),\n",
       "  'temp_c': 23.233333333333334,\n",
       "  'humidity': 0.68},\n",
       " {'ts': numpy.datetime64('2010-09-15T00:00:00'),\n",
       "  'temp_c': 19.494444444444444,\n",
       "  'humidity': 0.56},\n",
       " {'ts': numpy.datetime64('2010-09-16T00:00:00'),\n",
       "  'temp_c': 20.355555555555554,\n",
       "  'humidity': 0.66},\n",
       " {'ts': numpy.datetime64('2010-09-17T00:00:00'),\n",
       "  'temp_c': 20.383333333333333,\n",
       "  'humidity': 0.89},\n",
       " {'ts': numpy.datetime64('2010-09-18T00:00:00'),\n",
       "  'temp_c': 17.605555555555554,\n",
       "  'humidity': 0.8},\n",
       " {'ts': numpy.datetime64('2010-09-19T00:00:00'),\n",
       "  'temp_c': 20.938888888888886,\n",
       "  'humidity': 0.77},\n",
       " {'ts': numpy.datetime64('2010-09-20T00:00:00'),\n",
       "  'temp_c': 20.694444444444443,\n",
       "  'humidity': 0.54},\n",
       " {'ts': numpy.datetime64('2010-09-21T00:00:00'),\n",
       "  'temp_c': 21.83888888888889,\n",
       "  'humidity': 0.5},\n",
       " {'ts': numpy.datetime64('2010-09-22T00:00:00'),\n",
       "  'temp_c': 29.84444444444445,\n",
       "  'humidity': 0.66},\n",
       " {'ts': numpy.datetime64('2010-09-23T00:00:00'),\n",
       "  'temp_c': 23.938888888888886,\n",
       "  'humidity': 0.64},\n",
       " {'ts': numpy.datetime64('2010-09-24T00:00:00'),\n",
       "  'temp_c': 28.055555555555557,\n",
       "  'humidity': 0.74},\n",
       " {'ts': numpy.datetime64('2010-09-25T00:00:00'),\n",
       "  'temp_c': 30.355555555555554,\n",
       "  'humidity': 0.63},\n",
       " {'ts': numpy.datetime64('2010-09-26T00:00:00'),\n",
       "  'temp_c': 20.677777777777777,\n",
       "  'humidity': 0.74},\n",
       " {'ts': numpy.datetime64('2010-09-27T00:00:00'),\n",
       "  'temp_c': 17.98888888888889,\n",
       "  'humidity': 0.93},\n",
       " {'ts': numpy.datetime64('2010-09-28T00:00:00'),\n",
       "  'temp_c': 24.91111111111111,\n",
       "  'humidity': 0.91},\n",
       " {'ts': numpy.datetime64('2010-09-29T00:00:00'),\n",
       "  'temp_c': 27.694444444444443,\n",
       "  'humidity': 0.74},\n",
       " {'ts': numpy.datetime64('2010-09-30T00:00:00'),\n",
       "  'temp_c': 26.561111111111114,\n",
       "  'humidity': 0.84}]"
      ]
     },
     "execution_count": 6,
     "metadata": {},
     "output_type": "execute_result"
    }
   ],
   "source": [
    "sentenai.views(\n",
    "    weather['humidity'],\n",
    "    temp_c = (weather['temperatureMax'] - 32) * 5/9,\n",
    ").data[datetime(2010,9,1):datetime(2010,10,1)]"
   ]
  }
 ],
 "metadata": {
  "kernelspec": {
   "display_name": "Python 3",
   "language": "python",
   "name": "python3"
  },
  "language_info": {
   "codemirror_mode": {
    "name": "ipython",
    "version": 3
   },
   "file_extension": ".py",
   "mimetype": "text/x-python",
   "name": "python",
   "nbconvert_exporter": "python",
   "pygments_lexer": "ipython3",
   "version": "3.7.1"
  }
 },
 "nbformat": 4,
 "nbformat_minor": 2
}
