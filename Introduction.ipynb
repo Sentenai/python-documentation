{
 "cells": [
  {
   "cell_type": "markdown",
   "metadata": {},
   "source": [
    "# Introduction to Sentenai\n",
    "\n",
    "This repository of Jupyter notebooks has several purposes:\n",
    "\n",
    "1. Provide introduction to the Sentenai data platform and its general concepts.\n",
    "1. Provide an executable tutorial for py-sentenai, the Sentenai Python client library.\n",
    "1. Provide comprehensive library documentation in an executable format.\n",
    "1. Provide executable \"recipes\" covering common use cases\n",
    "\n",
    "Because this is a work in progress, you should update regularly at https://github.com/sentenai/sentenai-documentation.\n",
    "\n",
    "---\n",
    "## Changelog\n",
    "\n",
    "### v0.2\n",
    "* Add updates to take into account virtual streams\n",
    "* Document separation of stream creation from event logging.\n",
    "\n",
    "### v0.1\n",
    "Re-organize tutorial sections into smaller components, provide a global index in Introduction."
   ]
  },
  {
   "cell_type": "markdown",
   "metadata": {},
   "source": [
    "---\n",
    "## Installation\n",
    "\n",
    "Installing Sentenai can be done through PIP, the python package manager. Execute the following code to install or upgrade your `py-sentenai` installation."
   ]
  },
  {
   "cell_type": "code",
   "execution_count": 1,
   "metadata": {},
   "outputs": [
    {
     "name": "stdout",
     "output_type": "stream",
     "text": [
      "Collecting sentenai\n",
      "  Downloading https://files.pythonhosted.org/packages/31/25/e6d1bbdd27783694bc024ce86db3bb6bea3974d2c2c2ff8b48c259ed0755/sentenai-1.0.1.0.tar.gz\n",
      "Requirement already satisfied, skipping upgrade: dateutils in /anaconda3/lib/python3.7/site-packages (from sentenai) (0.6.6)\n",
      "Requirement already satisfied, skipping upgrade: pytz in /anaconda3/lib/python3.7/site-packages (from sentenai) (2018.7)\n",
      "Requirement already satisfied, skipping upgrade: requests in /anaconda3/lib/python3.7/site-packages (from sentenai) (2.21.0)\n",
      "Requirement already satisfied, skipping upgrade: shapely in /anaconda3/lib/python3.7/site-packages (from sentenai) (1.6.4.post2)\n",
      "Requirement already satisfied, skipping upgrade: simplejson in /anaconda3/lib/python3.7/site-packages (from sentenai) (3.16.0)\n",
      "Requirement already satisfied, skipping upgrade: numpy in /anaconda3/lib/python3.7/site-packages (from sentenai) (1.16.4)\n",
      "Requirement already satisfied, skipping upgrade: python-dateutil in /anaconda3/lib/python3.7/site-packages (from dateutils->sentenai) (2.7.5)\n",
      "Requirement already satisfied, skipping upgrade: argparse in /anaconda3/lib/python3.7/site-packages (from dateutils->sentenai) (1.4.0)\n",
      "Requirement already satisfied, skipping upgrade: certifi>=2017.4.17 in /anaconda3/lib/python3.7/site-packages (from requests->sentenai) (2018.11.29)\n",
      "Requirement already satisfied, skipping upgrade: urllib3<1.25,>=1.21.1 in /anaconda3/lib/python3.7/site-packages (from requests->sentenai) (1.24.1)\n",
      "Requirement already satisfied, skipping upgrade: chardet<3.1.0,>=3.0.2 in /anaconda3/lib/python3.7/site-packages (from requests->sentenai) (3.0.4)\n",
      "Requirement already satisfied, skipping upgrade: idna<2.9,>=2.5 in /anaconda3/lib/python3.7/site-packages (from requests->sentenai) (2.8)\n",
      "Requirement already satisfied, skipping upgrade: six>=1.5 in /anaconda3/lib/python3.7/site-packages (from python-dateutil->dateutils->sentenai) (1.12.0)\n",
      "Building wheels for collected packages: sentenai\n",
      "  Running setup.py bdist_wheel for sentenai ... \u001b[?25ldone\n",
      "\u001b[?25h  Stored in directory: /Users/ghc/Library/Caches/pip/wheels/ee/c0/de/7a7a8e76ba2d773711c420885287ec35398f90eacbfc74a05d\n",
      "Successfully built sentenai\n",
      "Installing collected packages: sentenai\n",
      "  Found existing installation: sentenai 1.0.0.3\n",
      "    Uninstalling sentenai-1.0.0.3:\n",
      "      Successfully uninstalled sentenai-1.0.0.3\n",
      "Successfully installed sentenai-1.0.1.0\n"
     ]
    }
   ],
   "source": [
    "# Install a pip package in the current Jupyter kernel\n",
    "import sys\n",
    "!{sys.executable} -m pip install --user --upgrade sentenai"
   ]
  },
  {
   "cell_type": "markdown",
   "metadata": {},
   "source": [
    "---\n",
    "## Setup: Credentials\n",
    "\n",
    "You need to set your credentials correctly in this notebook for the other notebooks to function correctly. These variables are copied into all other notebooks, so make sure to set them correctly to your actual host and api key."
   ]
  },
  {
   "cell_type": "code",
   "execution_count": 3,
   "metadata": {},
   "outputs": [],
   "source": [
    "host = \"https://af.sentenai.net\"\n",
    "auth = \"\""
   ]
  },
  {
   "cell_type": "markdown",
   "metadata": {},
   "source": [
    "---\n",
    "## Getting Started: Sentenai Tutorial\n",
    "\n",
    "The tutorial is quick introduction to py-sentenai and includes most common functionality.\n",
    "\n",
    "### [The Sentenai Client](tutorial/Client.ipynb)\n",
    "Learn how to instantiate the Sentenai client, as well as the basic API organization.\n",
    "\n",
    "### [Introduction to Events](tutorial/Events.ipynb)\n",
    "Learn about Sentenai's concept of Events and how to create them.\n",
    "\n",
    "### [Event Streams](tutorial/Streams.ipynb)\n",
    "Learn about streams of events, their schemas, and data management.\n",
    "\n",
    "### [Pattern Search](tutorial/Patterns.ipynb)\n",
    "Once you've created some streams of events, learn how to define basic patterns and use pattern search to find events matching those patterns.\n",
    "\n",
    "### [Data Views](tutorial/Views.ipynb)\n",
    "Learn how to reshape, process and retrieve data with data views.\n",
    "\n",
    "### [Bulk loading](tutorial/Async.ipynb)\n",
    "Learn how to take advantage of Sentenai's parallelism to load data faster in Python."
   ]
  },
  {
   "cell_type": "markdown",
   "metadata": {},
   "source": [
    "---\n",
    "## Guide to Sentenai concepts\n",
    "\n",
    "#### COMING SOON"
   ]
  },
  {
   "cell_type": "markdown",
   "metadata": {},
   "source": [
    "---\n",
    "## Sentenai Library Documentation\n",
    "\n",
    "#### COMING SOON"
   ]
  },
  {
   "cell_type": "markdown",
   "metadata": {},
   "source": [
    "---\n",
    "## Sentenai Cookbook\n",
    "\n",
    "#### COMING SOON"
   ]
  },
  {
   "cell_type": "code",
   "execution_count": null,
   "metadata": {},
   "outputs": [],
   "source": []
  }
 ],
 "metadata": {
  "kernelspec": {
   "display_name": "Python 3",
   "language": "python",
   "name": "python3"
  },
  "language_info": {
   "codemirror_mode": {
    "name": "ipython",
    "version": 3
   },
   "file_extension": ".py",
   "mimetype": "text/x-python",
   "name": "python",
   "nbconvert_exporter": "python",
   "pygments_lexer": "ipython3",
   "version": "3.7.1"
  }
 },
 "nbformat": 4,
 "nbformat_minor": 2
}
