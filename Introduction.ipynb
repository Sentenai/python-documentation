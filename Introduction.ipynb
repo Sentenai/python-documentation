{
 "cells": [
  {
   "cell_type": "markdown",
   "metadata": {},
   "source": [
    "# Introduction to Sentenai\n",
    "\n",
    "This repository of Jupyter notebooks has several purposes:\n",
    "\n",
    "1. Provide introduction to the Sentenai data platform and its general concepts.\n",
    "1. Provide an executable tutorial for py-sentenai, the Sentenai Python client library.\n",
    "1. Provide comprehensive library documentation in an executable format.\n",
    "1. Provide executable \"recipes\" covering common use cases\n",
    "\n",
    "Because this is a work in progress, you should update regularly at https://github.com/sentenai/sentenai-documentation.\n",
    "\n",
    "---\n",
    "## Changelog\n",
    "\n",
    "### v0.1\n",
    "Re-organize tutorial sections into smaller components, provide a global index in Introduction."
   ]
  },
  {
   "cell_type": "markdown",
   "metadata": {},
   "source": [
    "---\n",
    "## Installation\n",
    "\n",
    "Installing Sentenai can be done through PIP, the python package manager. Execute the following code to install or upgrade your `py-sentenai` installation."
   ]
  },
  {
   "cell_type": "code",
   "execution_count": 1,
   "metadata": {},
   "outputs": [
    {
     "name": "stdout",
     "output_type": "stream",
     "text": [
      "Requirement already satisfied: sentenai in /anaconda3/lib/python3.7/site-packages (0.99.2.1)\n",
      "Requirement already satisfied: pandas in /anaconda3/lib/python3.7/site-packages (from sentenai) (0.23.4)\n",
      "Requirement already satisfied: pytz in /anaconda3/lib/python3.7/site-packages (from sentenai) (2018.7)\n",
      "Requirement already satisfied: shapely in /anaconda3/lib/python3.7/site-packages (from sentenai) (1.6.4.post2)\n",
      "Requirement already satisfied: dateutils in /anaconda3/lib/python3.7/site-packages (from sentenai) (0.6.6)\n",
      "Requirement already satisfied: virtualtime in /anaconda3/lib/python3.7/site-packages (from sentenai) (1.6)\n",
      "Requirement already satisfied: requests in /anaconda3/lib/python3.7/site-packages (from sentenai) (2.21.0)\n",
      "Requirement already satisfied: scipy in /anaconda3/lib/python3.7/site-packages (from sentenai) (1.1.0)\n",
      "Requirement already satisfied: simplejson in /anaconda3/lib/python3.7/site-packages (from sentenai) (3.16.0)\n",
      "Requirement already satisfied: python-dateutil>=2.5.0 in /anaconda3/lib/python3.7/site-packages (from pandas->sentenai) (2.7.5)\n",
      "Requirement already satisfied: numpy>=1.9.0 in /anaconda3/lib/python3.7/site-packages (from pandas->sentenai) (1.16.4)\n",
      "Requirement already satisfied: argparse in /anaconda3/lib/python3.7/site-packages (from dateutils->sentenai) (1.4.0)\n",
      "Requirement already satisfied: python-datetime-tz>=0.5 in /anaconda3/lib/python3.7/site-packages (from virtualtime->sentenai) (0.5.3)\n",
      "Requirement already satisfied: idna<2.9,>=2.5 in /anaconda3/lib/python3.7/site-packages (from requests->sentenai) (2.8)\n",
      "Requirement already satisfied: chardet<3.1.0,>=3.0.2 in /anaconda3/lib/python3.7/site-packages (from requests->sentenai) (3.0.4)\n",
      "Requirement already satisfied: certifi>=2017.4.17 in /anaconda3/lib/python3.7/site-packages (from requests->sentenai) (2018.11.29)\n",
      "Requirement already satisfied: urllib3<1.25,>=1.21.1 in /anaconda3/lib/python3.7/site-packages (from requests->sentenai) (1.24.1)\n",
      "Requirement already satisfied: six>=1.5 in /anaconda3/lib/python3.7/site-packages (from python-dateutil>=2.5.0->pandas->sentenai) (1.12.0)\n"
     ]
    }
   ],
   "source": [
    "# Install a pip package in the current Jupyter kernel\n",
    "import sys\n",
    "!{sys.executable} -m pip install sentenai"
   ]
  },
  {
   "cell_type": "markdown",
   "metadata": {},
   "source": [
    "---\n",
    "## Setup: Credentials\n",
    "\n",
    "You need to set your credentials correctly in this notebook for the other notebooks to function correctly. These variables are copied into all other notebooks, so make sure to set them correctly to your actual host and api key."
   ]
  },
  {
   "cell_type": "code",
   "execution_count": 2,
   "metadata": {},
   "outputs": [],
   "source": [
    "host = \"https://af.sentenai.net\"\n",
    "auth = \"20520151013\""
   ]
  },
  {
   "cell_type": "markdown",
   "metadata": {},
   "source": [
    "---\n",
    "## Getting Started: Sentenai Tutorial\n",
    "\n",
    "The tutorial is quick introduction to py-sentenai and includes most common functionality.\n",
    "\n",
    "### [The Sentenai Client](tutorial/Client.ipynb)\n",
    "Learn how to instantiate the Sentenai client, as well as the basic API organization.\n",
    "\n",
    "### [Introduction to Events](tutorial/Events.ipynb)\n",
    "Learn about Sentenai's concept of Events and how to create them.\n",
    "\n",
    "### [Event Streams](tutorial/Streams.ipynb)\n",
    "Learn about streams of events, their schemas, and data management.\n",
    "\n",
    "### [Pattern Search](tutorial/Patterns.ipynb)\n",
    "Once you've created some streams of events, learn how to define basic patterns and use pattern search to find events matching those patterns.\n",
    "\n",
    "### [Data Views](tutorial/Views.ipynb)\n",
    "Learn how to reshape, process and retrieve data with data views.\n",
    "\n",
    "### [Bulk loading](tutorial/Async.ipynb)\n",
    "Learn how to take advantage of Sentenai's parallelism to load data faster in Python."
   ]
  },
  {
   "cell_type": "markdown",
   "metadata": {},
   "source": [
    "---\n",
    "## Guide to Sentenai concepts\n",
    "\n",
    "#### COMING SOON"
   ]
  },
  {
   "cell_type": "markdown",
   "metadata": {},
   "source": [
    "---\n",
    "## Sentenai Library Documentation\n",
    "\n",
    "#### COMING SOON"
   ]
  },
  {
   "cell_type": "markdown",
   "metadata": {},
   "source": [
    "---\n",
    "## Sentenai Cookbook\n",
    "\n",
    "#### COMING SOON"
   ]
  }
 ],
 "metadata": {
  "kernelspec": {
   "display_name": "Python 3",
   "language": "python",
   "name": "python3"
  },
  "language_info": {
   "codemirror_mode": {
    "name": "ipython",
    "version": 3
   },
   "file_extension": ".py",
   "mimetype": "text/x-python",
   "name": "python",
   "nbconvert_exporter": "python",
   "pygments_lexer": "ipython3",
   "version": "3.7.1"
  }
 },
 "nbformat": 4,
 "nbformat_minor": 2
}
