{
 "cells": [
  {
   "cell_type": "markdown",
   "metadata": {
    "tags": []
   },
   "source": [
    "# Introduction to Sentenai\n",
    "\n",
    "This repository of Jupyter notebooks has several purposes:\n",
    "\n",
    "1. Provide introduction to the Sentenai data platform and its general concepts.\n",
    "1. Provide an executable tutorial for py-sentenai, the Sentenai Python client library.\n",
    "1. Provide comprehensive library documentation in an executable format.\n",
    "1. Provide executable \"recipes\" covering common use cases\n",
    "\n",
    "Because this is a work in progress, you should update regularly at https://github.com/sentenai/sentenai-documentation.\n",
    "\n",
    "---\n",
    "## Changelog\n",
    "\n",
    "### v.0.4\n",
    "* Add dataframe assignment\n",
    "* Add direct indexing\n",
    "* Disable logging interface\n",
    "\n",
    "### v.0.3\n",
    "* Support for new library\n",
    "* Support for stream graph / databases\n",
    "* Add TSPL tutorial\n",
    "\n",
    "### v0.2\n",
    "* Add updates to take into account virtual streams\n",
    "* Document separation of stream creation from event logging.\n",
    "\n",
    "### v0.1\n",
    "Re-organize tutorial sections into smaller components, provide a global index in Introduction."
   ]
  },
  {
   "cell_type": "markdown",
   "metadata": {},
   "source": [
    "---\n",
    "## Installation\n",
    "\n",
    "Installing Sentenai can be done through PIP, the python package manager. Execute the following code to install or upgrade your `py-sentenai` installation."
   ]
  },
  {
   "cell_type": "code",
   "execution_count": 7,
   "metadata": {},
   "outputs": [
    {
     "name": "stdout",
     "output_type": "stream",
     "text": [
      "sentenai installed!\n"
     ]
    }
   ],
   "source": [
    "# Install a pip package in the current Jupyter kernel\n",
    "try:\n",
    "    import sentenai\n",
    "    print(\"sentenai installed!\")\n",
    "except ImportError:\n",
    "    print(\"sentenai not installed. Installing...\")\n",
    "    import sys\n",
    "    !{sys.executable} -m pip install --user --upgrade sentenai"
   ]
  },
  {
   "cell_type": "markdown",
   "metadata": {
    "tags": []
   },
   "source": [
    "---\n",
    "## Setup: Credentials\n",
    "\n",
    "You need to set your credentials correctly in this notebook for the other notebooks to function correctly. These variables are copied into all other notebooks, so make sure to set them correctly to your actual host and api key."
   ]
  },
  {
   "cell_type": "code",
   "execution_count": 1,
   "metadata": {},
   "outputs": [],
   "source": [
    "host = 'localhost' # Use default: localhost\n",
    "port = 7280 # Use default port"
   ]
  },
  {
   "cell_type": "markdown",
   "metadata": {},
   "source": [
    "---\n",
    "## Getting Started: Sentenai Tutorial\n",
    "\n",
    "The tutorial is quick introduction to py-sentenai and includes most common functionality.\n",
    "\n",
    "### [The Sentenai Client](tutorial/Sentenai.ipynb)\n",
    "Learn how to instantiate the Sentenai client, as well as the basic API organization.\n",
    "\n",
    "### [Introduction to Stream Databases](tutorial/Databases.ipynb)\n",
    "Learn about Stream Databases and the Stream Graph.\n",
    "\n",
    "### [Event and Value Streams](tutorial/Streams.ipynb)\n",
    "Learn about streams of events, values, their schemas, and data management.\n",
    "\n",
    "### [TSPL](tutorial/TSPL.ipynb)\n",
    "Learn about using Sentenai's Temporal Stream Processing Language to find patterns in data and perform multi-source temporal data fusion."
   ]
  },
  {
   "cell_type": "markdown",
   "metadata": {},
   "source": [
    "---\n",
    "## Guide to Sentenai concepts\n",
    "\n",
    "#### COMING SOON"
   ]
  },
  {
   "cell_type": "markdown",
   "metadata": {},
   "source": [
    "---\n",
    "## Sentenai Library Documentation\n",
    "\n",
    "#### COMING SOON"
   ]
  },
  {
   "cell_type": "markdown",
   "metadata": {},
   "source": [
    "---\n",
    "## Sentenai Cookbook\n",
    "\n",
    "#### COMING SOON"
   ]
  },
  {
   "cell_type": "code",
   "execution_count": null,
   "metadata": {},
   "outputs": [],
   "source": []
  }
 ],
 "metadata": {
  "kernelspec": {
   "display_name": "Python 3 (ipykernel)",
   "language": "python",
   "name": "python3"
  },
  "language_info": {
   "codemirror_mode": {
    "name": "ipython",
    "version": 3
   },
   "file_extension": ".py",
   "mimetype": "text/x-python",
   "name": "python",
   "nbconvert_exporter": "python",
   "pygments_lexer": "ipython3",
   "version": "3.9.12"
  }
 },
 "nbformat": 4,
 "nbformat_minor": 4
}
